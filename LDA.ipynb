{
  "cells": [
    {
      "cell_type": "code",
      "execution_count": 295,
      "id": "qJpglWsvbuYp",
      "metadata": {
        "colab": {
          "base_uri": "https://localhost:8080/"
        },
        "id": "qJpglWsvbuYp",
        "outputId": "2871d6d6-8be2-4c5e-9fbb-798033f3ab84"
      },
      "outputs": [
        {
          "output_type": "stream",
          "name": "stdout",
          "text": [
            "Drive already mounted at /content/drive; to attempt to forcibly remount, call drive.mount(\"/content/drive\", force_remount=True).\n"
          ]
        }
      ],
      "source": [
        "from google.colab import drive\n",
        "drive.mount('/content/drive')"
      ]
    },
    {
      "cell_type": "code",
      "source": [
        "#install GSDMM/vaderSentiment\n",
        "!pip install git+https://github.com/rwalk/gsdmm.git\n",
        "!pip install vaderSentiment"
      ],
      "metadata": {
        "id": "gAzH70ps2z7Q",
        "outputId": "d1f3ee90-29e4-4c91-a945-70ca94b20989",
        "colab": {
          "base_uri": "https://localhost:8080/"
        }
      },
      "id": "gAzH70ps2z7Q",
      "execution_count": 296,
      "outputs": [
        {
          "output_type": "stream",
          "name": "stdout",
          "text": [
            "Looking in indexes: https://pypi.org/simple, https://us-python.pkg.dev/colab-wheels/public/simple/\n",
            "Collecting git+https://github.com/rwalk/gsdmm.git\n",
            "  Cloning https://github.com/rwalk/gsdmm.git to /tmp/pip-req-build-copsaeox\n",
            "  Running command git clone -q https://github.com/rwalk/gsdmm.git /tmp/pip-req-build-copsaeox\n",
            "Requirement already satisfied: numpy in /usr/local/lib/python3.8/dist-packages (from gsdmm==0.1) (1.21.6)\n",
            "Looking in indexes: https://pypi.org/simple, https://us-python.pkg.dev/colab-wheels/public/simple/\n",
            "Requirement already satisfied: vaderSentiment in /usr/local/lib/python3.8/dist-packages (3.3.2)\n",
            "Requirement already satisfied: requests in /usr/local/lib/python3.8/dist-packages (from vaderSentiment) (2.23.0)\n",
            "Requirement already satisfied: chardet<4,>=3.0.2 in /usr/local/lib/python3.8/dist-packages (from requests->vaderSentiment) (3.0.4)\n",
            "Requirement already satisfied: certifi>=2017.4.17 in /usr/local/lib/python3.8/dist-packages (from requests->vaderSentiment) (2022.9.24)\n",
            "Requirement already satisfied: idna<3,>=2.5 in /usr/local/lib/python3.8/dist-packages (from requests->vaderSentiment) (2.10)\n",
            "Requirement already satisfied: urllib3!=1.25.0,!=1.25.1,<1.26,>=1.21.1 in /usr/local/lib/python3.8/dist-packages (from requests->vaderSentiment) (1.24.3)\n"
          ]
        }
      ]
    },
    {
      "cell_type": "code",
      "execution_count": 297,
      "id": "edfaf419",
      "metadata": {
        "colab": {
          "base_uri": "https://localhost:8080/"
        },
        "id": "edfaf419",
        "outputId": "2291a4f9-f212-4db9-b32a-e9c1668a34a7"
      },
      "outputs": [
        {
          "output_type": "stream",
          "name": "stderr",
          "text": [
            "[nltk_data] Downloading package averaged_perceptron_tagger to\n",
            "[nltk_data]     /root/nltk_data...\n",
            "[nltk_data]   Package averaged_perceptron_tagger is already up-to-\n",
            "[nltk_data]       date!\n",
            "[nltk_data] Downloading package wordnet to /root/nltk_data...\n",
            "[nltk_data]   Package wordnet is already up-to-date!\n",
            "[nltk_data] Downloading package omw-1.4 to /root/nltk_data...\n",
            "[nltk_data]   Package omw-1.4 is already up-to-date!\n",
            "[nltk_data] Downloading package punkt to /root/nltk_data...\n",
            "[nltk_data]   Package punkt is already up-to-date!\n",
            "[nltk_data] Downloading package stopwords to /root/nltk_data...\n",
            "[nltk_data]   Package stopwords is already up-to-date!\n"
          ]
        }
      ],
      "source": [
        "import pandas as pd\n",
        "import numpy as np\n",
        "import nltk\n",
        "nltk.download('averaged_perceptron_tagger')\n",
        "nltk.download('wordnet')\n",
        "nltk.download('omw-1.4')\n",
        "nltk.download('punkt')\n",
        "nltk.download('stopwords')\n",
        "from nltk.corpus import wordnet, stopwords\n",
        "from nltk.stem import WordNetLemmatizer\n",
        "from gsdmm import MovieGroupProcess\n",
        "import re\n",
        "\n",
        "#filename = \"AMAZON_FASHION_5.json\"\n",
        "filename = \"/content/drive/MyDrive/Github/CSCI-5525-final-project/AMAZON_FASHION_5.json\"\n",
        "\n",
        "\n",
        "df = pd.read_json(path_or_buf=filename, lines=True)\n"
      ]
    },
    {
      "cell_type": "code",
      "execution_count": 298,
      "id": "b930eeb1",
      "metadata": {
        "id": "b930eeb1"
      },
      "outputs": [],
      "source": [
        "#df['asin'].value_counts()"
      ]
    },
    {
      "cell_type": "code",
      "execution_count": 299,
      "id": "5c03edde",
      "metadata": {
        "id": "5c03edde"
      },
      "outputs": [],
      "source": [
        "#list(df[df['asin'] == 'B009MA34NY']['reviewText'])"
      ]
    },
    {
      "cell_type": "code",
      "execution_count": 300,
      "id": "39f55f9f",
      "metadata": {
        "id": "39f55f9f"
      },
      "outputs": [],
      "source": [
        "import json\n",
        "\n",
        "#filename = \"/content/drive/MyDrive/Github/CSCI-5525-final-project/AMAZON_FASHION_5.json\"\n",
        "def load_reviews(filename):\n",
        "  with open(filename) as f:\n",
        "      reviews_json = f.readlines()\n",
        "\n",
        "  reviews = []\n",
        "  for review_json in reviews_json:\n",
        "      review = json.loads(review_json)\n",
        "      if \"overall\" in review and \"reviewText\" in review:\n",
        "          reviews.append(\n",
        "              {\n",
        "                  \"rating\": review[\"overall\"],\n",
        "                  \"title\": review[\"summary\"],\n",
        "                  \"text\": review[\"reviewText\"],\n",
        "              }\n",
        "          )\n",
        "  return reviews\n",
        "\n",
        "reviews = load_reviews(filename)\n",
        "#df = pd.DataFrame.from_dict(reviews)"
      ]
    },
    {
      "cell_type": "code",
      "execution_count": 301,
      "id": "007edf04",
      "metadata": {
        "id": "007edf04"
      },
      "outputs": [],
      "source": [
        "import matplotlib.pyplot as plt\n",
        "def plot_top_words(model, feature_names, n_top_words, title):\n",
        "    fig, axes = plt.subplots(2, 5, figsize=(30, 15), sharex=True)\n",
        "    axes = axes.flatten()\n",
        "    for topic_idx, topic in enumerate(model.components_):\n",
        "        top_features_ind = topic.argsort()[: -n_top_words - 1 : -1]\n",
        "        top_features = [feature_names[i] for i in top_features_ind]\n",
        "        weights = topic[top_features_ind]\n",
        "\n",
        "        ax = axes[topic_idx]\n",
        "        ax.barh(top_features, weights, height=0.7)\n",
        "        ax.set_title(f\"Topic {topic_idx +1}\", fontdict={\"fontsize\": 30})\n",
        "        ax.invert_yaxis()\n",
        "        ax.tick_params(axis=\"both\", which=\"major\", labelsize=20)\n",
        "        for i in \"top right left\".split():\n",
        "            ax.spines[i].set_visible(False)\n",
        "        fig.suptitle(title, fontsize=40)\n",
        "\n",
        "    plt.subplots_adjust(top=0.90, bottom=0.05, wspace=0.90, hspace=0.3)\n",
        "    plt.show()"
      ]
    },
    {
      "cell_type": "markdown",
      "id": "783b1772",
      "metadata": {
        "id": "783b1772"
      },
      "source": [
        "# NMF and LDA\n",
        "Adapted from [here](https://scikit-learn.org/stable/auto_examples/applications/plot_topics_extraction_with_nmf_lda.html), minimal original work.\n",
        "\n",
        "The topics are extracting nothing of note.\n",
        "\n",
        "Further steps:\n",
        "\n",
        "- find a product with enough reviews to be worth analyzing alone (might have to request the full dataset)\n",
        "- mess around with heuristics for vectorizing terms (reducing `max_df` probably but didn't manage to get different results)\n",
        "- eliminate boring reviews?"
      ]
    },
    {
      "cell_type": "code",
      "execution_count": 302,
      "id": "a79bbcdf",
      "metadata": {
        "id": "a79bbcdf"
      },
      "outputs": [],
      "source": [
        "from sklearn.feature_extraction.text import TfidfVectorizer, CountVectorizer\n",
        "#from sklearn.decomposition import NMF, MiniBatchNMF, LatentDirichletAllocation\n",
        "from sklearn.decomposition import LatentDirichletAllocation\n",
        "\n",
        "n_samples = 2000\n",
        "n_features = 1000\n",
        "n_components = 10\n",
        "n_top_words = 20\n",
        "batch_size = 128\n",
        "init = \"nndsvda\"\n",
        "\n",
        "product_id = 'B009MA34NY'\n",
        "if product_id:\n",
        "    data_samples = list(filter(lambda x: isinstance(x, str), df[df['asin'] == product_id]['reviewText']))\n",
        "else:\n",
        "    data_samples = list(map(lambda x: x['text'], reviews))[:n_samples]\n",
        "\n",
        "\n",
        "for s in data_samples:\n",
        "\n",
        "    if not isinstance(s,str):\n",
        "        print(s)"
      ]
    },
    {
      "cell_type": "code",
      "source": [
        "#preprocessing\n",
        "def lowercasing(data_samples):\n",
        "  for idx, sample in enumerate(data_samples):\n",
        "    data_samples[idx] = sample.lower()\n",
        "  return data_samples\n",
        "\n",
        "def punctuation_removal(data_samples):\n",
        "#non-exhaustive; not sure if we want to treat punctuation as significant\n",
        "#doesn't remove punctuation from inside words\n",
        "  for i, sample in enumerate(data_samples):\n",
        "    _sample = sample.split()\n",
        "    for j, word in enumerate(_sample):\n",
        "      _sample[j] = word.strip(\" .!?@#&():;,'\\/\\\\\")\n",
        "    sample = \" \".join(_sample)\n",
        "    data_samples[i] = sample\n",
        "  return data_samples\n",
        "\n",
        "def get_wordnet_pos(word):\n",
        "    \"\"\"Map POS tag to first character lemmatize() accepts\"\"\"\n",
        "    tag = nltk.pos_tag([word])[0][1]\n",
        "    if tag.startswith('J'):\n",
        "        return wordnet.ADJ\n",
        "    elif tag.startswith('V'):\n",
        "        return wordnet.VERB\n",
        "    elif tag.startswith('N'):\n",
        "        return wordnet.NOUN\n",
        "    elif tag.startswith('R'):\n",
        "        return wordnet.ADV\n",
        "    else:\n",
        "        return wordnet.NOUN\n",
        "\n",
        "def lemmatize(data_samples):\n",
        "  wnl = WordNetLemmatizer()\n",
        "  for i, sample in enumerate(data_samples):\n",
        "      _sample = sample.split()\n",
        "      for j, word in enumerate(_sample):\n",
        "        tag = get_wordnet_pos(word)\n",
        "        if (tag == 'r') or (tag == 'a') or (tag == 'v'):\n",
        "          _sample[j] = \"\"\n",
        "          idk = i\n",
        "        else:\n",
        "          _sample[j] = wnl.lemmatize(word,tag)\n",
        "      data_samples[i] = ' '.join(_sample)\n",
        "      data_samples[i] = re.sub(' +', ' ', data_samples[i])\n",
        "\n",
        "  return data_samples\n",
        "\n",
        "data_samples = lowercasing(data_samples)\n",
        "data_samples = punctuation_removal(data_samples)\n",
        "data_samples = lemmatize(data_samples)"
      ],
      "metadata": {
        "id": "oytRfXUSHxWI"
      },
      "id": "oytRfXUSHxWI",
      "execution_count": 303,
      "outputs": []
    },
    {
      "cell_type": "code",
      "source": [
        "#LDA bigrams\n",
        "#Original code by Nicha Ruchirawat\n",
        "#https://nicharuc.github.io/topic_modeling/\n",
        "\n",
        "stop_word_list = set(nltk.corpus.stopwords.words('english'))\n",
        "ds = pd.DataFrame(data_samples)\n",
        "ds.columns = ['review']\n",
        "\n",
        "bigram_measures = nltk.collocations.BigramAssocMeasures()\n",
        "finder = nltk.collocations.BigramCollocationFinder.from_documents([r.split() for r in ds.review])\n",
        "# Filter only those that occur at least x times\n",
        "finder.apply_freq_filter(10)\n",
        "bigram_scores = finder.score_ngrams(bigram_measures.pmi)"
      ],
      "metadata": {
        "id": "I_S2IQj7FKKu"
      },
      "id": "I_S2IQj7FKKu",
      "execution_count": 304,
      "outputs": []
    },
    {
      "cell_type": "code",
      "source": [
        "trigram_measures = nltk.collocations.TrigramAssocMeasures()\n",
        "finder = nltk.collocations.TrigramCollocationFinder.from_documents([r.split() for r in ds.review])\n",
        "# Filter only those that occur at least x times\n",
        "finder.apply_freq_filter(2)\n",
        "trigram_scores = finder.score_ngrams(trigram_measures.pmi)"
      ],
      "metadata": {
        "id": "LfoPlce3Manu"
      },
      "id": "LfoPlce3Manu",
      "execution_count": 305,
      "outputs": []
    },
    {
      "cell_type": "code",
      "source": [
        "bigram_pmi = pd.DataFrame(bigram_scores)\n",
        "bigram_pmi.columns = ['bigram', 'pmi']\n",
        "bigram_pmi.sort_values(by='pmi', axis = 0, ascending = False, inplace = True)"
      ],
      "metadata": {
        "id": "KJ8oGvqxImDN"
      },
      "id": "KJ8oGvqxImDN",
      "execution_count": 306,
      "outputs": []
    },
    {
      "cell_type": "code",
      "source": [
        "trigram_pmi = pd.DataFrame(trigram_scores)\n",
        "trigram_pmi.columns = ['trigram', 'pmi']\n",
        "trigram_pmi.sort_values(by='pmi', axis = 0, ascending = False, inplace = True)"
      ],
      "metadata": {
        "id": "a5e0QcdKMrKF"
      },
      "id": "a5e0QcdKMrKF",
      "execution_count": 307,
      "outputs": []
    },
    {
      "cell_type": "code",
      "source": [
        "# Filter for bigrams with only noun-type structures\n",
        "def bigram_filter(bigram):\n",
        "    tag = nltk.pos_tag(bigram)\n",
        "    if tag[0][1] not in ['JJ', 'NN'] and tag[1][1] not in ['NN']:\n",
        "        return False\n",
        "    if bigram[0] in stop_word_list or bigram[1] in stop_word_list:\n",
        "        return False\n",
        "    if 'n' in bigram or 't' in bigram:\n",
        "        return False\n",
        "    return True"
      ],
      "metadata": {
        "id": "WqrsM6PNKOMq"
      },
      "id": "WqrsM6PNKOMq",
      "execution_count": 308,
      "outputs": []
    },
    {
      "cell_type": "code",
      "source": [
        "# Filter for trigrams with only noun-type structures\n",
        "def trigram_filter(trigram):\n",
        "    tag = nltk.pos_tag(trigram)\n",
        "    if tag[0][1] not in ['JJ', 'NN'] and tag[1][1] not in ['JJ','NN']:\n",
        "        return False\n",
        "    if trigram[0] in stop_word_list or trigram[-1] in stop_word_list or trigram[1] in stop_word_list:\n",
        "        return False\n",
        "    if 'n' in trigram or 't' in trigram:\n",
        "         return False\n",
        "    return True "
      ],
      "metadata": {
        "id": "RBkj5G96M0iC"
      },
      "id": "RBkj5G96M0iC",
      "execution_count": 309,
      "outputs": []
    },
    {
      "cell_type": "code",
      "source": [
        "# Can set pmi threshold to whatever makes sense - eyeball through and select threshold where n-grams stop making sense\n",
        "# choose top 500 ngrams in this case ranked by PMI that have noun like structures\n",
        "filtered_bigram = bigram_pmi[bigram_pmi.apply(lambda bigram: bigram_filter(bigram['bigram']) and bigram.pmi > 3, axis = 1)][:500]\n",
        "\n",
        "filtered_trigram = trigram_pmi[trigram_pmi.apply(lambda trigram: trigram_filter(trigram['trigram']) and trigram.pmi > 17, axis = 1)][:500]\n",
        "\n",
        "\n",
        "bigrams = [' '.join(x) for x in filtered_bigram.bigram.values if len(x[0]) > 2 or len(x[1]) > 2]\n",
        "trigrams = [' '.join(x) for x in filtered_trigram.trigram.values if len(x[0]) > 2 or len(x[1]) > 2 and len(x[2]) > 2]"
      ],
      "metadata": {
        "id": "PGtK1LL-KfMn"
      },
      "id": "PGtK1LL-KfMn",
      "execution_count": 310,
      "outputs": []
    },
    {
      "cell_type": "code",
      "source": [
        "# examples of bigrams\n",
        "bigrams[:10]"
      ],
      "metadata": {
        "id": "hi0b0z6lKjz9",
        "outputId": "590c45fe-10de-4492-db0a-339407a7192f",
        "colab": {
          "base_uri": "https://localhost:8080/"
        }
      },
      "id": "hi0b0z6lKjz9",
      "execution_count": 311,
      "outputs": [
        {
          "output_type": "execute_result",
          "data": {
            "text/plain": [
              "['light weight', 'arch support', 'feel like', 'fit perfect']"
            ]
          },
          "metadata": {},
          "execution_count": 311
        }
      ]
    },
    {
      "cell_type": "code",
      "source": [
        "# examples of trigrams\n",
        "trigrams[:10]"
      ],
      "metadata": {
        "id": "DD5emZJ2ND0E",
        "outputId": "85e5a1d3-e321-4574-89cb-08ca2085165a",
        "colab": {
          "base_uri": "https://localhost:8080/"
        }
      },
      "id": "DD5emZJ2ND0E",
      "execution_count": 312,
      "outputs": [
        {
          "output_type": "execute_result",
          "data": {
            "text/plain": [
              "['supreme tr 3',\n",
              " \"women's flex supreme\",\n",
              " 'flex supreme tr',\n",
              " 'cardio dance class']"
            ]
          },
          "metadata": {},
          "execution_count": 312
        }
      ]
    },
    {
      "cell_type": "code",
      "source": [
        "# Concatenate n-grams\n",
        "def replace_ngram(x):\n",
        "    for gram in trigrams:\n",
        "        x = x.replace(gram, '_'.join(gram.split()))\n",
        "    for gram in bigrams:\n",
        "        x = x.replace(gram, '_'.join(gram.split()))\n",
        "    return x"
      ],
      "metadata": {
        "id": "L1ZWyuw4OVUU"
      },
      "id": "L1ZWyuw4OVUU",
      "execution_count": 313,
      "outputs": []
    },
    {
      "cell_type": "code",
      "source": [
        "reviews_w_ngrams = ds.copy()"
      ],
      "metadata": {
        "id": "E6Cln0AKOZCN"
      },
      "id": "E6Cln0AKOZCN",
      "execution_count": 314,
      "outputs": []
    },
    {
      "cell_type": "code",
      "source": [
        "reviews_w_ngrams.review = reviews_w_ngrams.review.map(lambda x: replace_ngram(x))"
      ],
      "metadata": {
        "id": "kg_Wy35KO8RT"
      },
      "id": "kg_Wy35KO8RT",
      "execution_count": 315,
      "outputs": []
    },
    {
      "cell_type": "code",
      "source": [
        "_data_samples = reviews_w_ngrams.values.tolist()\n",
        "data_samples = [item for sublist in _data_samples for item in sublist]"
      ],
      "metadata": {
        "id": "eG_oWJjfPC8S"
      },
      "id": "eG_oWJjfPC8S",
      "execution_count": 329,
      "outputs": []
    },
    {
      "cell_type": "code",
      "execution_count": 317,
      "id": "6e095478",
      "metadata": {
        "id": "6e095478"
      },
      "outputs": [],
      "source": [
        "#len(data_samples)"
      ]
    },
    {
      "cell_type": "code",
      "execution_count": 318,
      "id": "91e578a6",
      "metadata": {
        "id": "91e578a6"
      },
      "outputs": [],
      "source": [
        "#print(len(tfidf_vectorizer.stop_words_))\n",
        "#tfidf_vectorizer.stop_words_"
      ]
    },
    {
      "cell_type": "code",
      "execution_count": 319,
      "id": "297ad3a5",
      "metadata": {
        "id": "297ad3a5"
      },
      "outputs": [],
      "source": [
        "#tfidf_vectorizer.get_stop_words()"
      ]
    },
    {
      "cell_type": "code",
      "execution_count": 330,
      "id": "b327af90",
      "metadata": {
        "id": "b327af90",
        "outputId": "b654221f-a461-4678-d98c-6584144a181c",
        "colab": {
          "base_uri": "https://localhost:8080/"
        }
      },
      "outputs": [
        {
          "output_type": "stream",
          "name": "stdout",
          "text": [
            "Extracting tf features for LDA...\n"
          ]
        },
        {
          "output_type": "execute_result",
          "data": {
            "text/plain": [
              "{'000',\n",
              " '10',\n",
              " '100',\n",
              " '12',\n",
              " '15',\n",
              " '169lbs',\n",
              " '1st',\n",
              " '20',\n",
              " '24',\n",
              " '25',\n",
              " '30',\n",
              " '3rd',\n",
              " '3x',\n",
              " '40',\n",
              " '50',\n",
              " 'abd',\n",
              " 'abit',\n",
              " 'absorption',\n",
              " 'accommodate',\n",
              " 'achilles',\n",
              " 'activity',\n",
              " 'adjust',\n",
              " 'adjustment',\n",
              " 'advice',\n",
              " 'aerobic',\n",
              " 'afford',\n",
              " 'afraid',\n",
              " 'aide',\n",
              " 'airport',\n",
              " 'airy',\n",
              " 'allows',\n",
              " 'amazing',\n",
              " 'amazon',\n",
              " 'ankle',\n",
              " 'arch',\n",
              " 'arch_support',\n",
              " 'area',\n",
              " 'arose',\n",
              " 'artculo',\n",
              " 'asics',\n",
              " 'attention',\n",
              " 'awesome',\n",
              " 'az',\n",
              " 'bag',\n",
              " 'bailing',\n",
              " 'band',\n",
              " 'bandage',\n",
              " 'barefeet',\n",
              " 'barefoot',\n",
              " 'base',\n",
              " 'beach',\n",
              " 'beat',\n",
              " 'bed',\n",
              " 'bend',\n",
              " 'bit',\n",
              " 'blister',\n",
              " 'blood',\n",
              " 'bluff',\n",
              " 'boot',\n",
              " 'bootcamps',\n",
              " 'bother',\n",
              " 'bought',\n",
              " 'box',\n",
              " 'boxier',\n",
              " 'brand',\n",
              " 'breath',\n",
              " 'breathe',\n",
              " 'breathes',\n",
              " 'bright',\n",
              " 'broader',\n",
              " 'btw',\n",
              " 'build',\n",
              " 'bulk',\n",
              " 'bunion',\n",
              " 'business',\n",
              " 'cable',\n",
              " 'calf',\n",
              " 'cam',\n",
              " 'card',\n",
              " 'cardio',\n",
              " 'care',\n",
              " 'careful',\n",
              " 'carpet',\n",
              " 'change',\n",
              " 'cheap',\n",
              " 'check',\n",
              " 'christmas',\n",
              " 'circulation',\n",
              " 'cl',\n",
              " 'class',\n",
              " 'cleaning',\n",
              " 'client',\n",
              " 'clorox',\n",
              " 'closer',\n",
              " 'closet',\n",
              " 'clothes',\n",
              " 'coach',\n",
              " 'color',\n",
              " 'colors',\n",
              " 'colour',\n",
              " 'comfort',\n",
              " 'comfy',\n",
              " 'compare',\n",
              " 'complains',\n",
              " 'complaint',\n",
              " 'compress',\n",
              " 'condition',\n",
              " 'consideration',\n",
              " 'consistent',\n",
              " 'contact',\n",
              " 'correct',\n",
              " 'cost',\n",
              " 'course',\n",
              " 'court',\n",
              " 'cramped',\n",
              " 'crimson',\n",
              " 'cross',\n",
              " 'crosstrainers',\n",
              " 'cushion',\n",
              " 'customer',\n",
              " 'cut',\n",
              " 'cute',\n",
              " 'damage',\n",
              " 'dance',\n",
              " 'daughter',\n",
              " 'day',\n",
              " 'depends',\n",
              " 'depict',\n",
              " 'developed',\n",
              " 'did',\n",
              " 'didnt',\n",
              " 'difficulty',\n",
              " 'dirty',\n",
              " 'disappear',\n",
              " 'discolor',\n",
              " 'discontinues',\n",
              " 'disney',\n",
              " 'doesn',\n",
              " 'don',\n",
              " 'downshifter',\n",
              " 'drag',\n",
              " 'dream',\n",
              " 'dress',\n",
              " 'dressy',\n",
              " 'dsw',\n",
              " 'em',\n",
              " 'en',\n",
              " 'endurance',\n",
              " 'enjoy',\n",
              " 'environment',\n",
              " 'equivocado',\n",
              " 'europe',\n",
              " 'everyday',\n",
              " 'excellent',\n",
              " 'exception',\n",
              " 'exercise',\n",
              " 'experience',\n",
              " 'fall',\n",
              " 'fashion',\n",
              " 'faulty',\n",
              " 'favorite',\n",
              " 'feel',\n",
              " 'feel_like',\n",
              " 'fight',\n",
              " 'fine',\n",
              " 'finger',\n",
              " 'firmer',\n",
              " 'fit',\n",
              " 'fit_perfect',\n",
              " 'fits',\n",
              " 'fix',\n",
              " 'flex',\n",
              " 'flexibility',\n",
              " 'flimsy',\n",
              " 'fly',\n",
              " 'foam',\n",
              " 'fog',\n",
              " 'foot',\n",
              " 'footbed',\n",
              " 'footwear',\n",
              " 'footwork',\n",
              " 'forget',\n",
              " 'frame',\n",
              " 'friend',\n",
              " 'fun',\n",
              " 'girlfriend',\n",
              " 'glad',\n",
              " 'glove',\n",
              " 'good',\n",
              " 'gracias',\n",
              " 'gray',\n",
              " 'green',\n",
              " 'grey',\n",
              " 'grip',\n",
              " 'grit',\n",
              " 'grommet',\n",
              " 'ground',\n",
              " 'group',\n",
              " 'gry',\n",
              " 'gump',\n",
              " 'gym',\n",
              " 'half',\n",
              " 'happens',\n",
              " 'happier',\n",
              " 'hate',\n",
              " 'haven',\n",
              " 'heel',\n",
              " 'hike',\n",
              " 'hitt',\n",
              " 'home',\n",
              " 'hop',\n",
              " 'hour',\n",
              " 'hue',\n",
              " 'hug',\n",
              " 'hunt',\n",
              " 'hurt',\n",
              " 'ideal',\n",
              " 'im',\n",
              " 'image',\n",
              " 'impression',\n",
              " 'inside',\n",
              " 'instruction',\n",
              " 'issue',\n",
              " 'item',\n",
              " 'iteration',\n",
              " 'jam',\n",
              " 'jammed',\n",
              " 'jean',\n",
              " 'jog',\n",
              " 'jogging',\n",
              " 'joint',\n",
              " 'jumping',\n",
              " 'kept',\n",
              " 'kind',\n",
              " 'knee',\n",
              " 'knock',\n",
              " 'layer',\n",
              " 'left',\n",
              " 'leg',\n",
              " 'length',\n",
              " 'level',\n",
              " 'lift',\n",
              " 'light',\n",
              " 'light_weight',\n",
              " 'lighter',\n",
              " 'lightweight',\n",
              " 'like',\n",
              " 'll',\n",
              " 'long',\n",
              " 'longer',\n",
              " 'look',\n",
              " 'loosens',\n",
              " 'looser',\n",
              " 'lot',\n",
              " 'love',\n",
              " 'loved',\n",
              " 'luv',\n",
              " 'ma',\n",
              " 'machine',\n",
              " 'man',\n",
              " 'marathon',\n",
              " 'massage',\n",
              " 'material',\n",
              " 'matter',\n",
              " 'meant',\n",
              " 'medium',\n",
              " 'meh',\n",
              " 'mic',\n",
              " 'mid',\n",
              " 'middle',\n",
              " 'mile',\n",
              " 'mind',\n",
              " 'minute',\n",
              " 'mizuno',\n",
              " 'moderate',\n",
              " 'month',\n",
              " 'motivation',\n",
              " 'movrment',\n",
              " 'mtllc',\n",
              " 'mud',\n",
              " 'muscle',\n",
              " 'narrow',\n",
              " 'ne',\n",
              " 'need',\n",
              " 'neoprene',\n",
              " 'nicer',\n",
              " 'nike',\n",
              " 'noise',\n",
              " 'nub',\n",
              " 'numb',\n",
              " 'nyc',\n",
              " 'occasion',\n",
              " 'offer',\n",
              " 'office',\n",
              " 'oh',\n",
              " 'ohio',\n",
              " 'omaha',\n",
              " 'online',\n",
              " 'oops',\n",
              " 'opposite',\n",
              " 'option',\n",
              " 'orange',\n",
              " 'order',\n",
              " 'outdoor',\n",
              " 'outdoors',\n",
              " 'outfit',\n",
              " 'package',\n",
              " 'pain',\n",
              " 'pair',\n",
              " 'pairs',\n",
              " 'paperwork',\n",
              " 'past',\n",
              " 'pattern',\n",
              " 'pay',\n",
              " 'perf',\n",
              " 'perfect',\n",
              " 'perfict',\n",
              " 'performance',\n",
              " 'period',\n",
              " 'person',\n",
              " 'perspiration',\n",
              " 'phoenix',\n",
              " 'pic',\n",
              " 'picture',\n",
              " 'pinch',\n",
              " 'pink',\n",
              " 'pinker',\n",
              " 'pinkie',\n",
              " 'pinky',\n",
              " 'place',\n",
              " 'plank',\n",
              " 'pnk',\n",
              " 'point',\n",
              " 'pointier',\n",
              " 'portion',\n",
              " 'pregnant',\n",
              " 'pressing',\n",
              " 'pressure',\n",
              " 'price',\n",
              " 'problem',\n",
              " 'product',\n",
              " 'profile',\n",
              " 'pronation',\n",
              " 'provide',\n",
              " 'puma',\n",
              " 'purchase',\n",
              " 'purpose',\n",
              " 'pw',\n",
              " 'quality',\n",
              " 'read',\n",
              " 'reading',\n",
              " 'reason',\n",
              " 'reccomend',\n",
              " 'recess',\n",
              " 'recommend',\n",
              " 'refund',\n",
              " 'relay',\n",
              " 'reluctant',\n",
              " 'remedy',\n",
              " 'report',\n",
              " 'requirement',\n",
              " 'research',\n",
              " 'rest',\n",
              " 'restrict',\n",
              " 'result',\n",
              " 'return',\n",
              " 'review',\n",
              " 'reviewer',\n",
              " 'right',\n",
              " 'ripped',\n",
              " 'road',\n",
              " 'rock',\n",
              " 'room',\n",
              " 'roomy',\n",
              " 'rotate',\n",
              " 'rough',\n",
              " 'round',\n",
              " 'rounder',\n",
              " 'rubber',\n",
              " 'run',\n",
              " 'runner',\n",
              " 'running',\n",
              " 'ryka',\n",
              " 's_flex_supreme',\n",
              " 's_flex_supreme_tr_3',\n",
              " 'sale',\n",
              " 'sandal',\n",
              " 'saw',\n",
              " 'sciatica',\n",
              " 'section',\n",
              " 'secure',\n",
              " 'seller',\n",
              " 'serf',\n",
              " 'series',\n",
              " 'session',\n",
              " 'seven',\n",
              " 'shape',\n",
              " 'shift',\n",
              " 'shin',\n",
              " 'shoe',\n",
              " 'shoelace',\n",
              " 'shoes',\n",
              " 'shopping',\n",
              " 'shot',\n",
              " 'shoxs',\n",
              " 'shrinkage',\n",
              " 'situation',\n",
              " 'size',\n",
              " 'skin',\n",
              " 'sled',\n",
              " 'sleek',\n",
              " 'sleeve',\n",
              " 'slide',\n",
              " 'slvr',\n",
              " 'small',\n",
              " 'smaller',\n",
              " 'smooth',\n",
              " 'sneaker',\n",
              " 'sock',\n",
              " 'sol',\n",
              " 'sole',\n",
              " 'son',\n",
              " 'sooooo',\n",
              " 'sore',\n",
              " 'sorry',\n",
              " 'space',\n",
              " 'spent',\n",
              " 'splint',\n",
              " 'sporty',\n",
              " 'spread',\n",
              " 'sprint',\n",
              " 'sprinter',\n",
              " 'square',\n",
              " 'squeak',\n",
              " 'stability',\n",
              " 'stain',\n",
              " 'stairmaster',\n",
              " 'state',\n",
              " 'stats',\n",
              " 'stay',\n",
              " 'step',\n",
              " 'stick',\n",
              " 'sticky',\n",
              " 'stock',\n",
              " 'stop',\n",
              " 'store',\n",
              " 'strength',\n",
              " 'stride',\n",
              " 'string',\n",
              " 'sturdy',\n",
              " 'style',\n",
              " 'suffer',\n",
              " 'suggest',\n",
              " 'super',\n",
              " 'supnation',\n",
              " 'support',\n",
              " 'suppose',\n",
              " 'supreme_tr_3',\n",
              " 'sure',\n",
              " 'surgery',\n",
              " 'swap',\n",
              " 'sweaty',\n",
              " 'tad',\n",
              " 'teenage',\n",
              " 'tennis',\n",
              " 'thanks',\n",
              " 'therapist',\n",
              " 'thickness',\n",
              " 'think',\n",
              " 'thought',\n",
              " 'thy',\n",
              " 'tight',\n",
              " 'tighten',\n",
              " 'tighter',\n",
              " 'time',\n",
              " 'toe',\n",
              " 'ton',\n",
              " 'tongue',\n",
              " 'touch',\n",
              " 'town',\n",
              " 'tr',\n",
              " 'tr3',\n",
              " 'track',\n",
              " 'trainer',\n",
              " 'training',\n",
              " 'tranasaction',\n",
              " 'treadmill',\n",
              " 'tredmill',\n",
              " 'trial',\n",
              " 'trip',\n",
              " 'try',\n",
              " 'twinge',\n",
              " 'ugh',\n",
              " 'understand',\n",
              " 'unless',\n",
              " 'update',\n",
              " 'use',\n",
              " 'vacation',\n",
              " 've',\n",
              " 'ventilation',\n",
              " 'verge',\n",
              " 'versatile',\n",
              " 'vffs',\n",
              " 'vibram',\n",
              " 'vibrant',\n",
              " 'video',\n",
              " 'walk',\n",
              " 'walking',\n",
              " 'wall',\n",
              " 'walt',\n",
              " 'want',\n",
              " 'ware',\n",
              " 'warehouse',\n",
              " 'way',\n",
              " 'wear',\n",
              " 'week',\n",
              " 'weight',\n",
              " 'weightless',\n",
              " 'weren',\n",
              " 'wider',\n",
              " 'wife',\n",
              " 'wiggle',\n",
              " 'window',\n",
              " 'wipe',\n",
              " 'wish',\n",
              " 'woman',\n",
              " 'wore',\n",
              " 'work',\n",
              " 'workout',\n",
              " 'world',\n",
              " 'worn',\n",
              " 'wow',\n",
              " 'wrap',\n",
              " 'yeah',\n",
              " 'year',\n",
              " 'years',\n",
              " 'yellow',\n",
              " 'yellowish',\n",
              " 'yoga',\n",
              " 'zero',\n",
              " 'zing',\n",
              " 'zumba'}"
            ]
          },
          "metadata": {},
          "execution_count": 330
        }
      ],
      "source": [
        "# Use tf (raw term count) features for LDA.\n",
        "print(\"Extracting tf features for LDA...\")\n",
        "tf_vectorizer = CountVectorizer(\n",
        "    max_df=0.01, min_df=2, max_features=n_features, stop_words=\"english\"\n",
        ")\n",
        "tf = tf_vectorizer.fit_transform(data_samples)\n",
        "tf_vectorizer.stop_words_"
      ]
    },
    {
      "cell_type": "code",
      "execution_count": 326,
      "id": "d3bb9280",
      "metadata": {
        "id": "d3bb9280",
        "scrolled": false,
        "outputId": "b8c437b2-6186-41d4-d29b-3f7be25d7e0c",
        "colab": {
          "base_uri": "https://localhost:8080/",
          "height": 738
        }
      },
      "outputs": [
        {
          "output_type": "stream",
          "name": "stdout",
          "text": [
            "Fitting LDA models with tf features, n_samples=2000 and n_features=1000...\n"
          ]
        },
        {
          "output_type": "display_data",
          "data": {
            "text/plain": [
              "<Figure size 2160x1080 with 10 Axes>"
            ],
            "image/png": "[encoded data removed]"
          },
          "metadata": {
            "needs_background": "light"
          }
        }
      ],
      "source": [
        "print(\n",
        "    \"Fitting LDA models with tf features, n_samples=%d and n_features=%d...\"\n",
        "    % (n_samples, n_features),\n",
        ")\n",
        "lda = LatentDirichletAllocation(\n",
        "    n_components=n_components,\n",
        "    max_iter=5,\n",
        "    learning_method=\"online\",\n",
        "    learning_offset=50.0,\n",
        "    random_state=0,\n",
        ")\n",
        "lda.fit(tf)\n",
        "\n",
        "tf_feature_names = tf_vectorizer.get_feature_names_out()\n",
        "plot_top_words(lda, tf_feature_names, n_top_words, \"Topics in LDA model\")"
      ]
    },
    {
      "cell_type": "code",
      "execution_count": null,
      "id": "71e55dc7",
      "metadata": {
        "id": "71e55dc7"
      },
      "outputs": [],
      "source": [
        "for i, sample in enumerate(data_samples):\n",
        "    if len(sample) > 300 and len(sample) < 700:\n",
        "        print(i,\":\", sample)"
      ]
    },
    {
      "cell_type": "code",
      "execution_count": null,
      "id": "2d3aee19",
      "metadata": {
        "id": "2d3aee19"
      },
      "outputs": [],
      "source": [
        "lda.transform(tf_vectorizer.transform([data_samples[84]]))"
      ]
    },
    {
      "cell_type": "code",
      "execution_count": null,
      "id": "3d31f777",
      "metadata": {
        "id": "3d31f777"
      },
      "outputs": [],
      "source": [
        "data_samples[84]"
      ]
    },
    {
      "cell_type": "code",
      "execution_count": null,
      "id": "68167001",
      "metadata": {
        "id": "68167001"
      },
      "outputs": [],
      "source": [
        "from nltk import sent_tokenize\n",
        "from nltk.tokenize import TweetTokenizer\n",
        "\n",
        "raw_reviews = list(filter(lambda x: isinstance(x, str), df[df['asin'] == product_id]['reviewText']))\n",
        "\n",
        "#raw_reviews[337] were the sentences you were using prior for sentiment analysis\n",
        "def get_sents(raw_reviews):\n",
        "  raw_sentences = []\n",
        "  for review in raw_reviews:\n",
        "    raw_sentences.append(sent_tokenize(review))\n",
        "  raw_sentences = sum(raw_sentences, [])\n",
        "\n",
        "  processed_sentences = raw_sentences[:]\n",
        "  processed_sentences = lowercasing(processed_sentences)\n",
        "  processed_sentences = punctuation_removal(processed_sentences)\n",
        "  processed_sentences = lemmatize(processed_sentences)\n",
        "  return raw_sentences, processed_sentences\n",
        "\n",
        "raw_sentences, processed_sentences = get_sents(raw_reviews)"
      ]
    },
    {
      "cell_type": "code",
      "source": [
        "#GSDMM\n",
        "raw_reviews = list(map(lambda x: x['text'], reviews))[:n_samples]\n",
        "raw_sentences, processed_sentences = get_sents(raw_reviews)"
      ],
      "metadata": {
        "id": "FGIjqIg6JrF0"
      },
      "id": "FGIjqIg6JrF0",
      "execution_count": null,
      "outputs": []
    },
    {
      "cell_type": "code",
      "source": [
        "#GSDMM\n",
        "tknzr = TweetTokenizer()\n",
        "def get_words(sentences):\n",
        "  words = []\n",
        "  for sentence in sentences:\n",
        "    words.append(tknzr.tokenize(sentence))\n",
        "  return words\n",
        "\n",
        "def remove_stopwords(words):\n",
        "  #Just using nltk stopwords for now\n",
        "  stops = set(nltk.corpus.stopwords.words('english'))\n",
        "  _words = []\n",
        "  for word in words:\n",
        "    if word not in stops:\n",
        "      _words.append(word)\n",
        "  return _words\n",
        "\n",
        "docs = get_words(processed_sentences)\n",
        "for i, words in enumerate(docs):\n",
        "  docs[i] = remove_stopwords(words)\n",
        "  docs[i] = list(set(docs[i]))\n",
        "\n",
        "vocab = set(x for word in words for x in word)\n",
        "\n",
        "mgp = MovieGroupProcess(K=10, alpha=.01, beta=.01, n_iters=30)\n",
        "# tutorials I saw used bigrams/trigrams for tokens in docs; might be an option for us\n",
        "model = mgp.fit(docs, len(vocab))"
      ],
      "metadata": {
        "id": "q-FayfD97_XN"
      },
      "id": "q-FayfD97_XN",
      "execution_count": null,
      "outputs": []
    },
    {
      "cell_type": "code",
      "source": [
        "#credit to Catherine\n",
        "#https://www.kaggle.com/code/ptfrwrd/topic-modeling-guide-gsdm-lda-lsi/notebook\n",
        "\n",
        "def top_words(cluster_word_distribution, top_cluster, values):\n",
        "    for cluster in top_cluster:\n",
        "        sort_dicts =sorted(mgp.cluster_word_distribution[cluster].items(), key=lambda k: k[1], reverse=True)[:values]\n",
        "        print(\"\\nCluster %s : %s\"%(cluster,sort_dicts))\n",
        "\n",
        "doc_count = np.array(mgp.cluster_doc_count)\n",
        "print('Number of documents per topic :', doc_count)\n",
        "\n",
        "# topics sorted by the number of document they are allocated to\n",
        "top_index = doc_count.argsort()[-10:][::-1]\n",
        "print('\\nMost important clusters (by number of docs inside):', top_index)\n",
        "# show the top 5 words in term frequency for each cluster \n",
        "top_words(mgp.cluster_word_distribution, top_index, 10)"
      ],
      "metadata": {
        "id": "rAFBO0kEE5RX"
      },
      "id": "rAFBO0kEE5RX",
      "execution_count": null,
      "outputs": []
    },
    {
      "cell_type": "code",
      "execution_count": null,
      "id": "38433267",
      "metadata": {
        "id": "38433267"
      },
      "outputs": [],
      "source": [
        "feature_names = tf_vectorizer.get_feature_names_out()\n",
        "topic_words = []\n",
        "for topic in lda.components_:\n",
        "    top_features_ind = topic.argsort()[: -10- 1 : -1]\n",
        "    topic_words.append([feature_names[i] for i in top_features_ind])"
      ]
    },
    {
      "cell_type": "code",
      "execution_count": null,
      "id": "f780a69b",
      "metadata": {
        "scrolled": true,
        "id": "f780a69b"
      },
      "outputs": [],
      "source": [
        "feature_names = tf_vectorizer.get_feature_names_out()\n",
        "topic_words = []\n",
        "for topic in lda.components_:\n",
        "    top_features_ind = topic.argsort()[: -10- 1 : -1]\n",
        "    topic_words.append([feature_names[i] for i in top_features_ind])\n",
        "from vaderSentiment.vaderSentiment import SentimentIntensityAnalyzer\n",
        "analyzer = SentimentIntensityAnalyzer()\n",
        "\n",
        "# TODO: for now compound (a composite score) will suffice. Neutrality (neu) might suggest highly informational content.\n",
        "#Had to change some of the sentence processing code so the sentences were't limited\n",
        "#in that code block. I limited the sentences here for endless print statment reasons\n",
        "for raw, processed in zip(raw_sentences[:20], processed_sentences[:20]):\n",
        "    vs = analyzer.polarity_scores(raw)\n",
        "    probs = lda.transform(tf_vectorizer.transform([processed]))[0]\n",
        "    topic = probs.argmax()\n",
        "    if probs[topic] < 0.2:\n",
        "        print(\"{} \\n\\t overall: {:.2f} neutral: {:.2f}, No Topic\\n\".format(raw, vs['compound'], vs['neu']))\n",
        "    else:\n",
        "        print(\"{} \\n\\t overall: {:.2f} neutral: {:.2f}, Topic {}: {}\\n\".format(raw, vs['compound'], vs['neu'], topic+1, \", \".join(topic_words[topic])))"
      ]
    },
    {
      "cell_type": "code",
      "execution_count": null,
      "id": "1db11f93",
      "metadata": {
        "id": "1db11f93"
      },
      "outputs": [],
      "source": [
        "lda.transform(tf_vectorizer.transform([\"easy gift life\"])).argmax()\n",
        "topic_words[6]"
      ]
    }
  ],
  "metadata": {
    "colab": {
      "provenance": [],
      "toc_visible": true
    },
    "kernelspec": {
      "display_name": "Python 3 (ipykernel)",
      "language": "python",
      "name": "python3"
    },
    "language_info": {
      "codemirror_mode": {
        "name": "ipython",
        "version": 3
      },
      "file_extension": ".py",
      "mimetype": "text/x-python",
      "name": "python",
      "nbconvert_exporter": "python",
      "pygments_lexer": "ipython3",
      "version": "3.9.6"
    }
  },
  "nbformat": 4,
  "nbformat_minor": 5
}