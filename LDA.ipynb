{
  "cells": [
    {
      "cell_type": "code",
      "execution_count": 1,
      "id": "qJpglWsvbuYp",
      "metadata": {
        "colab": {
          "base_uri": "https://localhost:8080/"
        },
        "id": "qJpglWsvbuYp",
        "outputId": "a562ae34-4c55-4912-aac7-30ac2a0f31a8"
      },
      "outputs": [
        {
          "output_type": "stream",
          "name": "stdout",
          "text": [
            "Mounted at /content/drive\n"
          ]
        }
      ],
      "source": [
        "from google.colab import drive\n",
        "drive.mount('/content/drive')"
      ]
    },
    {
      "cell_type": "code",
      "source": [
        "#install GSDMM/vaderSentiment\n",
        "!pip install git+https://github.com/rwalk/gsdmm.git\n",
        "!pip install vaderSentiment\n",
        "!pip install pyldavis"
      ],
      "metadata": {
        "id": "gAzH70ps2z7Q",
        "outputId": "5d20f303-85b3-488a-e9dd-054f5efb7928",
        "colab": {
          "base_uri": "https://localhost:8080/"
        }
      },
      "id": "gAzH70ps2z7Q",
      "execution_count": 2,
      "outputs": [
        {
          "output_type": "stream",
          "name": "stdout",
          "text": [
            "Looking in indexes: https://pypi.org/simple, https://us-python.pkg.dev/colab-wheels/public/simple/\n",
            "Collecting git+https://github.com/rwalk/gsdmm.git\n",
            "  Cloning https://github.com/rwalk/gsdmm.git to /tmp/pip-req-build-euper_n1\n",
            "  Running command git clone -q https://github.com/rwalk/gsdmm.git /tmp/pip-req-build-euper_n1\n",
            "Requirement already satisfied: numpy in /usr/local/lib/python3.8/dist-packages (from gsdmm==0.1) (1.21.6)\n",
            "Building wheels for collected packages: gsdmm\n",
            "  Building wheel for gsdmm (setup.py) ... \u001b[?25l\u001b[?25hdone\n",
            "  Created wheel for gsdmm: filename=gsdmm-0.1-py3-none-any.whl size=4601 sha256=ac0b991cf02d574ceda22121bd40de865da770fc99c6d3351bcd9169b7391453\n",
            "  Stored in directory: /tmp/pip-ephem-wheel-cache-hd401woq/wheels/68/80/e9/70025f027e5fcf6d826c9c0e0b129c6214e4315e9d82e2dae2\n",
            "Successfully built gsdmm\n",
            "Installing collected packages: gsdmm\n",
            "Successfully installed gsdmm-0.1\n",
            "Looking in indexes: https://pypi.org/simple, https://us-python.pkg.dev/colab-wheels/public/simple/\n",
            "Collecting vaderSentiment\n",
            "  Downloading vaderSentiment-3.3.2-py2.py3-none-any.whl (125 kB)\n",
            "\u001b[K     |████████████████████████████████| 125 kB 5.0 MB/s \n",
            "\u001b[?25hRequirement already satisfied: requests in /usr/local/lib/python3.8/dist-packages (from vaderSentiment) (2.23.0)\n",
            "Requirement already satisfied: urllib3!=1.25.0,!=1.25.1,<1.26,>=1.21.1 in /usr/local/lib/python3.8/dist-packages (from requests->vaderSentiment) (1.24.3)\n",
            "Requirement already satisfied: certifi>=2017.4.17 in /usr/local/lib/python3.8/dist-packages (from requests->vaderSentiment) (2022.9.24)\n",
            "Requirement already satisfied: chardet<4,>=3.0.2 in /usr/local/lib/python3.8/dist-packages (from requests->vaderSentiment) (3.0.4)\n",
            "Requirement already satisfied: idna<3,>=2.5 in /usr/local/lib/python3.8/dist-packages (from requests->vaderSentiment) (2.10)\n",
            "Installing collected packages: vaderSentiment\n",
            "Successfully installed vaderSentiment-3.3.2\n",
            "Looking in indexes: https://pypi.org/simple, https://us-python.pkg.dev/colab-wheels/public/simple/\n",
            "Collecting pyldavis\n",
            "  Downloading pyLDAvis-3.3.1.tar.gz (1.7 MB)\n",
            "\u001b[K     |████████████████████████████████| 1.7 MB 5.0 MB/s \n",
            "\u001b[?25h  Installing build dependencies ... \u001b[?25l\u001b[?25hdone\n",
            "  Getting requirements to build wheel ... \u001b[?25l\u001b[?25hdone\n",
            "  Installing backend dependencies ... \u001b[?25l\u001b[?25hdone\n",
            "    Preparing wheel metadata ... \u001b[?25l\u001b[?25hdone\n",
            "Requirement already satisfied: scipy in /usr/local/lib/python3.8/dist-packages (from pyldavis) (1.7.3)\n",
            "Requirement already satisfied: jinja2 in /usr/local/lib/python3.8/dist-packages (from pyldavis) (2.11.3)\n",
            "Requirement already satisfied: numpy>=1.20.0 in /usr/local/lib/python3.8/dist-packages (from pyldavis) (1.21.6)\n",
            "Requirement already satisfied: gensim in /usr/local/lib/python3.8/dist-packages (from pyldavis) (3.6.0)\n",
            "Requirement already satisfied: pandas>=1.2.0 in /usr/local/lib/python3.8/dist-packages (from pyldavis) (1.3.5)\n",
            "Requirement already satisfied: setuptools in /usr/local/lib/python3.8/dist-packages (from pyldavis) (57.4.0)\n",
            "Requirement already satisfied: future in /usr/local/lib/python3.8/dist-packages (from pyldavis) (0.16.0)\n",
            "Requirement already satisfied: numexpr in /usr/local/lib/python3.8/dist-packages (from pyldavis) (2.8.4)\n",
            "Requirement already satisfied: joblib in /usr/local/lib/python3.8/dist-packages (from pyldavis) (1.2.0)\n",
            "Requirement already satisfied: scikit-learn in /usr/local/lib/python3.8/dist-packages (from pyldavis) (1.0.2)\n",
            "Collecting funcy\n",
            "  Downloading funcy-1.17-py2.py3-none-any.whl (33 kB)\n",
            "Collecting sklearn\n",
            "  Downloading sklearn-0.0.post1.tar.gz (3.6 kB)\n",
            "Requirement already satisfied: python-dateutil>=2.7.3 in /usr/local/lib/python3.8/dist-packages (from pandas>=1.2.0->pyldavis) (2.8.2)\n",
            "Requirement already satisfied: pytz>=2017.3 in /usr/local/lib/python3.8/dist-packages (from pandas>=1.2.0->pyldavis) (2022.6)\n",
            "Requirement already satisfied: six>=1.5 in /usr/local/lib/python3.8/dist-packages (from python-dateutil>=2.7.3->pandas>=1.2.0->pyldavis) (1.15.0)\n",
            "Requirement already satisfied: smart-open>=1.2.1 in /usr/local/lib/python3.8/dist-packages (from gensim->pyldavis) (5.2.1)\n",
            "Requirement already satisfied: MarkupSafe>=0.23 in /usr/local/lib/python3.8/dist-packages (from jinja2->pyldavis) (2.0.1)\n",
            "Requirement already satisfied: threadpoolctl>=2.0.0 in /usr/local/lib/python3.8/dist-packages (from scikit-learn->pyldavis) (3.1.0)\n",
            "Building wheels for collected packages: pyldavis, sklearn\n",
            "  Building wheel for pyldavis (PEP 517) ... \u001b[?25l\u001b[?25hdone\n",
            "  Created wheel for pyldavis: filename=pyLDAvis-3.3.1-py2.py3-none-any.whl size=136898 sha256=33568b5dc1ea5b2f51610d6c762b547989c21a21b3794d065d8ce8538aba1c93\n",
            "  Stored in directory: /root/.cache/pip/wheels/90/61/ec/9dbe9efc3acf9c4e37ba70fbbcc3f3a0ebd121060aa593181a\n",
            "  Building wheel for sklearn (setup.py) ... \u001b[?25l\u001b[?25hdone\n",
            "  Created wheel for sklearn: filename=sklearn-0.0.post1-py3-none-any.whl size=2344 sha256=44bbfebe94ba5f06a1470844cd09fc21db8d950e52739954942d5c2ab57844bc\n",
            "  Stored in directory: /root/.cache/pip/wheels/14/25/f7/1cc0956978ae479e75140219088deb7a36f60459df242b1a72\n",
            "Successfully built pyldavis sklearn\n",
            "Installing collected packages: sklearn, funcy, pyldavis\n",
            "Successfully installed funcy-1.17 pyldavis-3.3.1 sklearn-0.0.post1\n"
          ]
        }
      ]
    },
    {
      "cell_type": "code",
      "execution_count": 252,
      "id": "edfaf419",
      "metadata": {
        "colab": {
          "base_uri": "https://localhost:8080/"
        },
        "id": "edfaf419",
        "outputId": "c015bb4d-3312-4d24-9416-349bdca57864"
      },
      "outputs": [
        {
          "output_type": "stream",
          "name": "stderr",
          "text": [
            "[nltk_data] Downloading package averaged_perceptron_tagger to\n",
            "[nltk_data]     /root/nltk_data...\n",
            "[nltk_data]   Package averaged_perceptron_tagger is already up-to-\n",
            "[nltk_data]       date!\n",
            "[nltk_data] Downloading package wordnet to /root/nltk_data...\n",
            "[nltk_data]   Package wordnet is already up-to-date!\n",
            "[nltk_data] Downloading package omw-1.4 to /root/nltk_data...\n",
            "[nltk_data]   Package omw-1.4 is already up-to-date!\n",
            "[nltk_data] Downloading package punkt to /root/nltk_data...\n",
            "[nltk_data]   Package punkt is already up-to-date!\n",
            "[nltk_data] Downloading package stopwords to /root/nltk_data...\n",
            "[nltk_data]   Package stopwords is already up-to-date!\n"
          ]
        }
      ],
      "source": [
        "import pandas as pd\n",
        "import numpy as np\n",
        "import nltk\n",
        "nltk.download('averaged_perceptron_tagger')\n",
        "nltk.download('wordnet')\n",
        "nltk.download('omw-1.4')\n",
        "nltk.download('punkt')\n",
        "nltk.download('stopwords')\n",
        "from nltk.corpus import wordnet, stopwords\n",
        "from nltk.stem import WordNetLemmatizer\n",
        "from nltk.tokenize import word_tokenize\n",
        "from gsdmm import MovieGroupProcess\n",
        "import math\n",
        "import re\n",
        "import pyLDAvis\n",
        "import pyLDAvis.sklearn\n",
        "pyLDAvis.enable_notebook()\n",
        "\n",
        "#filename = \"AMAZON_FASHION_5.json\"\n",
        "filename = \"/content/drive/MyDrive/Github/CSCI-5525-final-project/AMAZON_FASHION_5.json\"\n",
        "\n",
        "\n",
        "df = pd.read_json(path_or_buf=filename, lines=True)\n"
      ]
    },
    {
      "cell_type": "code",
      "execution_count": 253,
      "id": "b930eeb1",
      "metadata": {
        "id": "b930eeb1"
      },
      "outputs": [],
      "source": [
        "#df['asin'].value_counts()"
      ]
    },
    {
      "cell_type": "code",
      "execution_count": 254,
      "id": "5c03edde",
      "metadata": {
        "id": "5c03edde"
      },
      "outputs": [],
      "source": [
        "#list(df[df['asin'] == 'B009MA34NY']['reviewText'])"
      ]
    },
    {
      "cell_type": "code",
      "execution_count": 255,
      "id": "39f55f9f",
      "metadata": {
        "id": "39f55f9f"
      },
      "outputs": [],
      "source": [
        "import json\n",
        "\n",
        "#filename = \"/content/drive/MyDrive/Github/CSCI-5525-final-project/AMAZON_FASHION_5.json\"\n",
        "def load_reviews(filename):\n",
        "  with open(filename) as f:\n",
        "      reviews_json = f.readlines()\n",
        "\n",
        "  reviews = []\n",
        "  for review_json in reviews_json:\n",
        "      review = json.loads(review_json)\n",
        "      if \"overall\" in review and \"reviewText\" in review:\n",
        "          reviews.append(\n",
        "              {\n",
        "                  \"rating\": review[\"overall\"],\n",
        "                  \"title\": review[\"summary\"],\n",
        "                  \"text\": review[\"reviewText\"],\n",
        "              }\n",
        "          )\n",
        "  return reviews\n",
        "\n",
        "reviews = load_reviews(filename)\n",
        "#df = pd.DataFrame.from_dict(reviews)"
      ]
    },
    {
      "cell_type": "code",
      "execution_count": 256,
      "id": "007edf04",
      "metadata": {
        "id": "007edf04"
      },
      "outputs": [],
      "source": [
        "import matplotlib.pyplot as plt\n",
        "def plot_top_words(model, feature_names, n_top_words, title):\n",
        "    fig, axes = plt.subplots(2, 5, figsize=(30, 15), sharex=True)\n",
        "    axes = axes.flatten()\n",
        "    for topic_idx, topic in enumerate(model.components_):\n",
        "        top_features_ind = topic.argsort()[: -n_top_words - 1 : -1]\n",
        "        top_features = [feature_names[i] for i in top_features_ind]\n",
        "        weights = topic[top_features_ind]\n",
        "\n",
        "        ax = axes[topic_idx]\n",
        "        ax.barh(top_features, weights, height=0.7)\n",
        "        ax.set_title(f\"Topic {topic_idx +1}\", fontdict={\"fontsize\": 30})\n",
        "        ax.invert_yaxis()\n",
        "        ax.tick_params(axis=\"both\", which=\"major\", labelsize=20)\n",
        "        for i in \"top right left\".split():\n",
        "            ax.spines[i].set_visible(False)\n",
        "        fig.suptitle(title, fontsize=40)\n",
        "\n",
        "    plt.subplots_adjust(top=0.90, bottom=0.05, wspace=0.90, hspace=0.3)\n",
        "    plt.show()"
      ]
    },
    {
      "cell_type": "markdown",
      "id": "783b1772",
      "metadata": {
        "id": "783b1772"
      },
      "source": [
        "# NMF and LDA\n",
        "Adapted from [here](https://scikit-learn.org/stable/auto_examples/applications/plot_topics_extraction_with_nmf_lda.html), minimal original work.\n",
        "\n",
        "The topics are extracting nothing of note.\n",
        "\n",
        "Further steps:\n",
        "\n",
        "- find a product with enough reviews to be worth analyzing alone (might have to request the full dataset)\n",
        "- mess around with heuristics for vectorizing terms (reducing `max_df` probably but didn't manage to get different results)\n",
        "- eliminate boring reviews?"
      ]
    },
    {
      "cell_type": "code",
      "execution_count": 257,
      "id": "a79bbcdf",
      "metadata": {
        "id": "a79bbcdf"
      },
      "outputs": [],
      "source": [
        "from sklearn.feature_extraction.text import TfidfVectorizer, CountVectorizer\n",
        "#from sklearn.decomposition import NMF, MiniBatchNMF, LatentDirichletAllocation\n",
        "from sklearn.decomposition import LatentDirichletAllocation\n",
        "\n",
        "n_samples = 2000\n",
        "n_features = 1000\n",
        "# Number of topics\n",
        "#n_components = 10\n",
        "n_top_words = 20\n",
        "batch_size = 128\n",
        "init = \"nndsvda\"\n",
        "\n",
        "product_id = 'B009MA34NY'\n",
        "if product_id:\n",
        "    data_samples = list(filter(lambda x: isinstance(x, str), df[df['asin'] == product_id]['reviewText']))\n",
        "else:\n",
        "    data_samples = list(map(lambda x: x['text'], reviews))[:n_samples]\n",
        "\n",
        "\n",
        "for s in data_samples:\n",
        "\n",
        "    if not isinstance(s,str):\n",
        "        print(s)"
      ]
    },
    {
      "cell_type": "code",
      "source": [
        "#preprocessing\n",
        "def lowercasing(data_samples):\n",
        "  for idx, sample in enumerate(data_samples):\n",
        "    data_samples[idx] = sample.lower()\n",
        "  return data_samples\n",
        "\n",
        "def punctuation_removal(data_samples):\n",
        "#non-exhaustive; not sure if we want to treat punctuation as significant\n",
        "#doesn't remove punctuation from inside words\n",
        "  for i, sample in enumerate(data_samples):\n",
        "    _sample = sample.split()\n",
        "    for j, word in enumerate(_sample):\n",
        "      _sample[j] = word.strip(\" 0123456789\\*\\$\\.!\\?@#&\\(\\):;,'\\/\\\\\\\"\")\n",
        "    sample = \" \".join(_sample)\n",
        "    data_samples[i] = sample\n",
        "  return data_samples\n",
        "\n",
        "def get_wordnet_pos(word):\n",
        "    \"\"\"Map POS tag to first character lemmatize() accepts\"\"\"\n",
        "    tag = nltk.pos_tag([word])[0][1]\n",
        "    if tag.startswith('J'):\n",
        "        return wordnet.ADJ\n",
        "    elif tag.startswith('V'):\n",
        "        return wordnet.VERB\n",
        "    elif tag.startswith('N'):\n",
        "        return wordnet.NOUN\n",
        "    elif tag.startswith('R'):\n",
        "        return wordnet.ADV\n",
        "    else:\n",
        "        return wordnet.NOUN\n",
        "\n",
        "def lemmatize(data_samples):\n",
        "  wnl = WordNetLemmatizer()\n",
        "  for i, sample in enumerate(data_samples):\n",
        "      _sample = sample.split()\n",
        "      for j, word in enumerate(_sample):\n",
        "        tag = get_wordnet_pos(word)\n",
        "        if (tag == 'r') or (tag == 'a') or (tag == 'v'):\n",
        "          _sample[j] = \"\"\n",
        "          idk = i\n",
        "        else:\n",
        "          _sample[j] = wnl.lemmatize(word,tag)\n",
        "      data_samples[i] = ' '.join(_sample)\n",
        "      data_samples[i] = re.sub(' +', ' ', data_samples[i])\n",
        "\n",
        "  return data_samples\n",
        "\n",
        "data_samples = lowercasing(data_samples)\n",
        "data_samples = punctuation_removal(data_samples)\n",
        "data_samples = lemmatize(data_samples)"
      ],
      "metadata": {
        "id": "oytRfXUSHxWI",
        "outputId": "59cffce5-3326-4b6c-c7e2-d90a15d7001f",
        "colab": {
          "base_uri": "https://localhost:8080/"
        }
      },
      "id": "oytRfXUSHxWI",
      "execution_count": 258,
      "outputs": [
        {
          "output_type": "stream",
          "name": "stderr",
          "text": [
            "<>:13: DeprecationWarning: invalid escape sequence \\*\n",
            "<>:13: DeprecationWarning: invalid escape sequence \\*\n",
            "<ipython-input-258-aae6a2bea7e7>:13: DeprecationWarning: invalid escape sequence \\*\n",
            "  _sample[j] = word.strip(\" 0123456789\\*\\$\\.!\\?@#&\\(\\):;,'\\/\\\\\\\"\")\n"
          ]
        }
      ]
    },
    {
      "cell_type": "code",
      "source": [
        "#LDA bigrams\n",
        "#Original code by Nicha Ruchirawat\n",
        "#https://nicharuc.github.io/topic_modeling/\n",
        "\n",
        "stop_word_list = set(nltk.corpus.stopwords.words('english'))\n",
        "\n",
        "ds = pd.DataFrame(data_samples)\n",
        "ds.columns = ['review']\n",
        "\n",
        "bigram_measures = nltk.collocations.BigramAssocMeasures()\n",
        "finder = nltk.collocations.BigramCollocationFinder.from_documents([r.split() for r in ds.review])\n",
        "\n",
        "# Filter only those bigrams that occur at least x times\n",
        "finder.apply_freq_filter(10)\n",
        "bigram_scores = finder.score_ngrams(bigram_measures.pmi)"
      ],
      "metadata": {
        "id": "I_S2IQj7FKKu"
      },
      "id": "I_S2IQj7FKKu",
      "execution_count": 259,
      "outputs": []
    },
    {
      "cell_type": "code",
      "source": [
        "trigram_measures = nltk.collocations.TrigramAssocMeasures()\n",
        "finder = nltk.collocations.TrigramCollocationFinder.from_documents([r.split() for r in ds.review])\n",
        "# Filter only those that occur at least x times\n",
        "finder.apply_freq_filter(2)\n",
        "trigram_scores = finder.score_ngrams(trigram_measures.pmi)"
      ],
      "metadata": {
        "id": "LfoPlce3Manu"
      },
      "id": "LfoPlce3Manu",
      "execution_count": 260,
      "outputs": []
    },
    {
      "cell_type": "code",
      "source": [
        "bigram_pmi = pd.DataFrame(bigram_scores)\n",
        "bigram_pmi.columns = ['bigram', 'pmi']\n",
        "bigram_pmi.sort_values(by='pmi', axis = 0, ascending = False, inplace = True)"
      ],
      "metadata": {
        "id": "KJ8oGvqxImDN"
      },
      "id": "KJ8oGvqxImDN",
      "execution_count": 261,
      "outputs": []
    },
    {
      "cell_type": "code",
      "source": [
        "trigram_pmi = pd.DataFrame(trigram_scores)\n",
        "trigram_pmi.columns = ['trigram', 'pmi']\n",
        "trigram_pmi.sort_values(by='pmi', axis = 0, ascending = False, inplace = True)"
      ],
      "metadata": {
        "id": "a5e0QcdKMrKF"
      },
      "id": "a5e0QcdKMrKF",
      "execution_count": 262,
      "outputs": []
    },
    {
      "cell_type": "code",
      "source": [
        "# Filter for bigrams with only noun-type structures\n",
        "def bigram_filter(bigram):\n",
        "    tag = nltk.pos_tag(bigram)\n",
        "    if tag[0][1] not in ['JJ', 'NN'] and tag[1][1] not in ['NN']:\n",
        "        return False\n",
        "    if bigram[0] in stop_word_list or bigram[1] in stop_word_list:\n",
        "        return False\n",
        "    if 'n' in bigram or 't' in bigram:\n",
        "        return False\n",
        "    return True"
      ],
      "metadata": {
        "id": "WqrsM6PNKOMq"
      },
      "id": "WqrsM6PNKOMq",
      "execution_count": 263,
      "outputs": []
    },
    {
      "cell_type": "code",
      "source": [
        "# Filter for trigrams with only noun-type structures\n",
        "def trigram_filter(trigram):\n",
        "    tag = nltk.pos_tag(trigram)\n",
        "    if tag[0][1] not in ['JJ', 'NN'] and tag[1][1] not in ['JJ','NN']:\n",
        "        return False\n",
        "    if trigram[0] in stop_word_list or trigram[-1] in stop_word_list or trigram[1] in stop_word_list:\n",
        "        return False\n",
        "    if 'n' in trigram or 't' in trigram:\n",
        "         return False\n",
        "    return True "
      ],
      "metadata": {
        "id": "RBkj5G96M0iC"
      },
      "id": "RBkj5G96M0iC",
      "execution_count": 264,
      "outputs": []
    },
    {
      "cell_type": "code",
      "source": [
        "# Can set pmi threshold to whatever makes sense - eyeball through and select threshold where n-grams stop making sense\n",
        "# choose top 500 ngrams in this case ranked by PMI that have noun like structures\n",
        "filtered_bigram = bigram_pmi[bigram_pmi.apply(lambda bigram: bigram_filter(bigram['bigram']) and bigram.pmi > 3, axis = 1)][:500]\n",
        "\n",
        "filtered_trigram = trigram_pmi[trigram_pmi.apply(lambda trigram: trigram_filter(trigram['trigram']) and trigram.pmi > 17, axis = 1)][:500]\n",
        "\n",
        "\n",
        "bigrams = [' '.join(x) for x in filtered_bigram.bigram.values if len(x[0]) > 2 or len(x[1]) > 2]\n",
        "trigrams = [' '.join(x) for x in filtered_trigram.trigram.values if len(x[0]) > 2 or len(x[1]) > 2 and len(x[2]) > 2]"
      ],
      "metadata": {
        "id": "PGtK1LL-KfMn"
      },
      "id": "PGtK1LL-KfMn",
      "execution_count": 265,
      "outputs": []
    },
    {
      "cell_type": "code",
      "source": [
        "# examples of bigrams\n",
        "bigrams[:10]"
      ],
      "metadata": {
        "id": "hi0b0z6lKjz9",
        "outputId": "d3e604c2-3773-47fa-ea97-32dc1cae867e",
        "colab": {
          "base_uri": "https://localhost:8080/"
        }
      },
      "id": "hi0b0z6lKjz9",
      "execution_count": 266,
      "outputs": [
        {
          "output_type": "execute_result",
          "data": {
            "text/plain": [
              "['light weight', 'arch support', 'feel like', 'fit perfect']"
            ]
          },
          "metadata": {},
          "execution_count": 266
        }
      ]
    },
    {
      "cell_type": "code",
      "source": [
        "# examples of trigrams\n",
        "trigrams[:10]"
      ],
      "metadata": {
        "id": "DD5emZJ2ND0E",
        "outputId": "6311b80a-65b9-4881-a938-d683a4f078c7",
        "colab": {
          "base_uri": "https://localhost:8080/"
        }
      },
      "id": "DD5emZJ2ND0E",
      "execution_count": 267,
      "outputs": [
        {
          "output_type": "execute_result",
          "data": {
            "text/plain": [
              "[\"women's flex supreme\", 'flex supreme tr', 'cardio dance class']"
            ]
          },
          "metadata": {},
          "execution_count": 267
        }
      ]
    },
    {
      "cell_type": "code",
      "source": [
        "# Concatenate n-grams\n",
        "def replace_ngram(x):\n",
        "    for gram in trigrams:\n",
        "        x = x.replace(gram, '_'.join(gram.split()))\n",
        "    for gram in bigrams:\n",
        "        x = x.replace(gram, '_'.join(gram.split()))\n",
        "    return x"
      ],
      "metadata": {
        "id": "L1ZWyuw4OVUU"
      },
      "id": "L1ZWyuw4OVUU",
      "execution_count": 268,
      "outputs": []
    },
    {
      "cell_type": "code",
      "source": [
        "reviews_w_ngrams = ds.copy()"
      ],
      "metadata": {
        "id": "E6Cln0AKOZCN"
      },
      "id": "E6Cln0AKOZCN",
      "execution_count": 269,
      "outputs": []
    },
    {
      "cell_type": "code",
      "source": [
        "reviews_w_ngrams.review = reviews_w_ngrams.review.map(lambda x: replace_ngram(x))"
      ],
      "metadata": {
        "id": "kg_Wy35KO8RT"
      },
      "id": "kg_Wy35KO8RT",
      "execution_count": 270,
      "outputs": []
    },
    {
      "cell_type": "code",
      "source": [
        "_data_samples = reviews_w_ngrams.values.tolist()\n",
        "data_samples = [item for sublist in _data_samples for item in sublist]"
      ],
      "metadata": {
        "id": "eG_oWJjfPC8S"
      },
      "id": "eG_oWJjfPC8S",
      "execution_count": 271,
      "outputs": []
    },
    {
      "cell_type": "code",
      "source": [
        "# Get word frequencies\n",
        "freq = nltk.FreqDist()\n",
        "\n",
        "for sample in data_samples:\n",
        "  for word in word_tokenize(sample):\n",
        "    if word == '``':\n",
        "      print(sample)\n",
        "    freq[word] += 1\n",
        "\n",
        "print(freq.B())"
      ],
      "metadata": {
        "id": "AOYd60WcxYUL",
        "outputId": "20d42cdd-1c85-4aa2-e14b-ffb971aa7a61",
        "colab": {
          "base_uri": "https://localhost:8080/"
        }
      },
      "id": "AOYd60WcxYUL",
      "execution_count": 272,
      "outputs": [
        {
          "output_type": "stream",
          "name": "stdout",
          "text": [
            "821\n"
          ]
        }
      ]
    },
    {
      "cell_type": "code",
      "source": [
        "# Get bigram frequencies\n",
        "bi_freq = nltk.FreqDist()\n",
        "\n",
        "for sample in data_samples:\n",
        "  bigrams = nltk.bigrams(word_tokenize(sample))\n",
        "  for gram in bigrams:\n",
        "    if gram[1] == 'ups':\n",
        "      print('WTF')\n",
        "    bi_freq[gram] += 1\n",
        "\n",
        "print(bi_freq.B())"
      ],
      "metadata": {
        "id": "8BXtKeMR0ARP",
        "outputId": "2fae3b6f-2d51-4858-d260-5c03907b2aa9",
        "colab": {
          "base_uri": "https://localhost:8080/"
        }
      },
      "id": "8BXtKeMR0ARP",
      "execution_count": 273,
      "outputs": [
        {
          "output_type": "stream",
          "name": "stdout",
          "text": [
            "3539\n"
          ]
        }
      ]
    },
    {
      "cell_type": "code",
      "source": [
        "# UMass coherence\n",
        "def u_mass(features, freq, bi_freq, num_docs):\n",
        "  pairs = nltk.bigrams(features)\n",
        "  sum = 0\n",
        "  eta = 1/num_docs\n",
        "  for pair in pairs:\n",
        "    prob = (bi_freq.freq(pair) + eta)/freq.freq(pair[1])\n",
        "    sum += prob\n",
        "  return coherence\n",
        "\n",
        "def avg_umass(model, feature_names, freq, bi_freq, num_docs):\n",
        "  coherences = []\n",
        "  for topic_idx, topic in enumerate(model.components_):\n",
        "    top_features_ind = topic.argsort()\n",
        "    top_features = [feature_names[i] for i in top_features_ind]\n",
        "    coherences.append(u_mass(top_features, freq, bi_freq, num_docs))\n",
        "  return coherences, sum(coherences)/len(coherences)"
      ],
      "metadata": {
        "id": "G9DbkxPv3-Ed"
      },
      "id": "G9DbkxPv3-Ed",
      "execution_count": 280,
      "outputs": []
    },
    {
      "cell_type": "code",
      "execution_count": 275,
      "id": "b327af90",
      "metadata": {
        "id": "b327af90"
      },
      "outputs": [],
      "source": [
        "# Use tf (raw term count) features for LDA.\n",
        "tf_vectorizer = CountVectorizer(\n",
        "    max_df=0.01, min_df=2, max_features=n_features, stop_words=\"english\", tokenizer=word_tokenize\n",
        ")\n",
        "tf = tf_vectorizer.fit_transform(data_samples)"
      ]
    },
    {
      "cell_type": "code",
      "execution_count": 281,
      "id": "d3bb9280",
      "metadata": {
        "id": "d3bb9280",
        "scrolled": false,
        "outputId": "0ba63649-1d1b-498c-b896-1b924e076343",
        "colab": {
          "base_uri": "https://localhost:8080/",
          "height": 1000
        }
      },
      "outputs": [
        {
          "output_type": "stream",
          "name": "stdout",
          "text": [
            "Fitting LDA models with tf features, n_samples=2000 and n_features=1000...\n",
            "Number of topics:  2\n",
            "Average coherence:  -0.00021970279841409336\n",
            "\n",
            "Number of topics:  5\n",
            "Average coherence:  -0.00021970279841409336\n",
            "\n",
            "Number of topics:  10\n",
            "Average coherence:  -0.00021970279841409336\n",
            "\n",
            "Number of topics:  15\n",
            "Average coherence:  -0.00021970279841409342\n",
            "\n",
            "Number of topics:  20\n",
            "Average coherence:  -0.00021970279841409344\n",
            "\n",
            "Number of topics:  25\n",
            "Average coherence:  -0.00021970279841409336\n",
            "\n"
          ]
        },
        {
          "output_type": "display_data",
          "data": {
            "text/plain": [
              "<Figure size 2160x1080 with 10 Axes>"
            ],
            "image/png": "[encoded data removed]"
          },
          "metadata": {
            "needs_background": "light"
          }
        }
      ],
      "source": [
        "print(\n",
        "    \"Fitting LDA models with tf features, n_samples=%d and n_features=%d...\"\n",
        "    % (n_samples, n_features),\n",
        ")\n",
        "\n",
        "n_components = [2, 5, 10, 15, 20, 25]\n",
        "coherences = []\n",
        "num_docs = len(data_samples)\n",
        "\n",
        "for num in n_components:\n",
        "  lda = LatentDirichletAllocation(\n",
        "      n_components=num,\n",
        "      max_iter=5,\n",
        "      learning_method=\"online\",\n",
        "      learning_offset=50.0,\n",
        "      random_state=0,\n",
        "  )\n",
        "  lda.fit(tf)\n",
        "  tf_feature_names = tf_vectorizer.get_feature_names_out()\n",
        "  coherence = avg_umass(lda, tf_feature_names, freq, bi_freq, num_docs)[1]\n",
        "  coherences.append(coherence)\n",
        "\n",
        "for i, c in enumerate(coherences):\n",
        "  print(\"Number of topics: \", n_components[i])\n",
        "  print(\"Average coherence: \", c)\n",
        "  print()\n",
        "\n",
        "n_components = n_components[coherences.index(max(coherences))]\n",
        "\n",
        "lda = LatentDirichletAllocation(\n",
        "    n_components=n_components,\n",
        "    max_iter=5,\n",
        "    learning_method=\"online\",\n",
        "    learning_offset=50.0,\n",
        "    random_state=0,\n",
        ")\n",
        "lda.fit(tf)\n",
        "\n",
        "tf_feature_names = tf_vectorizer.get_feature_names_out()\n",
        "plot_top_words(lda, tf_feature_names, n_top_words, \"Topics in LDA model\")"
      ]
    },
    {
      "cell_type": "code",
      "source": [
        "topic_data = pyLDAvis.sklearn.prepare(lda, tf, tf_vectorizer)\n",
        "pyLDAvis.display(topic_data)"
      ],
      "metadata": {
        "id": "xqL9orUHuinl",
        "outputId": "276a78e1-cde0-4de4-8c90-cc0a1f499f36",
        "colab": {
          "base_uri": "https://localhost:8080/",
          "height": 861
        }
      },
      "id": "xqL9orUHuinl",
      "execution_count": 279,
      "outputs": [
        {
          "output_type": "execute_result",
          "data": {
            "text/plain": [
              "<IPython.core.display.HTML object>"
            ],
            "text/html": [
              "\n",
              "<link rel=\"stylesheet\" type=\"text/css\" href=\"https://cdn.jsdelivr.net/gh/bmabey/pyLDAvis@3.3.1/pyLDAvis/js/ldavis.v1.0.0.css\">\n",
              "\n",
              "\n",
              "<div id=\"ldavis_el721398699735165761112615824\"></div>\n",
              "<script type=\"text/javascript\">\n",
              "\n",
              "var ldavis_el721398699735165761112615824_data = {\"mdsDat\": {\"x\": [0.038246347411820716, -0.038246347411820716], \"y\": [0.0, 0.0], \"topics\": [1, 2], \"cluster\": [1, 1], \"Freq\": [55.58360329327908, 44.416396706720924]}, \"tinfo\": {\"Term\": [\"compliment\", \"camp\", \"photo\", \"hope\", \"orthotics\", \"description\", \"start\", \"insert\", \"wo\", \"life\", \"kick\", \"hiit\", \"preference\", \"thinner\", \"money\", \"exact\", \"neon\", \"outside\", \"lack\", \"fact\", \"edge\", \"snug\", \"blue\", \"heal\", \"ca\", \"absolute\", \"ok\", \"accurate\", \"ache\", \"knew\", \"edge\", \"purchasing\", \"row\", \"cool\", \"fast\", \"slip\", \"decent\", \"felt\", \"insole\", \"clean\", \"night\", \"fan\", \"plus\", \"cloud\", \"shipping\", \"tie\", \"movement\", \"s\", \"ran\", \"credit\", \"stylish\", \"minimalist\", \"help\", \"resistance\", \"aerobics\", \"supportive\", \"routine\", \"wire\", \"cardio_dance_class\", \"dirt\", \"plenty\", \"gift\", \"tr\", \"quick\", \"floor\", \"did\", \"star\", \"compliment\", \"photo\", \"hope\", \"camp\", \"description\", \"orthotics\", \"wo\", \"start\", \"life\", \"kick\", \"preference\", \"outside\", \"exact\", \"thinner\", \"neon\", \"blue\", \"lack\", \"snug\", \"ok\", \"money\", \"fact\", \"insert\", \"heal\", \"accurate\", \"ca\", \"impact\", \"absolute\", \"line\", \"knew\", \"swell\", \"hiit\", \"multiple\", \"ache\", \"mesh\", \"width\", \"couple\"], \"Freq\": [2.0, 2.0, 2.0, 2.0, 2.0, 2.0, 2.0, 2.0, 2.0, 2.0, 2.0, 2.0, 2.0, 2.0, 2.0, 2.0, 2.0, 2.0, 2.0, 2.0, 3.0, 2.0, 2.0, 2.0, 2.0, 2.0, 2.0, 2.0, 2.0, 2.0, 2.5778198427340886, 2.215916504785319, 2.245624288260175, 2.1529682186862287, 2.1524445596005077, 2.112651855717235, 2.1094855645045545, 2.1698835297722128, 2.6321783343654905, 2.1011865059194568, 2.1315026176609204, 2.0482687973806004, 2.076550833435112, 1.6893381937792895, 1.7050427784131255, 1.7464308083618563, 1.979421105864382, 1.6653474735828175, 2.0120105279063716, 1.6717453145951748, 2.0476762780229123, 1.662732887548867, 2.072651717412835, 1.5829151157345647, 1.600227135549479, 1.9619880613961587, 1.675115501134778, 1.5593634345740774, 1.546444208649712, 1.5815713501117308, 2.1012254122588754, 1.9180335836452775, 1.9585407271083686, 1.9073979281031146, 1.8100696097731817, 1.8996457270695493, 1.6734860182397011, 1.9155553731644774, 1.8259368443994244, 1.8321332324662738, 1.9791918931453065, 1.8493806232160999, 1.862647321099497, 1.5051060139308368, 1.841956075445575, 1.5163387584450059, 1.5581073177046167, 1.4987613727029034, 1.4632578352836016, 1.4787492588905051, 1.5102169359144264, 1.4981267059424022, 1.4398899448924976, 1.5013075491542855, 1.4601267892102845, 1.4076104057019372, 1.5353573663593647, 1.4956515555001983, 1.7638995021637298, 1.4814016914521952, 1.4184645927259427, 1.490041031788706, 1.3763342158104435, 1.5041416353702513, 1.4031886358991945, 1.4610918329716116, 1.4127717775548512, 1.771516674604983, 1.473219933346147, 1.5543277595284761, 1.5283369816835273, 1.5356906106187427, 1.525299236173222], \"Total\": [2.0, 2.0, 2.0, 2.0, 2.0, 2.0, 2.0, 2.0, 2.0, 2.0, 2.0, 2.0, 2.0, 2.0, 2.0, 2.0, 2.0, 2.0, 2.0, 2.0, 3.0, 2.0, 2.0, 2.0, 2.0, 2.0, 2.0, 2.0, 2.0, 2.0, 3.114473482638054, 2.763012098154919, 2.8348208163831763, 2.7215705962209977, 2.7274672490606795, 2.6801239158493018, 2.6812320432963648, 2.772660645001353, 3.377218753382397, 2.6973090903277193, 2.7520483891935292, 2.6918939157926385, 2.7304630364853084, 2.230519548717968, 2.2525203321596092, 2.322168879656531, 2.636859394459175, 2.233803620186536, 2.7137621938407386, 2.2601089781304315, 2.7700494974074843, 2.249833872373868, 2.810685523931977, 2.149827762681725, 2.1743457601950724, 2.6707421942166336, 2.2825483260942887, 2.1367719579076336, 2.123009465826724, 2.1720149035920473, 2.8932260170107855, 2.69643242616376, 2.832447128026624, 2.771710083388845, 2.588116453640011, 2.7841176727113384, 2.33535973904553, 2.50586458901529, 2.420023533074856, 2.4736461334598183, 2.6839568921508494, 2.511229727038946, 2.5310958968083153, 2.0685514782356615, 2.5597080288108733, 2.1097676047699228, 2.198361483110008, 2.118784312729006, 2.0737358981668472, 2.0992072115895057, 2.152140322800115, 2.1356266114021327, 2.053804465850358, 2.1450075530695534, 2.0899601769846545, 2.0173069236743864, 2.2035645394451495, 2.1486258563423903, 2.537041068513317, 2.1315086325765864, 2.0496463033591388, 2.156822232564005, 1.9960896857869321, 2.1863484354046845, 2.0615057775892804, 2.152351840720347, 2.0863212343031443, 2.6189281646394083, 2.176540037120161, 2.3198994802151285, 2.2814782045122737, 2.6776115302759607, 2.725168987651524], \"Category\": [\"Default\", \"Default\", \"Default\", \"Default\", \"Default\", \"Default\", \"Default\", \"Default\", \"Default\", \"Default\", \"Default\", \"Default\", \"Default\", \"Default\", \"Default\", \"Default\", \"Default\", \"Default\", \"Default\", \"Default\", \"Default\", \"Default\", \"Default\", \"Default\", \"Default\", \"Default\", \"Default\", \"Default\", \"Default\", \"Default\", \"Topic1\", \"Topic1\", \"Topic1\", \"Topic1\", \"Topic1\", \"Topic1\", \"Topic1\", \"Topic1\", \"Topic1\", \"Topic1\", \"Topic1\", \"Topic1\", \"Topic1\", \"Topic1\", \"Topic1\", \"Topic1\", \"Topic1\", \"Topic1\", \"Topic1\", \"Topic1\", \"Topic1\", \"Topic1\", \"Topic1\", \"Topic1\", \"Topic1\", \"Topic1\", \"Topic1\", \"Topic1\", \"Topic1\", \"Topic1\", \"Topic1\", \"Topic1\", \"Topic1\", \"Topic1\", \"Topic1\", \"Topic1\", \"Topic1\", \"Topic2\", \"Topic2\", \"Topic2\", \"Topic2\", \"Topic2\", \"Topic2\", \"Topic2\", \"Topic2\", \"Topic2\", \"Topic2\", \"Topic2\", \"Topic2\", \"Topic2\", \"Topic2\", \"Topic2\", \"Topic2\", \"Topic2\", \"Topic2\", \"Topic2\", \"Topic2\", \"Topic2\", \"Topic2\", \"Topic2\", \"Topic2\", \"Topic2\", \"Topic2\", \"Topic2\", \"Topic2\", \"Topic2\", \"Topic2\", \"Topic2\", \"Topic2\", \"Topic2\", \"Topic2\", \"Topic2\", \"Topic2\"], \"logprob\": [30.0, 29.0, 28.0, 27.0, 26.0, 25.0, 24.0, 23.0, 22.0, 21.0, 20.0, 19.0, 18.0, 17.0, 16.0, 15.0, 14.0, 13.0, 12.0, 11.0, 10.0, 9.0, 8.0, 7.0, 6.0, 5.0, 4.0, 3.0, 2.0, 1.0, -4.2372, -4.3885, -4.3752, -4.4173, -4.4176, -4.4362, -4.4377, -4.4095, -4.2163, -4.4417, -4.4273, -4.4672, -4.4535, -4.6598, -4.6506, -4.6266, -4.5014, -4.6741, -4.485, -4.6703, -4.4675, -4.6757, -4.4553, -4.7249, -4.714, -4.5102, -4.6683, -4.7399, -4.7482, -4.7257, -4.4416, -4.5329, -4.512, -4.5384, -4.5908, -4.5425, -4.6693, -4.3099, -4.3578, -4.3544, -4.2772, -4.345, -4.3379, -4.551, -4.3491, -4.5436, -4.5164, -4.5552, -4.5792, -4.5687, -4.5476, -4.5557, -4.5953, -4.5535, -4.5814, -4.618, -4.5311, -4.5573, -4.3924, -4.5669, -4.6103, -4.5611, -4.6405, -4.5517, -4.6211, -4.5807, -4.6143, -4.388, -4.5724, -4.5188, -4.5357, -4.5309, -4.5377], \"loglift\": [30.0, 29.0, 28.0, 27.0, 26.0, 25.0, 24.0, 23.0, 22.0, 21.0, 20.0, 19.0, 18.0, 17.0, 16.0, 15.0, 14.0, 13.0, 12.0, 11.0, 10.0, 9.0, 8.0, 7.0, 6.0, 5.0, 4.0, 3.0, 2.0, 1.0, 0.3982, 0.3666, 0.3543, 0.3529, 0.3505, 0.3494, 0.3474, 0.3421, 0.338, 0.3375, 0.3318, 0.314, 0.3135, 0.3094, 0.3088, 0.3024, 0.3005, 0.2936, 0.2881, 0.2857, 0.2851, 0.2849, 0.2827, 0.2812, 0.2807, 0.2789, 0.2779, 0.2723, 0.2704, 0.27, 0.2674, 0.2467, 0.2183, 0.2136, 0.2297, 0.205, 0.254, 0.5429, 0.5299, 0.5113, 0.507, 0.5056, 0.5049, 0.4936, 0.4825, 0.4813, 0.4673, 0.4654, 0.4629, 0.4612, 0.4574, 0.457, 0.4564, 0.4548, 0.4529, 0.4517, 0.4502, 0.4493, 0.4481, 0.4477, 0.4435, 0.4417, 0.4398, 0.4376, 0.4269, 0.4242, 0.4217, 0.4206, 0.4213, 0.4111, 0.4109, 0.2556, 0.2312]}, \"token.table\": {\"Topic\": [1, 2, 1, 2, 1, 2, 1, 2, 1, 2, 1, 2, 1, 2, 1, 2, 1, 2, 1, 2, 1, 2, 1, 2, 1, 2, 1, 2, 1, 2, 1, 2, 1, 2, 1, 2, 1, 2, 1, 2, 1, 2, 1, 2, 1, 2, 1, 2, 1, 2, 1, 2, 1, 2, 1, 2, 1, 2, 1, 2, 1, 2, 1, 2, 1, 2, 1, 2, 1, 2, 1, 2, 1, 2, 1, 2, 1, 2, 1, 2, 1, 2, 1, 2, 1, 2, 1, 2, 1, 2, 1, 2, 1, 2, 1, 2, 1, 2, 1, 2, 1, 2, 1, 2, 1, 2, 1, 2, 1, 2, 1, 2, 1, 2, 1, 2, 1, 2, 1, 2, 1, 2, 1, 2, 1, 2, 1, 2, 1, 2, 1, 2, 1, 2, 1, 2, 1, 2, 1, 2, 1, 2, 1, 2, 1, 2], \"Freq\": [0.457383637395795, 0.91476727479159, 0.4878890559610763, 0.4878890559610763, 0.43105315921156556, 0.8621063184231311, 0.9198169107293078, 0.4599084553646539, 0.48690126865897126, 0.48690126865897126, 0.4636450723206853, 0.4636450723206853, 0.3725842255233196, 0.7451684510466392, 0.9420589178678849, 0.47102945893394244, 0.7414797240597305, 0.37073986202986525, 0.8966520832106298, 0.4483260416053149, 0.3990638617839131, 0.7981277235678262, 0.7348697854015158, 0.3674348927007579, 0.36694972111134017, 0.7338994422226803, 0.8849130813392926, 0.4424565406696463, 0.7459257414890346, 0.3729628707445173, 0.3982112784158242, 0.7964225568316484, 0.7183604412999834, 0.3591802206499917, 0.9208039948033637, 0.46040199740168186, 0.9632446757770783, 0.32108155859235943, 0.47637031469742647, 0.47637031469742647, 0.4654137420194234, 0.4654137420194234, 0.7429713289467027, 0.37148566447335135, 0.7332810323162582, 0.3666405161581291, 0.721328808704256, 0.360664404352128, 0.7727627546230136, 0.3863813773115068, 0.7417207939623464, 0.3708603969811732, 0.4691512784497575, 0.4691512784497575, 0.7115701785100891, 0.35578508925504454, 0.3818355972882085, 0.763671194576417, 0.40426154188890734, 0.8085230837778147, 0.5009794936171734, 0.5009794936171734, 0.39415995760210176, 0.7883199152042035, 0.8883049097709174, 0.29610163659030575, 0.45488424341628586, 0.9097684868325717, 0.46460805388830895, 0.46460805388830895, 0.46619882460039724, 0.9323976492007945, 0.47398585405289384, 0.9479717081057877, 0.48508231743565494, 0.48508231743565494, 0.4383123178745319, 0.8766246357490638, 0.8889545244021682, 0.4444772622010841, 0.45381017079345304, 0.9076203415869061, 0.7584780607576552, 0.3792390303788276, 0.45944479905967045, 0.45944479905967045, 0.4682466469845382, 0.4682466469845382, 0.7267314077228445, 0.36336570386142225, 0.4957103890659179, 0.4957103890659179, 0.39508578132538924, 0.7901715626507785, 0.48222148292074496, 0.48222148292074496, 0.41321912218325035, 0.8264382443665007, 0.6912698794497756, 0.3456349397248878, 0.73247649694406, 0.36623824847203, 0.47196875774108143, 0.47196875774108143, 0.723847717255946, 0.361923858627973, 0.721576189366346, 0.360788094683173, 0.7369842518033741, 0.36849212590168706, 0.9303070853942141, 0.46515354269710707, 0.8762136499524799, 0.43810682497623993, 0.705511963381062, 0.352755981690531, 0.8953338520567838, 0.4476669260283919, 0.8878943161780455, 0.44394715808902274, 0.7462341528959574, 0.3731170764479787, 0.4784780164772214, 0.4784780164772214, 0.8563991091228657, 0.4281995545614328, 0.3906695563495793, 0.7813391126991586, 0.7220087590029778, 0.3610043795014889, 0.748855507031306, 0.374427753515653, 0.479312573518436, 0.479312573518436, 0.46465371677015754, 0.9293074335403151, 0.8612638027841529, 0.43063190139207647, 0.7061032067325497, 0.35305160336627484, 0.3734671697865514, 0.7469343395731028, 0.9359913174630188, 0.4679956587315094, 0.4834300768056951, 0.9668601536113902], \"Term\": [\"absolute\", \"absolute\", \"accurate\", \"accurate\", \"ache\", \"ache\", \"aerobics\", \"aerobics\", \"blue\", \"blue\", \"ca\", \"ca\", \"camp\", \"camp\", \"cardio_dance_class\", \"cardio_dance_class\", \"clean\", \"clean\", \"cloud\", \"cloud\", \"compliment\", \"compliment\", \"cool\", \"cool\", \"couple\", \"couple\", \"credit\", \"credit\", \"decent\", \"decent\", \"description\", \"description\", \"did\", \"did\", \"dirt\", \"dirt\", \"edge\", \"edge\", \"exact\", \"exact\", \"fact\", \"fact\", \"fan\", \"fan\", \"fast\", \"fast\", \"felt\", \"felt\", \"floor\", \"floor\", \"gift\", \"gift\", \"heal\", \"heal\", \"help\", \"help\", \"hiit\", \"hiit\", \"hope\", \"hope\", \"impact\", \"impact\", \"insert\", \"insert\", \"insole\", \"insole\", \"kick\", \"kick\", \"knew\", \"knew\", \"lack\", \"lack\", \"life\", \"life\", \"line\", \"line\", \"mesh\", \"mesh\", \"minimalist\", \"minimalist\", \"money\", \"money\", \"movement\", \"movement\", \"multiple\", \"multiple\", \"neon\", \"neon\", \"night\", \"night\", \"ok\", \"ok\", \"orthotics\", \"orthotics\", \"outside\", \"outside\", \"photo\", \"photo\", \"plenty\", \"plenty\", \"plus\", \"plus\", \"preference\", \"preference\", \"purchasing\", \"purchasing\", \"quick\", \"quick\", \"ran\", \"ran\", \"resistance\", \"resistance\", \"routine\", \"routine\", \"row\", \"row\", \"s\", \"s\", \"shipping\", \"shipping\", \"slip\", \"slip\", \"snug\", \"snug\", \"star\", \"star\", \"start\", \"start\", \"stylish\", \"stylish\", \"supportive\", \"supportive\", \"swell\", \"swell\", \"thinner\", \"thinner\", \"tie\", \"tie\", \"tr\", \"tr\", \"width\", \"width\", \"wire\", \"wire\", \"wo\", \"wo\"]}, \"R\": 30, \"lambda.step\": 0.01, \"plot.opts\": {\"xlab\": \"PC1\", \"ylab\": \"PC2\"}, \"topic.order\": [2, 1]};\n",
              "\n",
              "function LDAvis_load_lib(url, callback){\n",
              "  var s = document.createElement('script');\n",
              "  s.src = url;\n",
              "  s.async = true;\n",
              "  s.onreadystatechange = s.onload = callback;\n",
              "  s.onerror = function(){console.warn(\"failed to load library \" + url);};\n",
              "  document.getElementsByTagName(\"head\")[0].appendChild(s);\n",
              "}\n",
              "\n",
              "if(typeof(LDAvis) !== \"undefined\"){\n",
              "   // already loaded: just create the visualization\n",
              "   !function(LDAvis){\n",
              "       new LDAvis(\"#\" + \"ldavis_el721398699735165761112615824\", ldavis_el721398699735165761112615824_data);\n",
              "   }(LDAvis);\n",
              "}else if(typeof define === \"function\" && define.amd){\n",
              "   // require.js is available: use it to load d3/LDAvis\n",
              "   require.config({paths: {d3: \"https://d3js.org/d3.v5\"}});\n",
              "   require([\"d3\"], function(d3){\n",
              "      window.d3 = d3;\n",
              "      LDAvis_load_lib(\"https://cdn.jsdelivr.net/gh/bmabey/pyLDAvis@3.3.1/pyLDAvis/js/ldavis.v3.0.0.js\", function(){\n",
              "        new LDAvis(\"#\" + \"ldavis_el721398699735165761112615824\", ldavis_el721398699735165761112615824_data);\n",
              "      });\n",
              "    });\n",
              "}else{\n",
              "    // require.js not available: dynamically load d3 & LDAvis\n",
              "    LDAvis_load_lib(\"https://d3js.org/d3.v5.js\", function(){\n",
              "         LDAvis_load_lib(\"https://cdn.jsdelivr.net/gh/bmabey/pyLDAvis@3.3.1/pyLDAvis/js/ldavis.v3.0.0.js\", function(){\n",
              "                 new LDAvis(\"#\" + \"ldavis_el721398699735165761112615824\", ldavis_el721398699735165761112615824_data);\n",
              "            })\n",
              "         });\n",
              "}\n",
              "</script>"
            ]
          },
          "metadata": {},
          "execution_count": 279
        }
      ]
    },
    {
      "cell_type": "code",
      "execution_count": null,
      "id": "71e55dc7",
      "metadata": {
        "id": "71e55dc7"
      },
      "outputs": [],
      "source": [
        "for i, sample in enumerate(data_samples):\n",
        "    if len(sample) > 300 and len(sample) < 700:\n",
        "        print(i,\":\", sample)"
      ]
    },
    {
      "cell_type": "code",
      "execution_count": null,
      "id": "2d3aee19",
      "metadata": {
        "id": "2d3aee19"
      },
      "outputs": [],
      "source": [
        "lda.transform(tf_vectorizer.transform([data_samples[84]]))"
      ]
    },
    {
      "cell_type": "code",
      "execution_count": null,
      "id": "3d31f777",
      "metadata": {
        "id": "3d31f777"
      },
      "outputs": [],
      "source": [
        "data_samples[84]"
      ]
    },
    {
      "cell_type": "code",
      "execution_count": null,
      "id": "68167001",
      "metadata": {
        "id": "68167001"
      },
      "outputs": [],
      "source": [
        "\n",
        "raw_reviews = list(filter(lambda x: isinstance(x, str), df[df['asin'] == product_id]['reviewText']))\n",
        "\n",
        "#raw_reviews[337] were the sentences you were using prior for sentiment analysis\n",
        "def get_sents(raw_reviews):\n",
        "  raw_sentences = []\n",
        "  for review in raw_reviews:\n",
        "    raw_sentences.append(sent_tokenize(review))\n",
        "  raw_sentences = sum(raw_sentences, [])\n",
        "\n",
        "  processed_sentences = raw_sentences[:]\n",
        "  processed_sentences = lowercasing(processed_sentences)\n",
        "  processed_sentences = punctuation_removal(processed_sentences)\n",
        "  processed_sentences = lemmatize(processed_sentences)\n",
        "  return raw_sentences, processed_sentences\n",
        "\n",
        "raw_sentences, processed_sentences = get_sents(raw_reviews)"
      ]
    },
    {
      "cell_type": "code",
      "source": [
        "#GSDMM\n",
        "raw_reviews = list(map(lambda x: x['text'], reviews))[:n_samples]\n",
        "raw_sentences, processed_sentences = get_sents(raw_reviews)"
      ],
      "metadata": {
        "id": "FGIjqIg6JrF0"
      },
      "id": "FGIjqIg6JrF0",
      "execution_count": null,
      "outputs": []
    },
    {
      "cell_type": "code",
      "source": [
        "#GSDMM\n",
        "def get_words(sentences):\n",
        "  words = []\n",
        "  for sentence in sentences:\n",
        "    words.append(word_tokenize(sentence))\n",
        "  return words\n",
        "\n",
        "def remove_stopwords(words):\n",
        "  #Just using nltk stopwords for now\n",
        "  stops = set(nltk.corpus.stopwords.words('english'))\n",
        "  _words = []\n",
        "  for word in words:\n",
        "    if word not in stops:\n",
        "      _words.append(word)\n",
        "  return _words\n",
        "\n",
        "docs = get_words(processed_sentences)\n",
        "for i, words in enumerate(docs):\n",
        "  docs[i] = remove_stopwords(words)\n",
        "  docs[i] = list(set(docs[i]))\n",
        "\n",
        "vocab = set(x for word in words for x in word)\n",
        "\n",
        "mgp = MovieGroupProcess(K=10, alpha=.01, beta=.01, n_iters=30)\n",
        "# tutorials I saw used bigrams/trigrams for tokens in docs; might be an option for us\n",
        "model = mgp.fit(docs, len(vocab))"
      ],
      "metadata": {
        "id": "q-FayfD97_XN"
      },
      "id": "q-FayfD97_XN",
      "execution_count": null,
      "outputs": []
    },
    {
      "cell_type": "code",
      "source": [
        "#credit to Catherine\n",
        "#https://www.kaggle.com/code/ptfrwrd/topic-modeling-guide-gsdm-lda-lsi/notebook\n",
        "\n",
        "def top_words(cluster_word_distribution, top_cluster, values):\n",
        "    for cluster in top_cluster:\n",
        "        sort_dicts =sorted(mgp.cluster_word_distribution[cluster].items(), key=lambda k: k[1], reverse=True)[:values]\n",
        "        print(\"\\nCluster %s : %s\"%(cluster,sort_dicts))\n",
        "\n",
        "doc_count = np.array(mgp.cluster_doc_count)\n",
        "print('Number of documents per topic :', doc_count)\n",
        "\n",
        "# topics sorted by the number of document they are allocated to\n",
        "top_index = doc_count.argsort()[-10:][::-1]\n",
        "print('\\nMost important clusters (by number of docs inside):', top_index)\n",
        "# show the top 5 words in term frequency for each cluster \n",
        "top_words(mgp.cluster_word_distribution, top_index, 10)"
      ],
      "metadata": {
        "id": "rAFBO0kEE5RX"
      },
      "id": "rAFBO0kEE5RX",
      "execution_count": null,
      "outputs": []
    },
    {
      "cell_type": "code",
      "execution_count": null,
      "id": "38433267",
      "metadata": {
        "id": "38433267"
      },
      "outputs": [],
      "source": [
        "feature_names = tf_vectorizer.get_feature_names_out()\n",
        "topic_words = []\n",
        "for topic in lda.components_:\n",
        "    top_features_ind = topic.argsort()[: -10- 1 : -1]\n",
        "    topic_words.append([feature_names[i] for i in top_features_ind])"
      ]
    },
    {
      "cell_type": "code",
      "execution_count": null,
      "id": "f780a69b",
      "metadata": {
        "scrolled": true,
        "id": "f780a69b"
      },
      "outputs": [],
      "source": [
        "feature_names = tf_vectorizer.get_feature_names_out()\n",
        "topic_words = []\n",
        "for topic in lda.components_:\n",
        "    top_features_ind = topic.argsort()[: -10- 1 : -1]\n",
        "    topic_words.append([feature_names[i] for i in top_features_ind])\n",
        "from vaderSentiment.vaderSentiment import SentimentIntensityAnalyzer\n",
        "analyzer = SentimentIntensityAnalyzer()\n",
        "\n",
        "# TODO: for now compound (a composite score) will suffice. Neutrality (neu) might suggest highly informational content.\n",
        "#Had to change some of the sentence processing code so the sentences were't limited\n",
        "#in that code block. I limited the sentences here for endless print statment reasons\n",
        "for raw, processed in zip(raw_sentences[:20], processed_sentences[:20]):\n",
        "    vs = analyzer.polarity_scores(raw)\n",
        "    probs = lda.transform(tf_vectorizer.transform([processed]))[0]\n",
        "    topic = probs.argmax()\n",
        "    if probs[topic] < 0.2:\n",
        "        print(\"{} \\n\\t overall: {:.2f} neutral: {:.2f}, No Topic\\n\".format(raw, vs['compound'], vs['neu']))\n",
        "    else:\n",
        "        print(\"{} \\n\\t overall: {:.2f} neutral: {:.2f}, Topic {}: {}\\n\".format(raw, vs['compound'], vs['neu'], topic+1, \", \".join(topic_words[topic])))"
      ]
    },
    {
      "cell_type": "code",
      "execution_count": null,
      "id": "1db11f93",
      "metadata": {
        "id": "1db11f93"
      },
      "outputs": [],
      "source": [
        "lda.transform(tf_vectorizer.transform([\"easy gift life\"])).argmax()\n",
        "topic_words[6]"
      ]
    }
  ],
  "metadata": {
    "colab": {
      "provenance": [],
      "toc_visible": true
    },
    "kernelspec": {
      "display_name": "Python 3 (ipykernel)",
      "language": "python",
      "name": "python3"
    },
    "language_info": {
      "codemirror_mode": {
        "name": "ipython",
        "version": 3
      },
      "file_extension": ".py",
      "mimetype": "text/x-python",
      "name": "python",
      "nbconvert_exporter": "python",
      "pygments_lexer": "ipython3",
      "version": "3.9.6"
    }
  },
  "nbformat": 4,
  "nbformat_minor": 5
}