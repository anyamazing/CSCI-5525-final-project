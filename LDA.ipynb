{
  "cells": [
    {
      "cell_type": "code",
      "execution_count": 1,
      "id": "qJpglWsvbuYp",
      "metadata": {
        "colab": {
          "base_uri": "https://localhost:8080/"
        },
        "id": "qJpglWsvbuYp",
        "outputId": "f57bbd26-8fb6-4a2f-9131-15fae99d0746"
      },
      "outputs": [
        {
          "output_type": "stream",
          "name": "stdout",
          "text": [
            "Mounted at /content/drive\n"
          ]
        }
      ],
      "source": [
        "from google.colab import drive\n",
        "drive.mount('/content/drive')"
      ]
    },
    {
      "cell_type": "code",
      "source": [
        "#install GSDMM/vaderSentiment\n",
        "!pip install git+https://github.com/rwalk/gsdmm.git\n",
        "!pip install vaderSentiment"
      ],
      "metadata": {
        "id": "gAzH70ps2z7Q",
        "outputId": "de82516e-f567-4b79-ea84-7453011e88f7",
        "colab": {
          "base_uri": "https://localhost:8080/"
        }
      },
      "id": "gAzH70ps2z7Q",
      "execution_count": 2,
      "outputs": [
        {
          "output_type": "stream",
          "name": "stdout",
          "text": [
            "Looking in indexes: https://pypi.org/simple, https://us-python.pkg.dev/colab-wheels/public/simple/\n",
            "Collecting git+https://github.com/rwalk/gsdmm.git\n",
            "  Cloning https://github.com/rwalk/gsdmm.git to /tmp/pip-req-build-htv9ir39\n",
            "  Running command git clone -q https://github.com/rwalk/gsdmm.git /tmp/pip-req-build-htv9ir39\n",
            "Requirement already satisfied: numpy in /usr/local/lib/python3.7/dist-packages (from gsdmm==0.1) (1.21.6)\n",
            "Building wheels for collected packages: gsdmm\n",
            "  Building wheel for gsdmm (setup.py) ... \u001b[?25l\u001b[?25hdone\n",
            "  Created wheel for gsdmm: filename=gsdmm-0.1-py3-none-any.whl size=4601 sha256=62a0db8c5238894f59aa8903769ad50d9ef1ecb4f3afa32e5428e0e003a97663\n",
            "  Stored in directory: /tmp/pip-ephem-wheel-cache-yzgqr5ni/wheels/34/65/a6/7eef67b88abae954fecd22587bd755c27b58a9ffe488d6b0de\n",
            "Successfully built gsdmm\n",
            "Installing collected packages: gsdmm\n",
            "Successfully installed gsdmm-0.1\n",
            "Looking in indexes: https://pypi.org/simple, https://us-python.pkg.dev/colab-wheels/public/simple/\n",
            "Collecting vaderSentiment\n",
            "  Downloading vaderSentiment-3.3.2-py2.py3-none-any.whl (125 kB)\n",
            "\u001b[K     |████████████████████████████████| 125 kB 14.9 MB/s \n",
            "\u001b[?25hRequirement already satisfied: requests in /usr/local/lib/python3.7/dist-packages (from vaderSentiment) (2.23.0)\n",
            "Requirement already satisfied: certifi>=2017.4.17 in /usr/local/lib/python3.7/dist-packages (from requests->vaderSentiment) (2022.9.24)\n",
            "Requirement already satisfied: idna<3,>=2.5 in /usr/local/lib/python3.7/dist-packages (from requests->vaderSentiment) (2.10)\n",
            "Requirement already satisfied: urllib3!=1.25.0,!=1.25.1,<1.26,>=1.21.1 in /usr/local/lib/python3.7/dist-packages (from requests->vaderSentiment) (1.24.3)\n",
            "Requirement already satisfied: chardet<4,>=3.0.2 in /usr/local/lib/python3.7/dist-packages (from requests->vaderSentiment) (3.0.4)\n",
            "Installing collected packages: vaderSentiment\n",
            "Successfully installed vaderSentiment-3.3.2\n"
          ]
        }
      ]
    },
    {
      "cell_type": "code",
      "execution_count": 5,
      "id": "edfaf419",
      "metadata": {
        "colab": {
          "base_uri": "https://localhost:8080/"
        },
        "id": "edfaf419",
        "outputId": "98d24f20-1012-41e9-875e-56ad3e77a06e"
      },
      "outputs": [
        {
          "output_type": "stream",
          "name": "stderr",
          "text": [
            "[nltk_data] Downloading package averaged_perceptron_tagger to\n",
            "[nltk_data]     /root/nltk_data...\n",
            "[nltk_data]   Package averaged_perceptron_tagger is already up-to-\n",
            "[nltk_data]       date!\n",
            "[nltk_data] Downloading package wordnet to /root/nltk_data...\n",
            "[nltk_data]   Package wordnet is already up-to-date!\n",
            "[nltk_data] Downloading package omw-1.4 to /root/nltk_data...\n",
            "[nltk_data]   Package omw-1.4 is already up-to-date!\n",
            "[nltk_data] Downloading package punkt to /root/nltk_data...\n",
            "[nltk_data]   Package punkt is already up-to-date!\n",
            "[nltk_data] Downloading package stopwords to /root/nltk_data...\n",
            "[nltk_data]   Package stopwords is already up-to-date!\n"
          ]
        }
      ],
      "source": [
        "import pandas as pd\n",
        "import numpy as np\n",
        "import nltk\n",
        "nltk.download('averaged_perceptron_tagger')\n",
        "nltk.download('wordnet')\n",
        "nltk.download('omw-1.4')\n",
        "nltk.download('punkt')\n",
        "nltk.download('stopwords')\n",
        "from nltk.corpus import wordnet, stopwords\n",
        "from nltk.stem import WordNetLemmatizer\n",
        "from gsdmm import MovieGroupProcess\n",
        "\n",
        "#filename = \"AMAZON_FASHION_5.json\"\n",
        "filename = \"/content/drive/MyDrive/Github/CSCI-5525-final-project/AMAZON_FASHION_5.json\"\n",
        "\n",
        "\n",
        "df = pd.read_json(path_or_buf=filename, lines=True)\n"
      ]
    },
    {
      "cell_type": "code",
      "execution_count": null,
      "id": "b930eeb1",
      "metadata": {
        "id": "b930eeb1"
      },
      "outputs": [],
      "source": [
        "#df['asin'].value_counts()"
      ]
    },
    {
      "cell_type": "code",
      "execution_count": null,
      "id": "5c03edde",
      "metadata": {
        "id": "5c03edde"
      },
      "outputs": [],
      "source": [
        "#list(df[df['asin'] == 'B009MA34NY']['reviewText'])"
      ]
    },
    {
      "cell_type": "code",
      "execution_count": 6,
      "id": "39f55f9f",
      "metadata": {
        "id": "39f55f9f"
      },
      "outputs": [],
      "source": [
        "import json\n",
        "\n",
        "#filename = \"/content/drive/MyDrive/Github/CSCI-5525-final-project/AMAZON_FASHION_5.json\"\n",
        "def load_reviews(filename):\n",
        "  with open(filename) as f:\n",
        "      reviews_json = f.readlines()\n",
        "\n",
        "  reviews = []\n",
        "  for review_json in reviews_json:\n",
        "      review = json.loads(review_json)\n",
        "      if \"overall\" in review and \"reviewText\" in review:\n",
        "          reviews.append(\n",
        "              {\n",
        "                  \"rating\": review[\"overall\"],\n",
        "                  \"title\": review[\"summary\"],\n",
        "                  \"text\": review[\"reviewText\"],\n",
        "              }\n",
        "          )\n",
        "  return reviews\n",
        "\n",
        "reviews = load_reviews(filename)\n",
        "#df = pd.DataFrame.from_dict(reviews)"
      ]
    },
    {
      "cell_type": "code",
      "execution_count": 7,
      "id": "007edf04",
      "metadata": {
        "id": "007edf04"
      },
      "outputs": [],
      "source": [
        "import matplotlib.pyplot as plt\n",
        "def plot_top_words(model, feature_names, n_top_words, title):\n",
        "    fig, axes = plt.subplots(2, 5, figsize=(30, 15), sharex=True)\n",
        "    axes = axes.flatten()\n",
        "    for topic_idx, topic in enumerate(model.components_):\n",
        "        top_features_ind = topic.argsort()[: -n_top_words - 1 : -1]\n",
        "        top_features = [feature_names[i] for i in top_features_ind]\n",
        "        weights = topic[top_features_ind]\n",
        "\n",
        "        ax = axes[topic_idx]\n",
        "        ax.barh(top_features, weights, height=0.7)\n",
        "        ax.set_title(f\"Topic {topic_idx +1}\", fontdict={\"fontsize\": 30})\n",
        "        ax.invert_yaxis()\n",
        "        ax.tick_params(axis=\"both\", which=\"major\", labelsize=20)\n",
        "        for i in \"top right left\".split():\n",
        "            ax.spines[i].set_visible(False)\n",
        "        fig.suptitle(title, fontsize=40)\n",
        "\n",
        "    plt.subplots_adjust(top=0.90, bottom=0.05, wspace=0.90, hspace=0.3)\n",
        "    plt.show()"
      ]
    },
    {
      "cell_type": "markdown",
      "id": "783b1772",
      "metadata": {
        "id": "783b1772"
      },
      "source": [
        "# NMF and LDA\n",
        "Adapted from [here](https://scikit-learn.org/stable/auto_examples/applications/plot_topics_extraction_with_nmf_lda.html), minimal original work.\n",
        "\n",
        "The topics are extracting nothing of note.\n",
        "\n",
        "Further steps:\n",
        "\n",
        "- find a product with enough reviews to be worth analyzing alone (might have to request the full dataset)\n",
        "- mess around with heuristics for vectorizing terms (reducing `max_df` probably but didn't manage to get different results)\n",
        "- eliminate boring reviews?"
      ]
    },
    {
      "cell_type": "code",
      "execution_count": 8,
      "id": "a79bbcdf",
      "metadata": {
        "id": "a79bbcdf"
      },
      "outputs": [],
      "source": [
        "from sklearn.feature_extraction.text import TfidfVectorizer, CountVectorizer\n",
        "#from sklearn.decomposition import NMF, MiniBatchNMF, LatentDirichletAllocation\n",
        "from sklearn.decomposition import LatentDirichletAllocation\n",
        "\n",
        "n_samples = 2000\n",
        "n_features = 1000\n",
        "n_components = 10\n",
        "n_top_words = 20\n",
        "batch_size = 128\n",
        "init = \"nndsvda\"\n",
        "\n",
        "product_id = 'B009MA34NY'\n",
        "if product_id:\n",
        "    data_samples = list(filter(lambda x: isinstance(x, str), df[df['asin'] == product_id]['reviewText']))\n",
        "else:\n",
        "    data_samples = list(map(lambda x: x['text'], reviews))[:n_samples]\n",
        "\n",
        "\n",
        "for s in data_samples:\n",
        "\n",
        "    if not isinstance(s,str):\n",
        "        print(s)"
      ]
    },
    {
      "cell_type": "code",
      "execution_count": 9,
      "id": "8xfEAra1ghjl",
      "metadata": {
        "id": "8xfEAra1ghjl"
      },
      "outputs": [],
      "source": [
        "#preprocessing\n",
        "def lowercasing(data_samples):\n",
        "  for idx, sample in enumerate(data_samples):\n",
        "    data_samples[idx] = sample.lower()\n",
        "  return data_samples\n",
        "\n",
        "def punctuation_removal(data_samples):\n",
        "#non-exhaustive; not sure if we want to treat punctuation as significant\n",
        "#doesn't remove punctuation from inside words\n",
        "  for i, sample in enumerate(data_samples):\n",
        "    _sample = sample.split()\n",
        "    for j, word in enumerate(_sample):\n",
        "      _sample[j] = word.strip(\" .!?@#&():;,'\\/\\\\\")\n",
        "    sample = \" \".join(_sample)\n",
        "    data_samples[i] = sample\n",
        "  return data_samples\n",
        "\n",
        "#credit to Selva Prabhakaran\n",
        "# https://www.machinelearningplus.com/nlp/lemmatization-examples-python/\n",
        "def get_wordnet_pos(word):\n",
        "    \"\"\"Map POS tag to first character lemmatize() accepts\"\"\"\n",
        "    tag = nltk.pos_tag([word])[0][1][0].upper()\n",
        "    tag_dict = {\"J\": wordnet.ADJ,\n",
        "                \"N\": wordnet.NOUN,\n",
        "                \"V\": wordnet.VERB,\n",
        "                \"R\": wordnet.ADV}\n",
        "\n",
        "    return tag_dict.get(tag, wordnet.NOUN)\n",
        "\n",
        "def lemmatize(data_samples):\n",
        "  wnl = WordNetLemmatizer()\n",
        "  for i, sample in enumerate(data_samples):\n",
        "      _sample = sample.split()\n",
        "      for j, word in enumerate(_sample):\n",
        "        tag = get_wordnet_pos(word)\n",
        "        _sample[j] = wnl.lemmatize(word,tag)\n",
        "      data_samples[i] = \" \".join(_sample)\n",
        "  return data_samples\n",
        "\n",
        "data_samples = lowercasing(data_samples)\n",
        "data_samples = punctuation_removal(data_samples)\n",
        "data_samples = lemmatize(data_samples)"
      ]
    },
    {
      "cell_type": "code",
      "execution_count": 10,
      "id": "74a91681",
      "metadata": {
        "colab": {
          "base_uri": "https://localhost:8080/"
        },
        "id": "74a91681",
        "outputId": "0c260cd5-656b-4398-effb-3284d18aae75",
        "scrolled": true
      },
      "outputs": [
        {
          "output_type": "stream",
          "name": "stdout",
          "text": [
            "Extracting tf-idf features for NMF...\n",
            "(375, 343)\n"
          ]
        }
      ],
      "source": [
        "# Use tf-idf features for NMF.\n",
        "print(\"Extracting tf-idf features for NMF...\")\n",
        "tfidf_vectorizer = TfidfVectorizer(\n",
        "    max_df=0.03, min_df=2, max_features=n_features, stop_words=\"english\"\n",
        ")\n",
        "tfidf = tfidf_vectorizer.fit_transform(data_samples)\n",
        "print(tfidf.shape)"
      ]
    },
    {
      "cell_type": "code",
      "execution_count": null,
      "id": "6e095478",
      "metadata": {
        "id": "6e095478"
      },
      "outputs": [],
      "source": [
        "#len(data_samples)"
      ]
    },
    {
      "cell_type": "code",
      "execution_count": null,
      "id": "91e578a6",
      "metadata": {
        "id": "91e578a6"
      },
      "outputs": [],
      "source": [
        "#print(len(tfidf_vectorizer.stop_words_))\n",
        "#tfidf_vectorizer.stop_words_"
      ]
    },
    {
      "cell_type": "code",
      "execution_count": null,
      "id": "297ad3a5",
      "metadata": {
        "id": "297ad3a5"
      },
      "outputs": [],
      "source": [
        "#tfidf_vectorizer.get_stop_words()"
      ]
    },
    {
      "cell_type": "code",
      "execution_count": 11,
      "id": "dbde3c64",
      "metadata": {
        "colab": {
          "base_uri": "https://localhost:8080/",
          "height": 254
        },
        "id": "dbde3c64",
        "outputId": "13825cc0-eb9d-45cb-ecc3-4444b7aac9a1"
      },
      "outputs": [
        {
          "output_type": "stream",
          "name": "stdout",
          "text": [
            "Fitting the NMF model (Frobenius norm) with tf-idf features, n_samples=2000 and n_features=1000...\n"
          ]
        },
        {
          "output_type": "error",
          "ename": "NameError",
          "evalue": "ignored",
          "traceback": [
            "\u001b[0;31m---------------------------------------------------------------------------\u001b[0m",
            "\u001b[0;31mNameError\u001b[0m                                 Traceback (most recent call last)",
            "\u001b[0;32m<ipython-input-11-72a2737fe9d6>\u001b[0m in \u001b[0;36m<module>\u001b[0;34m\u001b[0m\n\u001b[1;32m      4\u001b[0m     \u001b[0;34m\"n_samples=%d and n_features=%d...\"\u001b[0m \u001b[0;34m%\u001b[0m \u001b[0;34m(\u001b[0m\u001b[0mn_samples\u001b[0m\u001b[0;34m,\u001b[0m \u001b[0mn_features\u001b[0m\u001b[0;34m)\u001b[0m\u001b[0;34m\u001b[0m\u001b[0;34m\u001b[0m\u001b[0m\n\u001b[1;32m      5\u001b[0m )\n\u001b[0;32m----> 6\u001b[0;31m nmf = NMF(\n\u001b[0m\u001b[1;32m      7\u001b[0m     \u001b[0mn_components\u001b[0m\u001b[0;34m=\u001b[0m\u001b[0mn_components\u001b[0m\u001b[0;34m,\u001b[0m\u001b[0;34m\u001b[0m\u001b[0;34m\u001b[0m\u001b[0m\n\u001b[1;32m      8\u001b[0m     \u001b[0mrandom_state\u001b[0m\u001b[0;34m=\u001b[0m\u001b[0;36m1\u001b[0m\u001b[0;34m,\u001b[0m\u001b[0;34m\u001b[0m\u001b[0;34m\u001b[0m\u001b[0m\n",
            "\u001b[0;31mNameError\u001b[0m: name 'NMF' is not defined"
          ]
        }
      ],
      "source": [
        "# Fit the NMF model\n",
        "print(\n",
        "    \"Fitting the NMF model (Frobenius norm) with tf-idf features, \"\n",
        "    \"n_samples=%d and n_features=%d...\" % (n_samples, n_features)\n",
        ")\n",
        "nmf = NMF(\n",
        "    n_components=n_components,\n",
        "    random_state=1,\n",
        "    init=init,\n",
        "    beta_loss=\"frobenius\",\n",
        "    alpha_W=0.00005,\n",
        "    alpha_H=0.00005,\n",
        "    l1_ratio=1,\n",
        ").fit(tfidf)\n"
      ]
    },
    {
      "cell_type": "code",
      "execution_count": 12,
      "id": "bcb34cb0",
      "metadata": {
        "colab": {
          "base_uri": "https://localhost:8080/",
          "height": 237
        },
        "id": "bcb34cb0",
        "outputId": "4c8bb00f-b2e0-425e-be9d-1dffcf7fd20c",
        "scrolled": true
      },
      "outputs": [
        {
          "output_type": "error",
          "ename": "NameError",
          "evalue": "ignored",
          "traceback": [
            "\u001b[0;31m---------------------------------------------------------------------------\u001b[0m",
            "\u001b[0;31mNameError\u001b[0m                                 Traceback (most recent call last)",
            "\u001b[0;32m<ipython-input-12-1aff517002e4>\u001b[0m in \u001b[0;36m<module>\u001b[0;34m\u001b[0m\n\u001b[1;32m      1\u001b[0m \u001b[0mtfidf_feature_names\u001b[0m \u001b[0;34m=\u001b[0m \u001b[0mtfidf_vectorizer\u001b[0m\u001b[0;34m.\u001b[0m\u001b[0mget_feature_names_out\u001b[0m\u001b[0;34m(\u001b[0m\u001b[0;34m)\u001b[0m\u001b[0;34m\u001b[0m\u001b[0;34m\u001b[0m\u001b[0m\n\u001b[1;32m      2\u001b[0m plot_top_words(\n\u001b[0;32m----> 3\u001b[0;31m     \u001b[0mnmf\u001b[0m\u001b[0;34m,\u001b[0m\u001b[0;34m\u001b[0m\u001b[0;34m\u001b[0m\u001b[0m\n\u001b[0m\u001b[1;32m      4\u001b[0m     \u001b[0mtfidf_feature_names\u001b[0m\u001b[0;34m,\u001b[0m\u001b[0;34m\u001b[0m\u001b[0;34m\u001b[0m\u001b[0m\n\u001b[1;32m      5\u001b[0m     \u001b[0mn_top_words\u001b[0m\u001b[0;34m,\u001b[0m\u001b[0;34m\u001b[0m\u001b[0;34m\u001b[0m\u001b[0m\n",
            "\u001b[0;31mNameError\u001b[0m: name 'nmf' is not defined"
          ]
        }
      ],
      "source": [
        "tfidf_feature_names = tfidf_vectorizer.get_feature_names_out()\n",
        "plot_top_words(\n",
        "    nmf, \n",
        "    tfidf_feature_names, \n",
        "    n_top_words, \n",
        "    \"Topics in NMF model (Frobenius norm)\"\n",
        ")"
      ]
    },
    {
      "cell_type": "code",
      "execution_count": 13,
      "id": "609c12cb",
      "metadata": {
        "colab": {
          "base_uri": "https://localhost:8080/",
          "height": 237
        },
        "id": "609c12cb",
        "outputId": "1cd79de6-760f-4fef-9c5c-cadf541ca191"
      },
      "outputs": [
        {
          "output_type": "error",
          "ename": "NameError",
          "evalue": "ignored",
          "traceback": [
            "\u001b[0;31m---------------------------------------------------------------------------\u001b[0m",
            "\u001b[0;31mNameError\u001b[0m                                 Traceback (most recent call last)",
            "\u001b[0;32m<ipython-input-13-79275e0b5f7f>\u001b[0m in \u001b[0;36m<module>\u001b[0;34m\u001b[0m\n\u001b[1;32m      1\u001b[0m \u001b[0mtfidf_feature_names\u001b[0m \u001b[0;34m=\u001b[0m \u001b[0mtfidf_vectorizer\u001b[0m\u001b[0;34m.\u001b[0m\u001b[0mget_feature_names_out\u001b[0m\u001b[0;34m(\u001b[0m\u001b[0;34m)\u001b[0m\u001b[0;34m\u001b[0m\u001b[0;34m\u001b[0m\u001b[0m\n\u001b[1;32m      2\u001b[0m plot_top_words(\n\u001b[0;32m----> 3\u001b[0;31m     \u001b[0mnmf\u001b[0m\u001b[0;34m,\u001b[0m\u001b[0;34m\u001b[0m\u001b[0;34m\u001b[0m\u001b[0m\n\u001b[0m\u001b[1;32m      4\u001b[0m     \u001b[0mtfidf_feature_names\u001b[0m\u001b[0;34m,\u001b[0m\u001b[0;34m\u001b[0m\u001b[0;34m\u001b[0m\u001b[0m\n\u001b[1;32m      5\u001b[0m     \u001b[0mn_top_words\u001b[0m\u001b[0;34m,\u001b[0m\u001b[0;34m\u001b[0m\u001b[0;34m\u001b[0m\u001b[0m\n",
            "\u001b[0;31mNameError\u001b[0m: name 'nmf' is not defined"
          ]
        }
      ],
      "source": [
        "tfidf_feature_names = tfidf_vectorizer.get_feature_names_out()\n",
        "plot_top_words(\n",
        "    nmf,\n",
        "    tfidf_feature_names,\n",
        "    n_top_words,\n",
        "    \"Topics in NMF model (generalized Kullback-Leibler divergence)\",\n",
        ")"
      ]
    },
    {
      "cell_type": "code",
      "execution_count": 14,
      "id": "95885ce7",
      "metadata": {
        "colab": {
          "base_uri": "https://localhost:8080/",
          "height": 309
        },
        "id": "95885ce7",
        "outputId": "165a1959-0071-4956-e42e-40b40abbe692"
      },
      "outputs": [
        {
          "output_type": "stream",
          "name": "stdout",
          "text": [
            "\n",
            "\n",
            " Fitting the MiniBatchNMF model (Frobenius norm) with tf-idf features, n_samples=2000 and n_features=1000, batch_size=128...\n"
          ]
        },
        {
          "output_type": "error",
          "ename": "NameError",
          "evalue": "ignored",
          "traceback": [
            "\u001b[0;31m---------------------------------------------------------------------------\u001b[0m",
            "\u001b[0;31mNameError\u001b[0m                                 Traceback (most recent call last)",
            "\u001b[0;32m<ipython-input-14-6eb792bddaab>\u001b[0m in \u001b[0;36m<module>\u001b[0;34m\u001b[0m\n\u001b[1;32m      6\u001b[0m     \u001b[0;34m%\u001b[0m \u001b[0;34m(\u001b[0m\u001b[0mn_samples\u001b[0m\u001b[0;34m,\u001b[0m \u001b[0mn_features\u001b[0m\u001b[0;34m,\u001b[0m \u001b[0mbatch_size\u001b[0m\u001b[0;34m)\u001b[0m\u001b[0;34m,\u001b[0m\u001b[0;34m\u001b[0m\u001b[0;34m\u001b[0m\u001b[0m\n\u001b[1;32m      7\u001b[0m )\n\u001b[0;32m----> 8\u001b[0;31m mbnmf = MiniBatchNMF(\n\u001b[0m\u001b[1;32m      9\u001b[0m     \u001b[0mn_components\u001b[0m\u001b[0;34m=\u001b[0m\u001b[0mn_components\u001b[0m\u001b[0;34m,\u001b[0m\u001b[0;34m\u001b[0m\u001b[0;34m\u001b[0m\u001b[0m\n\u001b[1;32m     10\u001b[0m     \u001b[0mrandom_state\u001b[0m\u001b[0;34m=\u001b[0m\u001b[0;36m1\u001b[0m\u001b[0;34m,\u001b[0m\u001b[0;34m\u001b[0m\u001b[0;34m\u001b[0m\u001b[0m\n",
            "\u001b[0;31mNameError\u001b[0m: name 'MiniBatchNMF' is not defined"
          ]
        }
      ],
      "source": [
        "# Fit the MiniBatchNMF model\n",
        "print(\n",
        "    \"\\n\" * 2,\n",
        "    \"Fitting the MiniBatchNMF model (Frobenius norm) with tf-idf \"\n",
        "    \"features, n_samples=%d and n_features=%d, batch_size=%d...\"\n",
        "    % (n_samples, n_features, batch_size),\n",
        ")\n",
        "mbnmf = MiniBatchNMF(\n",
        "    n_components=n_components,\n",
        "    random_state=1,\n",
        "    batch_size=batch_size,\n",
        "    init=init,\n",
        "    beta_loss=\"frobenius\",\n",
        "    alpha_W=0.00005,\n",
        "    alpha_H=0.00005,\n",
        "    l1_ratio=0.5,\n",
        ").fit(tfidf)"
      ]
    },
    {
      "cell_type": "code",
      "execution_count": 15,
      "id": "974a710b",
      "metadata": {
        "id": "974a710b",
        "outputId": "b5b08b73-ad2a-4926-8cb3-c3e2b03a2279",
        "colab": {
          "base_uri": "https://localhost:8080/",
          "height": 237
        }
      },
      "outputs": [
        {
          "output_type": "error",
          "ename": "NameError",
          "evalue": "ignored",
          "traceback": [
            "\u001b[0;31m---------------------------------------------------------------------------\u001b[0m",
            "\u001b[0;31mNameError\u001b[0m                                 Traceback (most recent call last)",
            "\u001b[0;32m<ipython-input-15-f336c9a741e9>\u001b[0m in \u001b[0;36m<module>\u001b[0;34m\u001b[0m\n\u001b[1;32m      1\u001b[0m \u001b[0mtfidf_feature_names\u001b[0m \u001b[0;34m=\u001b[0m \u001b[0mtfidf_vectorizer\u001b[0m\u001b[0;34m.\u001b[0m\u001b[0mget_feature_names_out\u001b[0m\u001b[0;34m(\u001b[0m\u001b[0;34m)\u001b[0m\u001b[0;34m\u001b[0m\u001b[0;34m\u001b[0m\u001b[0m\n\u001b[1;32m      2\u001b[0m plot_top_words(\n\u001b[0;32m----> 3\u001b[0;31m     \u001b[0mmbnmf\u001b[0m\u001b[0;34m,\u001b[0m\u001b[0;34m\u001b[0m\u001b[0;34m\u001b[0m\u001b[0m\n\u001b[0m\u001b[1;32m      4\u001b[0m     \u001b[0mtfidf_feature_names\u001b[0m\u001b[0;34m,\u001b[0m\u001b[0;34m\u001b[0m\u001b[0;34m\u001b[0m\u001b[0m\n\u001b[1;32m      5\u001b[0m     \u001b[0mn_top_words\u001b[0m\u001b[0;34m,\u001b[0m\u001b[0;34m\u001b[0m\u001b[0;34m\u001b[0m\u001b[0m\n",
            "\u001b[0;31mNameError\u001b[0m: name 'mbnmf' is not defined"
          ]
        }
      ],
      "source": [
        "tfidf_feature_names = tfidf_vectorizer.get_feature_names_out()\n",
        "plot_top_words(\n",
        "    mbnmf,\n",
        "    tfidf_feature_names,\n",
        "    n_top_words,\n",
        "    \"Topics in MiniBatchNMF model (Frobenius norm)\",\n",
        ")"
      ]
    },
    {
      "cell_type": "code",
      "execution_count": 16,
      "id": "bbd6f279",
      "metadata": {
        "id": "bbd6f279",
        "outputId": "7fa40e32-03a1-40cc-cd27-5f1744099bb0",
        "colab": {
          "base_uri": "https://localhost:8080/",
          "height": 274
        }
      },
      "outputs": [
        {
          "output_type": "stream",
          "name": "stdout",
          "text": [
            "Fitting the MiniBatchNMF model (generalized Kullback-Leibler divergence) with tf-idf features, n_samples=2000 and n_features=1000, batch_size=128...\n"
          ]
        },
        {
          "output_type": "error",
          "ename": "NameError",
          "evalue": "ignored",
          "traceback": [
            "\u001b[0;31m---------------------------------------------------------------------------\u001b[0m",
            "\u001b[0;31mNameError\u001b[0m                                 Traceback (most recent call last)",
            "\u001b[0;32m<ipython-input-16-af6492b96ae2>\u001b[0m in \u001b[0;36m<module>\u001b[0;34m\u001b[0m\n\u001b[1;32m      5\u001b[0m     \u001b[0;34m\"batch_size=%d...\"\u001b[0m \u001b[0;34m%\u001b[0m \u001b[0;34m(\u001b[0m\u001b[0mn_samples\u001b[0m\u001b[0;34m,\u001b[0m \u001b[0mn_features\u001b[0m\u001b[0;34m,\u001b[0m \u001b[0mbatch_size\u001b[0m\u001b[0;34m)\u001b[0m\u001b[0;34m,\u001b[0m\u001b[0;34m\u001b[0m\u001b[0;34m\u001b[0m\u001b[0m\n\u001b[1;32m      6\u001b[0m )\n\u001b[0;32m----> 7\u001b[0;31m mbnmf = MiniBatchNMF(\n\u001b[0m\u001b[1;32m      8\u001b[0m     \u001b[0mn_components\u001b[0m\u001b[0;34m=\u001b[0m\u001b[0mn_components\u001b[0m\u001b[0;34m,\u001b[0m\u001b[0;34m\u001b[0m\u001b[0;34m\u001b[0m\u001b[0m\n\u001b[1;32m      9\u001b[0m     \u001b[0mrandom_state\u001b[0m\u001b[0;34m=\u001b[0m\u001b[0;36m1\u001b[0m\u001b[0;34m,\u001b[0m\u001b[0;34m\u001b[0m\u001b[0;34m\u001b[0m\u001b[0m\n",
            "\u001b[0;31mNameError\u001b[0m: name 'MiniBatchNMF' is not defined"
          ]
        }
      ],
      "source": [
        "# Fit the MiniBatchNMF model\n",
        "print(\n",
        "    \"Fitting the MiniBatchNMF model (generalized Kullback-Leibler \"\n",
        "    \"divergence) with tf-idf features, n_samples=%d and n_features=%d, \"\n",
        "    \"batch_size=%d...\" % (n_samples, n_features, batch_size),\n",
        ")\n",
        "mbnmf = MiniBatchNMF(\n",
        "    n_components=n_components,\n",
        "    random_state=1,\n",
        "    batch_size=batch_size,\n",
        "    init=init,\n",
        "    beta_loss=\"kullback-leibler\",\n",
        "    alpha_W=0.00005,\n",
        "    alpha_H=0.00005,\n",
        "    l1_ratio=0.5,\n",
        ").fit(tfidf)"
      ]
    },
    {
      "cell_type": "code",
      "execution_count": 17,
      "id": "518ed655",
      "metadata": {
        "id": "518ed655",
        "outputId": "c169e3b1-33b3-4f85-b853-de9590487a66",
        "colab": {
          "base_uri": "https://localhost:8080/",
          "height": 237
        }
      },
      "outputs": [
        {
          "output_type": "error",
          "ename": "NameError",
          "evalue": "ignored",
          "traceback": [
            "\u001b[0;31m---------------------------------------------------------------------------\u001b[0m",
            "\u001b[0;31mNameError\u001b[0m                                 Traceback (most recent call last)",
            "\u001b[0;32m<ipython-input-17-74909a23a362>\u001b[0m in \u001b[0;36m<module>\u001b[0;34m\u001b[0m\n\u001b[1;32m      1\u001b[0m \u001b[0mtfidf_feature_names\u001b[0m \u001b[0;34m=\u001b[0m \u001b[0mtfidf_vectorizer\u001b[0m\u001b[0;34m.\u001b[0m\u001b[0mget_feature_names_out\u001b[0m\u001b[0;34m(\u001b[0m\u001b[0;34m)\u001b[0m\u001b[0;34m\u001b[0m\u001b[0;34m\u001b[0m\u001b[0m\n\u001b[1;32m      2\u001b[0m plot_top_words(\n\u001b[0;32m----> 3\u001b[0;31m     \u001b[0mmbnmf\u001b[0m\u001b[0;34m,\u001b[0m\u001b[0;34m\u001b[0m\u001b[0;34m\u001b[0m\u001b[0m\n\u001b[0m\u001b[1;32m      4\u001b[0m     \u001b[0mtfidf_feature_names\u001b[0m\u001b[0;34m,\u001b[0m\u001b[0;34m\u001b[0m\u001b[0;34m\u001b[0m\u001b[0m\n\u001b[1;32m      5\u001b[0m     \u001b[0mn_top_words\u001b[0m\u001b[0;34m,\u001b[0m\u001b[0;34m\u001b[0m\u001b[0;34m\u001b[0m\u001b[0m\n",
            "\u001b[0;31mNameError\u001b[0m: name 'mbnmf' is not defined"
          ]
        }
      ],
      "source": [
        "tfidf_feature_names = tfidf_vectorizer.get_feature_names_out()\n",
        "plot_top_words(\n",
        "    mbnmf,\n",
        "    tfidf_feature_names,\n",
        "    n_top_words,\n",
        "    \"Topics in MiniBatchNMF model (generalized Kullback-Leibler divergence)\",\n",
        ")"
      ]
    },
    {
      "cell_type": "code",
      "execution_count": 18,
      "id": "b327af90",
      "metadata": {
        "id": "b327af90",
        "outputId": "7a591494-fe02-4df2-ae1e-33ab68d81f99",
        "colab": {
          "base_uri": "https://localhost:8080/"
        }
      },
      "outputs": [
        {
          "output_type": "stream",
          "name": "stdout",
          "text": [
            "Extracting tf features for LDA...\n"
          ]
        },
        {
          "output_type": "execute_result",
          "data": {
            "text/plain": [
              "{'000',\n",
              " '10',\n",
              " '100',\n",
              " '12',\n",
              " '15',\n",
              " '169lbs',\n",
              " '1st',\n",
              " '20',\n",
              " '24',\n",
              " '25',\n",
              " '30',\n",
              " '3rd',\n",
              " '3x',\n",
              " '40',\n",
              " '50',\n",
              " 'abd',\n",
              " 'abit',\n",
              " 'able',\n",
              " 'absolutely',\n",
              " 'absolutly',\n",
              " 'absorption',\n",
              " 'accommodate',\n",
              " 'accurately',\n",
              " 'ache',\n",
              " 'achilles',\n",
              " 'activity',\n",
              " 'actually',\n",
              " 'adjust',\n",
              " 'adjustment',\n",
              " 'advice',\n",
              " 'afford',\n",
              " 'afraid',\n",
              " 'aide',\n",
              " 'airport',\n",
              " 'airy',\n",
              " 'allows',\n",
              " 'amazing',\n",
              " 'amazon',\n",
              " 'ankle',\n",
              " 'anymore',\n",
              " 'apart',\n",
              " 'arch',\n",
              " 'area',\n",
              " 'arose',\n",
              " 'arrive',\n",
              " 'artculo',\n",
              " 'asics',\n",
              " 'athletic',\n",
              " 'attention',\n",
              " 'away',\n",
              " 'awesome',\n",
              " 'az',\n",
              " 'bag',\n",
              " 'bailing',\n",
              " 'band',\n",
              " 'bandage',\n",
              " 'barefeet',\n",
              " 'barefoot',\n",
              " 'barely',\n",
              " 'beach',\n",
              " 'beat',\n",
              " 'bed',\n",
              " 'believe',\n",
              " 'bend',\n",
              " 'best',\n",
              " 'big',\n",
              " 'bit',\n",
              " 'black',\n",
              " 'blister',\n",
              " 'blood',\n",
              " 'bluff',\n",
              " 'boot',\n",
              " 'bootcamps',\n",
              " 'bought',\n",
              " 'box',\n",
              " 'boxier',\n",
              " 'brand',\n",
              " 'break',\n",
              " 'breath',\n",
              " 'breathe',\n",
              " 'breathes',\n",
              " 'bright',\n",
              " 'broader',\n",
              " 'btw',\n",
              " 'build',\n",
              " 'bulk',\n",
              " 'bunion',\n",
              " 'business',\n",
              " 'buy',\n",
              " 'cable',\n",
              " 'calf',\n",
              " 'cam',\n",
              " 'card',\n",
              " 'cardio',\n",
              " 'care',\n",
              " 'careful',\n",
              " 'carpet',\n",
              " 'carpeted',\n",
              " 'certain',\n",
              " 'certainly',\n",
              " 'cheap',\n",
              " 'check',\n",
              " 'chic',\n",
              " 'christmas',\n",
              " 'circulation',\n",
              " 'cl',\n",
              " 'class',\n",
              " 'clean',\n",
              " 'cleaning',\n",
              " 'client',\n",
              " 'clorox',\n",
              " 'close',\n",
              " 'closer',\n",
              " 'closet',\n",
              " 'clothes',\n",
              " 'coach',\n",
              " 'color',\n",
              " 'colors',\n",
              " 'colour',\n",
              " 'come',\n",
              " 'comfort',\n",
              " 'comfortable',\n",
              " 'comfortably',\n",
              " 'comfy',\n",
              " 'compare',\n",
              " 'complains',\n",
              " 'complaint',\n",
              " 'completely',\n",
              " 'compress',\n",
              " 'condition',\n",
              " 'confortable',\n",
              " 'consideration',\n",
              " 'consistent',\n",
              " 'consolidated',\n",
              " 'construct',\n",
              " 'contact',\n",
              " 'coral',\n",
              " 'correct',\n",
              " 'cost',\n",
              " 'course',\n",
              " 'court',\n",
              " 'cradle',\n",
              " 'cramped',\n",
              " 'crimson',\n",
              " 'cross',\n",
              " 'crosstrainers',\n",
              " 'cushion',\n",
              " 'customer',\n",
              " 'cute',\n",
              " 'daily',\n",
              " 'damage',\n",
              " 'dance',\n",
              " 'daughter',\n",
              " 'day',\n",
              " 'defective',\n",
              " 'definitely',\n",
              " 'deliver',\n",
              " 'depends',\n",
              " 'depict',\n",
              " 'developed',\n",
              " 'did',\n",
              " 'didnt',\n",
              " 'different',\n",
              " 'differently',\n",
              " 'difficult',\n",
              " 'difficulty',\n",
              " 'dirty',\n",
              " 'disappear',\n",
              " 'disappointed',\n",
              " 'discolor',\n",
              " 'discontinues',\n",
              " 'disney',\n",
              " 'doesn',\n",
              " 'don',\n",
              " 'downshifter',\n",
              " 'drag',\n",
              " 'dream',\n",
              " 'dress',\n",
              " 'dressy',\n",
              " 'drop',\n",
              " 'dsw',\n",
              " 'effortlessly',\n",
              " 'ellipical',\n",
              " 'em',\n",
              " 'emphasize',\n",
              " 'en',\n",
              " 'endurance',\n",
              " 'entire',\n",
              " 'entirely',\n",
              " 'environment',\n",
              " 'equivocado',\n",
              " 'europe',\n",
              " 'everyday',\n",
              " 'exactly',\n",
              " 'excellent',\n",
              " 'exception',\n",
              " 'excite',\n",
              " 'exercise',\n",
              " 'exoected',\n",
              " 'expect',\n",
              " 'experience',\n",
              " 'experienced',\n",
              " 'extend',\n",
              " 'extra',\n",
              " 'extremely',\n",
              " 'fantastic',\n",
              " 'far',\n",
              " 'fashion',\n",
              " 'faulty',\n",
              " 'favorite',\n",
              " 'feel',\n",
              " 'fight',\n",
              " 'fine',\n",
              " 'finger',\n",
              " 'firmer',\n",
              " 'fit',\n",
              " 'fits',\n",
              " 'fix',\n",
              " 'flatter',\n",
              " 'flex',\n",
              " 'flexibility',\n",
              " 'flexible',\n",
              " 'flezable',\n",
              " 'flimsy',\n",
              " 'fly',\n",
              " 'foam',\n",
              " 'fog',\n",
              " 'foot',\n",
              " 'footbed',\n",
              " 'footwear',\n",
              " 'footwork',\n",
              " 'forest',\n",
              " 'forget',\n",
              " 'frame',\n",
              " 'free',\n",
              " 'friend',\n",
              " 'fun',\n",
              " 'gear',\n",
              " 'generally',\n",
              " 'girlfriend',\n",
              " 'glad',\n",
              " 'glove',\n",
              " 'good',\n",
              " 'gracias',\n",
              " 'gray',\n",
              " 'great',\n",
              " 'grey',\n",
              " 'grip',\n",
              " 'grit',\n",
              " 'grommet',\n",
              " 'ground',\n",
              " 'group',\n",
              " 'gry',\n",
              " 'gump',\n",
              " 'gym',\n",
              " 'half',\n",
              " 'happen',\n",
              " 'happens',\n",
              " 'happier',\n",
              " 'happy',\n",
              " 'hard',\n",
              " 'hat',\n",
              " 'hate',\n",
              " 'haven',\n",
              " 'heel',\n",
              " 'high',\n",
              " 'highly',\n",
              " 'hitt',\n",
              " 'home',\n",
              " 'hot',\n",
              " 'hour',\n",
              " 'hue',\n",
              " 'hug',\n",
              " 'huge',\n",
              " 'hunt',\n",
              " 'hurache',\n",
              " 'hurt',\n",
              " 'ideal',\n",
              " 'im',\n",
              " 'image',\n",
              " 'importantly',\n",
              " 'impressed',\n",
              " 'impression',\n",
              " 'incredibly',\n",
              " 'individual',\n",
              " 'inside',\n",
              " 'instantly',\n",
              " 'instead',\n",
              " 'instruction',\n",
              " 'intend',\n",
              " 'issue',\n",
              " 'item',\n",
              " 'iteration',\n",
              " 'jam',\n",
              " 'jammed',\n",
              " 'jean',\n",
              " 'jog',\n",
              " 'jogging',\n",
              " 'join',\n",
              " 'joint',\n",
              " 'jumping',\n",
              " 'just',\n",
              " 'kept',\n",
              " 'kickboxing',\n",
              " 'kind',\n",
              " 'knee',\n",
              " 'knock',\n",
              " 'know',\n",
              " 'lace',\n",
              " 'large',\n",
              " 'late',\n",
              " 'later',\n",
              " 'layer',\n",
              " 'learn',\n",
              " 'left',\n",
              " 'leg',\n",
              " 'length',\n",
              " 'let',\n",
              " 'level',\n",
              " 'lift',\n",
              " 'light',\n",
              " 'lighter',\n",
              " 'lightly',\n",
              " 'lightweight',\n",
              " 'like',\n",
              " 'limp',\n",
              " 'line',\n",
              " 'literally',\n",
              " 'little',\n",
              " 'll',\n",
              " 'long',\n",
              " 'longer',\n",
              " 'look',\n",
              " 'loosens',\n",
              " 'looser',\n",
              " 'lot',\n",
              " 'love',\n",
              " 'loved',\n",
              " 'lunge',\n",
              " 'luv',\n",
              " 'ma',\n",
              " 'machine',\n",
              " 'mainly',\n",
              " 'major',\n",
              " 'make',\n",
              " 'man',\n",
              " 'marathon',\n",
              " 'massage',\n",
              " 'material',\n",
              " 'matter',\n",
              " 'meant',\n",
              " 'medium',\n",
              " 'meh',\n",
              " 'mic',\n",
              " 'mid',\n",
              " 'middle',\n",
              " 'mile',\n",
              " 'mind',\n",
              " 'minimally',\n",
              " 'minute',\n",
              " 'mizuno',\n",
              " 'moderate',\n",
              " 'month',\n",
              " 'motivation',\n",
              " 'movrment',\n",
              " 'mtllc',\n",
              " 'mud',\n",
              " 'muscle',\n",
              " 'narrow',\n",
              " 'ne',\n",
              " 'need',\n",
              " 'neoprene',\n",
              " 'nervous',\n",
              " 'new',\n",
              " 'nice',\n",
              " 'nicer',\n",
              " 'nike',\n",
              " 'noise',\n",
              " 'non',\n",
              " 'normal',\n",
              " 'normally',\n",
              " 'noticeably',\n",
              " 'nub',\n",
              " 'numb',\n",
              " 'nyc',\n",
              " 'obsess',\n",
              " 'occasion',\n",
              " 'offer',\n",
              " 'office',\n",
              " 'oh',\n",
              " 'ohio',\n",
              " 'omaha',\n",
              " 'online',\n",
              " 'oops',\n",
              " 'open',\n",
              " 'opposite',\n",
              " 'optimal',\n",
              " 'option',\n",
              " 'order',\n",
              " 'originally',\n",
              " 'outdoor',\n",
              " 'outdoors',\n",
              " 'outfit',\n",
              " 'overall',\n",
              " 'overly',\n",
              " 'overprice',\n",
              " 'overwhelm',\n",
              " 'package',\n",
              " 'pain',\n",
              " 'pair',\n",
              " 'pairs',\n",
              " 'paperwork',\n",
              " 'participate',\n",
              " 'pass',\n",
              " 'past',\n",
              " 'pattern',\n",
              " 'pay',\n",
              " 'perf',\n",
              " 'perfect',\n",
              " 'perfectly',\n",
              " 'perfict',\n",
              " 'perform',\n",
              " 'performance',\n",
              " 'period',\n",
              " 'person',\n",
              " 'personally',\n",
              " 'perspiration',\n",
              " 'phoenix',\n",
              " 'pic',\n",
              " 'picture',\n",
              " 'pinch',\n",
              " 'pink',\n",
              " 'pinker',\n",
              " 'pinkie',\n",
              " 'pinky',\n",
              " 'place',\n",
              " 'plank',\n",
              " 'pleasantly',\n",
              " 'pleased',\n",
              " 'pnk',\n",
              " 'pointier',\n",
              " 'poorly',\n",
              " 'portion',\n",
              " 'possibly',\n",
              " 'pregnant',\n",
              " 'pressing',\n",
              " 'pressure',\n",
              " 'pretty',\n",
              " 'previous',\n",
              " 'price',\n",
              " 'prior',\n",
              " 'problem',\n",
              " 'product',\n",
              " 'profile',\n",
              " 'pronation',\n",
              " 'puma',\n",
              " 'purchase',\n",
              " 'purpose',\n",
              " 'pw',\n",
              " 'quality',\n",
              " 'read',\n",
              " 'reading',\n",
              " 'ready',\n",
              " 'real',\n",
              " 'realize',\n",
              " 'really',\n",
              " 'reason',\n",
              " 'reccomend',\n",
              " 'receive',\n",
              " 'recess',\n",
              " 'recommend',\n",
              " 'refer',\n",
              " 'regular',\n",
              " 'regularly',\n",
              " 'relay',\n",
              " 'reluctant',\n",
              " 'remedy',\n",
              " 'reorder',\n",
              " 'report',\n",
              " 'require',\n",
              " 'requirement',\n",
              " 'rest',\n",
              " 'restrict',\n",
              " 'result',\n",
              " 'retail',\n",
              " 'return',\n",
              " 'review',\n",
              " 'reviewer',\n",
              " 'right',\n",
              " 'rigorous',\n",
              " 'ripped',\n",
              " 'road',\n",
              " 'rock',\n",
              " 'room',\n",
              " 'roomy',\n",
              " 'rotate',\n",
              " 'rough',\n",
              " 'roughly',\n",
              " 'rounder',\n",
              " 'rub',\n",
              " 'rubber',\n",
              " 'run',\n",
              " 'runner',\n",
              " 'ryka',\n",
              " 'sale',\n",
              " 'sandal',\n",
              " 'satisfied',\n",
              " 'saw',\n",
              " 'say',\n",
              " 'sciatica',\n",
              " 'second',\n",
              " 'section',\n",
              " 'secure',\n",
              " 'seller',\n",
              " 'sensitive',\n",
              " 'serf',\n",
              " 'series',\n",
              " 'session',\n",
              " 'seven',\n",
              " 'shape',\n",
              " 'shift',\n",
              " 'shin',\n",
              " 'shock',\n",
              " 'shoe',\n",
              " 'shoelace',\n",
              " 'shoes',\n",
              " 'shoot',\n",
              " 'shopping',\n",
              " 'short',\n",
              " 'shot',\n",
              " 'shoxs',\n",
              " 'shrinkage',\n",
              " 'situation',\n",
              " 'size',\n",
              " 'skin',\n",
              " 'sleek',\n",
              " 'sleeve',\n",
              " 'slightly',\n",
              " 'slip',\n",
              " 'slvr',\n",
              " 'small',\n",
              " 'smaller',\n",
              " 'smooth',\n",
              " 'sneaker',\n",
              " 'sock',\n",
              " 'soft',\n",
              " 'sol',\n",
              " 'sole',\n",
              " 'solely',\n",
              " 'somewhat',\n",
              " 'son',\n",
              " 'soon',\n",
              " 'sooooo',\n",
              " 'sore',\n",
              " 'sorry',\n",
              " 'space',\n",
              " 'specifically',\n",
              " 'spent',\n",
              " 'splint',\n",
              " 'sporty',\n",
              " 'spread',\n",
              " 'sprinter',\n",
              " 'square',\n",
              " 'stability',\n",
              " 'stairmaster',\n",
              " 'start',\n",
              " 'state',\n",
              " 'stats',\n",
              " 'stay',\n",
              " 'step',\n",
              " 'stick',\n",
              " 'sticky',\n",
              " 'stock',\n",
              " 'stop',\n",
              " 'store',\n",
              " 'strength',\n",
              " 'stride',\n",
              " 'string',\n",
              " 'sturdy',\n",
              " 'style',\n",
              " 'subside',\n",
              " 'suffer',\n",
              " 'suggest',\n",
              " 'super',\n",
              " 'supnation',\n",
              " 'support',\n",
              " 'suppose',\n",
              " 'supreme',\n",
              " 'sure',\n",
              " 'surgery',\n",
              " 'survive',\n",
              " 'swap',\n",
              " 'sweaty',\n",
              " 'swiss',\n",
              " 'switch',\n",
              " 'tad',\n",
              " 'talk',\n",
              " 'teenage',\n",
              " 'tennis',\n",
              " 'term',\n",
              " 'thanks',\n",
              " 'therapist',\n",
              " 'thickness',\n",
              " 'think',\n",
              " 'thought',\n",
              " 'thy',\n",
              " 'tight',\n",
              " 'tighten',\n",
              " 'tighter',\n",
              " 'time',\n",
              " 'toe',\n",
              " 'ton',\n",
              " 'tongue',\n",
              " 'touch',\n",
              " 'tough',\n",
              " 'town',\n",
              " 'tr3',\n",
              " 'track',\n",
              " 'trainer',\n",
              " 'training',\n",
              " 'tranasaction',\n",
              " 'treadmill',\n",
              " 'tredmill',\n",
              " 'trial',\n",
              " 'trip',\n",
              " 'true',\n",
              " 'truly',\n",
              " 'try',\n",
              " 'turn',\n",
              " 'twice',\n",
              " 'twinge',\n",
              " 'typical',\n",
              " 'ugh',\n",
              " 'ugly',\n",
              " 'uncomfortable',\n",
              " 'understand',\n",
              " 'unfortunately',\n",
              " 'unless',\n",
              " 'update',\n",
              " 'use',\n",
              " 'usual',\n",
              " 'usually',\n",
              " 'vacation',\n",
              " 've',\n",
              " 'ventilation',\n",
              " 'verge',\n",
              " 'versatile',\n",
              " 'vffs',\n",
              " 'vibram',\n",
              " 'vibrant',\n",
              " 'video',\n",
              " 'vigorous',\n",
              " 'walk',\n",
              " 'wall',\n",
              " 'walt',\n",
              " 'want',\n",
              " 'ware',\n",
              " 'warehouse',\n",
              " 'wash',\n",
              " 'way',\n",
              " 'wear',\n",
              " 'wearable',\n",
              " 'week',\n",
              " 'weight',\n",
              " 'weightless',\n",
              " 'weightlift',\n",
              " 'weren',\n",
              " 'white',\n",
              " 'wide',\n",
              " 'wider',\n",
              " 'wife',\n",
              " 'wiggle',\n",
              " 'window',\n",
              " 'wipe',\n",
              " 'wish',\n",
              " 'woman',\n",
              " 'wonder',\n",
              " 'wore',\n",
              " 'work',\n",
              " 'workout',\n",
              " 'world',\n",
              " 'worn',\n",
              " 'worried',\n",
              " 'wow',\n",
              " 'wrap',\n",
              " 'yeah',\n",
              " 'year',\n",
              " 'years',\n",
              " 'yellow',\n",
              " 'yellowish',\n",
              " 'yoga',\n",
              " 'zero',\n",
              " 'zing',\n",
              " 'zumba'}"
            ]
          },
          "metadata": {},
          "execution_count": 18
        }
      ],
      "source": [
        "# Use tf (raw term count) features for LDA.\n",
        "print(\"Extracting tf features for LDA...\")\n",
        "tf_vectorizer = CountVectorizer(\n",
        "    max_df=0.01, min_df=2, max_features=n_features, stop_words=\"english\"\n",
        ")\n",
        "tf = tf_vectorizer.fit_transform(data_samples)\n",
        "tf_vectorizer.stop_words_"
      ]
    },
    {
      "cell_type": "code",
      "execution_count": 19,
      "id": "d3bb9280",
      "metadata": {
        "id": "d3bb9280",
        "scrolled": false,
        "outputId": "8a2b32a4-49ad-4a71-db01-733d546aa596",
        "colab": {
          "base_uri": "https://localhost:8080/",
          "height": 526
        }
      },
      "outputs": [
        {
          "output_type": "stream",
          "name": "stdout",
          "text": [
            "Fitting LDA models with tf features, n_samples=2000 and n_features=1000...\n"
          ]
        },
        {
          "output_type": "display_data",
          "data": {
            "text/plain": [
              "<Figure size 2160x1080 with 10 Axes>"
            ],
            "image/png": "[encoded data removed]"
          },
          "metadata": {
            "needs_background": "light"
          }
        }
      ],
      "source": [
        "print(\n",
        "    \"Fitting LDA models with tf features, n_samples=%d and n_features=%d...\"\n",
        "    % (n_samples, n_features),\n",
        ")\n",
        "lda = LatentDirichletAllocation(\n",
        "    n_components=n_components,\n",
        "    max_iter=5,\n",
        "    learning_method=\"online\",\n",
        "    learning_offset=50.0,\n",
        "    random_state=0,\n",
        ")\n",
        "lda.fit(tf)\n",
        "\n",
        "tf_feature_names = tf_vectorizer.get_feature_names_out()\n",
        "plot_top_words(lda, tf_feature_names, n_top_words, \"Topics in LDA model\")"
      ]
    },
    {
      "cell_type": "code",
      "execution_count": 20,
      "id": "71e55dc7",
      "metadata": {
        "id": "71e55dc7",
        "outputId": "36c8cb40-928d-420e-973c-7b2926f89706",
        "colab": {
          "base_uri": "https://localhost:8080/"
        }
      },
      "outputs": [
        {
          "output_type": "stream",
          "name": "stdout",
          "text": [
            "4 : try them on in a store before buying online so i knew they'd fit good overall i be look for a durable cross training shoe that would hold up to my rigorous training and these have be great so far they be really light and comfortable most importantly for me they have grip on the bottom so my foot don't slide out from under me while do plank push-ups etc highly satisfied with this purchase\n",
            "60 : glad i read the review and order a half size too big these be light weight i work out in them last night and have a great work out they be very comfortable i would recommend these to anyone i be a beach body coach and these be now my new favorite shoe to work out in i feel like i be walk in slipper when i wear these shoe they be so comfortable i love them so much i never buy myself anything nice and for christmas get an amazon gift card and use it to buy myself these sneaker and they be so awesome i really do love them and have be tell all my friend about them get these shoe\n",
            "62 : i love these i have the previous iteration or maybe two earlier and finally wore them out after several year they be definitely a light-weight training shoe so i wouldn't get them if you be go to be do a lot of run but this also make them extremely comfortable i hadn't realize how hot run shoe make my foot until i switch to these good support and my foot stay cool all day also noticeably light but well-made and long last i have worn them hike in a pinch but don't really recommend it because the material be mesh-like and will let a lot of dirt in but if you mainly take cardio class and/or do weight training or just need something to wear around town look no far\n",
            "84 : i bought these for gym training - weight class and dance class body jam zumba - and really want to like them since i love the color and the light weight feel but when i work out high impact my toe tingle go numb and cramped because the toe bed be very narrow also there wasn't enough cushion for me when do lunge the ball of my foot hurt can't return them because i wore them several time these might be fine for someone with a narrow foot\n",
            "92 : i have pretty high arch and my calf always hurt at the gym with other shoe i have be on the hunt for a good cross trainer that i can use to lift take gym class and lightly jog/run on the treadmill these have be wonderful i don't ever have any pain in my calf or my foot when wear these and they fit like a glove highly recommend\n",
            "105 : obsess with these shoe i be look for good all around sneaker run walk tennis etc and these more than fit the bill i be look specifically for black nike i love the fit with white sol good for court sport i be a little reluctant to purchase because i wasn't sure whether the black on the sol would contact the ground but it doesn't\n",
            "144 : it's be a long time since i've work a cross training shoe this shoe be very light and minimally pass compare to run shoe that's not meant to be a knock just a fact i order the shoe half a size up because a a former runner i'm use to my foot need room to spread and swell i wish i hadn't because they feel a little roomy i have orthotics so i think i can remedy the issue once i swap those in otherwise very good shoe\n",
            "145 : good indoor training shoe for run on treadmill do lunge and regular exercise at the gym these be very flexible light weight and comfortable grip be okay - sticky rubber be use only at the edge of heel and toe area so i slip a little when i work on cable machine resistance band etc on un-carpeted floor i would emphasize that if you do lift a a part of your everyday routine workout i would not recommend them because mine cushion last only for six month and this be the reason i give three star other than that i like them\n",
            "155 : i get the impression it's cushiony and comfy by reading the review on this product when i try it on it be a much firmer than my other work shoe i'm stand all day and need enough support and comfort this isn't the right product for that so i have to return it but i would assume it would work fine for training it look decent and clean and seem sturdy just not the right thing for me i be refund instantly upon return so credit for that\n",
            "210 : there be about a 1/2 inch of extra space from the tip of my big toe to the front of the shoe that's okay though i usually wear sock so it doesn't feel too big even if it do make your foot look a bit long the color be vibrant and the sole have plenty of grip even on a slippery floor i wore them for most of the day and they be comfortable overall i'm very pleased with this shoe\n",
            "232 : great shoe - be look for something to replace my barefeet so i can wear orthotics while kickboxing these be light weight hug my foot comfortably and have a thinner upper so i can still feel the bag when i kick and they have good lateral stability my foot be on the narrow side so it's hard to find shoe that be snug enough these be perfect oh and they be really cute too\n",
            "236 : i be wear run shoe for cardio dance class at the gym because i thought they would be sufficient after get 2 blood blister i do some research and found out cross trainer would be more appropriate which be how i end up buying this pair they be slightly longer in look then i would like but i think that be typical of cross trainer also the lace be do in a way that allows you to tie too tightly if you're not careful my toe be tingle during one particular work out when i have do this other then that i be very happy with the shoe\n",
            "241 : if you wear nike on the regular then you should pretty much know your size i wear only 7's in nike and it fit just a expect i have many of the trail runner generation and love them all they're my go to sneaker for the gym use or casual wear i have a pair i use mostly for casual wear that have last about 5 year another pair that i use for cross fit/outdoor run that last a little over a year very vigorous daily use all in all these shoe be great for me they're lightweight and comfortable\n",
            "273 : i actually have 3 pair of these trainer they be very comfortable there be a neoprene sleeve that go around your ankle that make them the most comfortable for me compare to normal athletic shoe they run a little narrow - for me this be perfect but you may want to round up on the size or try on in the store first if your foot be on the wider side\n",
            "280 : love these shoe i have worn them all day and found them really comfortable with no ache foot at the end of the day fantastic colour and true to size i also bought nike women's flex supreme tr 3 pnk pw/mtllc slvr/cl gry/white training shoe and these shoe be slightly more comfortable than those even though they look very similar\n",
            "294 : take other reviewer advice and go up half size and it be too large i thought this be a more sock-like fit but it have a tongue that come up high on my ankle not at all sock like nice look and very light weight with a round square toe that left plenty of room front foot and toe these just weren't what i be look for\n",
            "325 : i bought a wide size of these at a local store and they be amaze soft comfy with moderate support not a cloud to walk on but not minimalist the wide size be perfect for my wide foot with high arch the shoe tends to run about a half size long though especially for nike i be work on get in shape and these shoe feel good all day no rub on my big toe joint or pinkie toe or heel very pleased\n",
            "331 : love my new nike's it's be year since i've be able to wear them size change year ago and i just couldn't wear them any more but now the new style and size be perfect lightweight shoe with ton of style the fog color be just what i be look for...not black and not neon i wore them to participate in relay for life 24 hour walk and they held up great\n",
            "336 : a-ma-zing i need a good jogging shoe and these make me feel like \"forest gump\" i felt like i be run on a cloud i have narrow foot and these fit perfectly i be so happy that i be go to purchase another two pair a back-ups for once it's time to replace them highly recommend to woman who like to walk or run and light a light weight comfortable shoe\n",
            "342 : this be the most comfortable shoe i've ever have no other shoe can compare to how the individual nub on the bottom allow your foot to be cushion yet work like it's suppose to my foot feel cradle in this shoe and hard surface don't make my foot ache anymore these shoe have a small amount of support but not much which i like a i'm come from vibram five finger sorry vffs i'm bailing after 2 year of shin splint no matter what i do highly recommend for walking/running on concrete or track a long a nike continue to make the flex supreme they will get my money please don't change this shoe\n",
            "348 : the picture make the shoe look like it have a \"boxier\" toe rather than the \"pointier\" toe that it actually have i have wider foot and generally need to buy a size or half size longer to get a comfortable width in any brand of shoe i be shoot for a rounder broader toe design which be more comfortable for me and i feel that the picture of this shoe didn't accurately depict what i receive in that one detail otherwise \"the shoe fits.\" so i be wear it\n",
            "356 : i've have these shoe for about a week now and have so far enjoy use them consider the fact that i have wide foot the shoe be slightly tight however it doesn't feel uncomfortable nor do it bother me a i use them throughout my workout i know some people personally like when the shoe be a bit tighter or a bit looser so it's all in personal preference\n",
            "366 : i absolutely love these shoe these be my absolute favorite so light and comfortable these be actually my 2nd pair i be still wear my 1st pair after 2 year and they look good still i be just afraid they be go to disappear and i want a back up pair for when my 1st pair wear out these have be the best shoe i've own\n",
            "370 : favorite nike shoe ever the flex sole be excellent for someone like me who love the free feel of sandal or be barefoot these move effortlessly with the bend of my foot i've worn these for multiple activity and i've have no foot or ankle pain the white/green/dark grey color go with so many outfit and the mesh breathes perfectly on hot summer day highly recommend\n",
            "373 : super comfortable and fit my small foot perfectly i have flat foot so a lot of shoe be not comfortable for long period of time i can wear the shoe all day long and they be super comfortable they be light color so any dirt will be see right away but they be easy to clean compare to other shoe ive have would definitely buy another pair in a different color\n"
          ]
        }
      ],
      "source": [
        "for i, sample in enumerate(data_samples):\n",
        "    if len(sample) > 300 and len(sample) < 700:\n",
        "        print(i,\":\", sample)"
      ]
    },
    {
      "cell_type": "code",
      "execution_count": 21,
      "id": "2d3aee19",
      "metadata": {
        "id": "2d3aee19",
        "outputId": "257f6105-45c4-4537-b8e6-dc3b8ccdff83",
        "colab": {
          "base_uri": "https://localhost:8080/"
        }
      },
      "outputs": [
        {
          "output_type": "execute_result",
          "data": {
            "text/plain": [
              "array([[0.01666733, 0.01666811, 0.01666765, 0.01666868, 0.01666749,\n",
              "        0.84999   , 0.01666741, 0.01666835, 0.01666757, 0.01666741]])"
            ]
          },
          "metadata": {},
          "execution_count": 21
        }
      ],
      "source": [
        "lda.transform(tf_vectorizer.transform([data_samples[84]]))"
      ]
    },
    {
      "cell_type": "code",
      "execution_count": 22,
      "id": "3d31f777",
      "metadata": {
        "id": "3d31f777",
        "outputId": "c243c95b-f567-4e86-f821-ff42dc456bc4",
        "colab": {
          "base_uri": "https://localhost:8080/",
          "height": 105
        }
      },
      "outputs": [
        {
          "output_type": "execute_result",
          "data": {
            "text/plain": [
              "\"i bought these for gym training - weight class and dance class body jam zumba - and really want to like them since i love the color and the light weight feel but when i work out high impact my toe tingle go numb and cramped because the toe bed be very narrow also there wasn't enough cushion for me when do lunge the ball of my foot hurt can't return them because i wore them several time these might be fine for someone with a narrow foot\""
            ],
            "application/vnd.google.colaboratory.intrinsic+json": {
              "type": "string"
            }
          },
          "metadata": {},
          "execution_count": 22
        }
      ],
      "source": [
        "data_samples[84]"
      ]
    },
    {
      "cell_type": "code",
      "execution_count": 23,
      "id": "68167001",
      "metadata": {
        "id": "68167001"
      },
      "outputs": [],
      "source": [
        "from nltk import sent_tokenize\n",
        "from nltk.tokenize import TweetTokenizer\n",
        "\n",
        "raw_reviews = list(filter(lambda x: isinstance(x, str), df[df['asin'] == product_id]['reviewText']))\n",
        "\n",
        "#raw_reviews[337] were the sentences you were using prior for sentiment analysis\n",
        "def get_sents(raw_reviews):\n",
        "  raw_sentences = []\n",
        "  for review in raw_reviews:\n",
        "    raw_sentences.append(sent_tokenize(review))\n",
        "  raw_sentences = sum(raw_sentences, [])\n",
        "\n",
        "  processed_sentences = raw_sentences[:]\n",
        "  processed_sentences = lowercasing(processed_sentences)\n",
        "  processed_sentences = punctuation_removal(processed_sentences)\n",
        "  processed_sentences = lemmatize(processed_sentences)\n",
        "  return raw_sentences, processed_sentences\n",
        "\n",
        "raw_sentences, processed_sentences = get_sents(raw_reviews)"
      ]
    },
    {
      "cell_type": "code",
      "source": [
        "#GSDMM\n",
        "raw_reviews = list(map(lambda x: x['text'], reviews))[:n_samples]\n",
        "raw_sentences, processed_sentences = get_sents(raw_reviews)"
      ],
      "metadata": {
        "id": "FGIjqIg6JrF0"
      },
      "id": "FGIjqIg6JrF0",
      "execution_count": 24,
      "outputs": []
    },
    {
      "cell_type": "code",
      "source": [
        "#GSDMM\n",
        "tknzr = TweetTokenizer()\n",
        "def get_words(sentences):\n",
        "  words = []\n",
        "  for sentence in sentences:\n",
        "    words.append(tknzr.tokenize(sentence))\n",
        "  return words\n",
        "\n",
        "def remove_stopwords(words):\n",
        "  #Just using nltk stopwords for now\n",
        "  stops = set(nltk.corpus.stopwords.words('english'))\n",
        "  _words = []\n",
        "  for word in words:\n",
        "    if word not in stops:\n",
        "      _words.append(word)\n",
        "  return _words\n",
        "\n",
        "docs = get_words(processed_sentences)\n",
        "for i, words in enumerate(docs):\n",
        "  docs[i] = remove_stopwords(words)\n",
        "  docs[i] = list(set(docs[i]))\n",
        "\n",
        "vocab = set(x for word in words for x in word)\n",
        "\n",
        "mgp = MovieGroupProcess(K=10, alpha=.01, beta=.01, n_iters=30)\n",
        "# tutorials I saw used bigrams/trigrams for tokens in docs; might be an option for us\n",
        "model = mgp.fit(docs, len(vocab))"
      ],
      "metadata": {
        "id": "q-FayfD97_XN",
        "outputId": "ca00593c-c280-42e1-832b-2e9631fd0e4d",
        "colab": {
          "base_uri": "https://localhost:8080/"
        }
      },
      "id": "q-FayfD97_XN",
      "execution_count": 25,
      "outputs": [
        {
          "output_type": "stream",
          "name": "stdout",
          "text": [
            "In stage 0: transferred 4020 clusters with 10 clusters populated\n",
            "In stage 1: transferred 2148 clusters with 10 clusters populated\n",
            "In stage 2: transferred 1471 clusters with 10 clusters populated\n",
            "In stage 3: transferred 1215 clusters with 10 clusters populated\n",
            "In stage 4: transferred 1170 clusters with 10 clusters populated\n",
            "In stage 5: transferred 1119 clusters with 10 clusters populated\n",
            "In stage 6: transferred 1124 clusters with 10 clusters populated\n",
            "In stage 7: transferred 1054 clusters with 10 clusters populated\n",
            "In stage 8: transferred 1052 clusters with 10 clusters populated\n",
            "In stage 9: transferred 1064 clusters with 10 clusters populated\n",
            "In stage 10: transferred 1055 clusters with 10 clusters populated\n",
            "In stage 11: transferred 1039 clusters with 10 clusters populated\n",
            "In stage 12: transferred 999 clusters with 10 clusters populated\n",
            "In stage 13: transferred 1027 clusters with 10 clusters populated\n",
            "In stage 14: transferred 965 clusters with 10 clusters populated\n",
            "In stage 15: transferred 970 clusters with 10 clusters populated\n",
            "In stage 16: transferred 957 clusters with 10 clusters populated\n",
            "In stage 17: transferred 972 clusters with 10 clusters populated\n",
            "In stage 18: transferred 943 clusters with 10 clusters populated\n",
            "In stage 19: transferred 903 clusters with 10 clusters populated\n",
            "In stage 20: transferred 895 clusters with 10 clusters populated\n",
            "In stage 21: transferred 934 clusters with 10 clusters populated\n",
            "In stage 22: transferred 922 clusters with 10 clusters populated\n",
            "In stage 23: transferred 904 clusters with 10 clusters populated\n",
            "In stage 24: transferred 893 clusters with 10 clusters populated\n",
            "In stage 25: transferred 892 clusters with 10 clusters populated\n",
            "In stage 26: transferred 928 clusters with 10 clusters populated\n",
            "In stage 27: transferred 864 clusters with 10 clusters populated\n",
            "In stage 28: transferred 906 clusters with 10 clusters populated\n",
            "In stage 29: transferred 872 clusters with 10 clusters populated\n"
          ]
        }
      ]
    },
    {
      "cell_type": "code",
      "source": [
        "#credit to Catherine\n",
        "#https://www.kaggle.com/code/ptfrwrd/topic-modeling-guide-gsdm-lda-lsi/notebook\n",
        "\n",
        "def top_words(cluster_word_distribution, top_cluster, values):\n",
        "    for cluster in top_cluster:\n",
        "        sort_dicts =sorted(mgp.cluster_word_distribution[cluster].items(), key=lambda k: k[1], reverse=True)[:values]\n",
        "        print(\"\\nCluster %s : %s\"%(cluster,sort_dicts))\n",
        "\n",
        "doc_count = np.array(mgp.cluster_doc_count)\n",
        "print('Number of documents per topic :', doc_count)\n",
        "\n",
        "# topics sorted by the number of document they are allocated to\n",
        "top_index = doc_count.argsort()[-10:][::-1]\n",
        "print('\\nMost important clusters (by number of docs inside):', top_index)\n",
        "# show the top 5 words in term frequency for each cluster \n",
        "top_words(mgp.cluster_word_distribution, top_index, 10)"
      ],
      "metadata": {
        "id": "rAFBO0kEE5RX",
        "outputId": "17421b4c-3f49-4b65-aba3-f3d23d7d9e4b",
        "colab": {
          "base_uri": "https://localhost:8080/"
        }
      },
      "id": "rAFBO0kEE5RX",
      "execution_count": 26,
      "outputs": [
        {
          "output_type": "stream",
          "name": "stdout",
          "text": [
            "Number of documents per topic : [ 383  397  365  387  525  358  391  335 1135  718]\n",
            "\n",
            "Most important clusters (by number of docs inside): [8 9 4 1 6 3 0 2 5 7]\n",
            "\n",
            "Cluster 8 : [('love', 401), ('shoe', 339), ('fit', 196), ('nice', 103), ('like', 87), ('great', 84), ('comfortable', 79), ('color', 74), ('pair', 63), ('look', 62)]\n",
            "\n",
            "Cluster 9 : [('comfortable', 266), ('fit', 151), ('light', 121), ('size', 85), ('shoe', 81), ('perfect', 66), ('weight', 64), ('super', 56), ('great', 48), ('cute', 48)]\n",
            "\n",
            "Cluster 4 : [('shoe', 143), ('good', 101), ('great', 91), ('use', 85), ('comfortable', 51), ('gym', 46), ('support', 43), ('sneaker', 40), ('workout', 37), ('perfect', 37)]\n",
            "\n",
            "Cluster 1 : [('shoe', 122), ('foot', 68), ('size', 57), ('look', 50), ('great', 46), ('fit', 45), ('like', 38), ('always', 34), ('love', 33), ('get', 33)]\n",
            "\n",
            "Cluster 6 : [('shoe', 115), ('comfortable', 89), ('foot', 53), ('look', 52), ('good', 40), ('great', 39), ('wear', 37), ('feel', 37), ('fit', 36), ('make', 31)]\n",
            "\n",
            "Cluster 3 : [('shoe', 117), ('support', 51), ('comfortable', 48), ('wear', 44), ('pair', 36), ('would', 34), ('buy', 30), ('gym', 30), ('little', 30), ('arch', 30)]\n",
            "\n",
            "Cluster 0 : [('shoe', 97), ('wear', 72), ('like', 51), ('fit', 50), ('foot', 42), ('size', 42), ('bit', 36), ('really', 33), ('pair', 31), (\"i've\", 30)]\n",
            "\n",
            "Cluster 2 : [('size', 70), ('shoe', 51), ('first', 51), ('great', 45), ('time', 45), ('order', 40), ('wear', 39), ('small', 34), ('wore', 31), ('fit', 29)]\n",
            "\n",
            "Cluster 5 : [('shoe', 110), ('work', 69), ('recommend', 47), ('highly', 44), ('run', 43), ('get', 38), ('training', 36), ('day', 33), ('enough', 32), ('one', 30)]\n",
            "\n",
            "Cluster 7 : [('shoe', 58), ('nike', 48), ('size', 39), ('look', 39), ('order', 35), ('run', 33), ('comfortable', 30), ('feel', 29), ('would', 28), ('foot', 27)]\n"
          ]
        }
      ]
    },
    {
      "cell_type": "code",
      "execution_count": null,
      "id": "38433267",
      "metadata": {
        "id": "38433267"
      },
      "outputs": [],
      "source": [
        "feature_names = tf_vectorizer.get_feature_names_out()\n",
        "topic_words = []\n",
        "for topic in lda.components_:\n",
        "    top_features_ind = topic.argsort()[: -10- 1 : -1]\n",
        "    topic_words.append([feature_names[i] for i in top_features_ind])"
      ]
    },
    {
      "cell_type": "code",
      "execution_count": null,
      "id": "f780a69b",
      "metadata": {
        "scrolled": true,
        "id": "f780a69b",
        "outputId": "b42f710f-5a29-4431-ac69-3d82dd3c12df",
        "colab": {
          "base_uri": "https://localhost:8080/"
        }
      },
      "outputs": [
        {
          "output_type": "stream",
          "name": "stdout",
          "text": [
            "Great product and price! \n",
            "\t overall: 0.66 neutral: 0.41, No Topic\n",
            "\n",
            "Great product and price! \n",
            "\t overall: 0.66 neutral: 0.41, No Topic\n",
            "\n",
            "Great product and price! \n",
            "\t overall: 0.66 neutral: 0.41, No Topic\n",
            "\n",
            "Great product and price! \n",
            "\t overall: 0.66 neutral: 0.41, No Topic\n",
            "\n",
            "Great product and price! \n",
            "\t overall: 0.66 neutral: 0.41, No Topic\n",
            "\n",
            "Waaay too small. \n",
            "\t overall: 0.00 neutral: 1.00, No Topic\n",
            "\n",
            "Will use for futur children! \n",
            "\t overall: 0.00 neutral: 1.00, No Topic\n",
            "\n",
            "Stays vibrant after many washes \n",
            "\t overall: 0.53 neutral: 0.54, No Topic\n",
            "\n",
            "Stays vibrant after many washes \n",
            "\t overall: 0.53 neutral: 0.54, No Topic\n",
            "\n",
            "My son really likes the pink. \n",
            "\t overall: 0.48 neutral: 0.62, No Topic\n",
            "\n",
            "Ones which I was nervous about \n",
            "\t overall: -0.27 neutral: 0.70, No Topic\n",
            "\n",
            "Waaay too small. \n",
            "\t overall: 0.00 neutral: 1.00, No Topic\n",
            "\n",
            "Will use for future child. \n",
            "\t overall: 0.00 neutral: 1.00, No Topic\n",
            "\n",
            "Relieved my Plantar Fascitis for 3 Days. \n",
            "\t overall: 0.38 neutral: 0.70, No Topic\n",
            "\n",
            "Then the unbearable pain returned in full force. \n",
            "\t overall: -0.51 neutral: 0.68, No Topic\n",
            "\n",
            "These were recommended by my Podiatrist. \n",
            "\t overall: 0.20 neutral: 0.73, No Topic\n",
            "\n",
            "This is my 6th pair and they are the best thing ever for my plantar fasciitis and resultant neuromas. \n",
            "\t overall: 0.64 neutral: 0.81, Topic 1: average, annoy, 2nd, tip, bad, kick, allow, surface, snug, plenty\n",
            "\n",
            "Unfortunately, the ones I ordered from SmartDestination must be seconds as they kill my feet. \n",
            "\t overall: -0.80 neutral: 0.65, No Topic\n",
            "\n",
            "The hard plastic insert rubs on the outside edges of my feet. \n",
            "\t overall: -0.10 neutral: 0.89, Topic 4: row, add, casual, trail, insert, initially, resistance, insole, blue, floor\n",
            "\n",
            "I am unable to exchange them as I waited one day too late to use them in my walking shoes. \n",
            "\t overall: 0.00 neutral: 1.00, No Topic\n",
            "\n"
          ]
        }
      ],
      "source": [
        "feature_names = tf_vectorizer.get_feature_names_out()\n",
        "topic_words = []\n",
        "for topic in lda.components_:\n",
        "    top_features_ind = topic.argsort()[: -10- 1 : -1]\n",
        "    topic_words.append([feature_names[i] for i in top_features_ind])\n",
        "from vaderSentiment.vaderSentiment import SentimentIntensityAnalyzer\n",
        "analyzer = SentimentIntensityAnalyzer()\n",
        "\n",
        "# TODO: for now compound (a composite score) will suffice. Neutrality (neu) might suggest highly informational content.\n",
        "#Had to change some of the sentence processing code so the sentences were't limited\n",
        "#in that code block. I limited the sentences here for endless print statment reasons\n",
        "for raw, processed in zip(raw_sentences[:20], processed_sentences[:20]):\n",
        "    vs = analyzer.polarity_scores(raw)\n",
        "    probs = lda.transform(tf_vectorizer.transform([processed]))[0]\n",
        "    topic = probs.argmax()\n",
        "    if probs[topic] < 0.2:\n",
        "        print(\"{} \\n\\t overall: {:.2f} neutral: {:.2f}, No Topic\\n\".format(raw, vs['compound'], vs['neu']))\n",
        "    else:\n",
        "        print(\"{} \\n\\t overall: {:.2f} neutral: {:.2f}, Topic {}: {}\\n\".format(raw, vs['compound'], vs['neu'], topic+1, \", \".join(topic_words[topic])))"
      ]
    },
    {
      "cell_type": "code",
      "execution_count": null,
      "id": "1db11f93",
      "metadata": {
        "id": "1db11f93",
        "outputId": "b4577fcb-2146-498f-f936-1eff27074068",
        "colab": {
          "base_uri": "https://localhost:8080/"
        }
      },
      "outputs": [
        {
          "output_type": "execute_result",
          "data": {
            "text/plain": [
              "['easy',\n",
              " 'gift',\n",
              " 'life',\n",
              " 'exact',\n",
              " 'opinion',\n",
              " 'movement',\n",
              " 'dark',\n",
              " 'photo',\n",
              " 'couple',\n",
              " 'job']"
            ]
          },
          "metadata": {},
          "execution_count": 97
        }
      ],
      "source": [
        "lda.transform(tf_vectorizer.transform([\"easy gift life\"])).argmax()\n",
        "topic_words[6]"
      ]
    }
  ],
  "metadata": {
    "colab": {
      "provenance": []
    },
    "kernelspec": {
      "display_name": "Python 3 (ipykernel)",
      "language": "python",
      "name": "python3"
    },
    "language_info": {
      "codemirror_mode": {
        "name": "ipython",
        "version": 3
      },
      "file_extension": ".py",
      "mimetype": "text/x-python",
      "name": "python",
      "nbconvert_exporter": "python",
      "pygments_lexer": "ipython3",
      "version": "3.9.6"
    }
  },
  "nbformat": 4,
  "nbformat_minor": 5
}