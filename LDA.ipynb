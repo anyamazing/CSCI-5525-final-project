{
  "cells": [
    {
      "cell_type": "code",
      "execution_count": 80,
      "id": "qJpglWsvbuYp",
      "metadata": {
        "colab": {
          "base_uri": "https://localhost:8080/"
        },
        "id": "qJpglWsvbuYp",
        "outputId": "9d29474c-840e-4402-de52-625b95af7364"
      },
      "outputs": [
        {
          "output_type": "stream",
          "name": "stdout",
          "text": [
            "Drive already mounted at /content/drive; to attempt to forcibly remount, call drive.mount(\"/content/drive\", force_remount=True).\n"
          ]
        }
      ],
      "source": [
        "from google.colab import drive\n",
        "drive.mount('/content/drive')"
      ]
    },
    {
      "cell_type": "code",
      "source": [
        "#install GSDMM/vaderSentiment\n",
        "!pip install git+https://github.com/rwalk/gsdmm.git\n",
        "!pip install vaderSentiment"
      ],
      "metadata": {
        "id": "gAzH70ps2z7Q",
        "outputId": "f061c81f-86c1-458a-ae9c-d368653afc27",
        "colab": {
          "base_uri": "https://localhost:8080/"
        }
      },
      "id": "gAzH70ps2z7Q",
      "execution_count": 81,
      "outputs": [
        {
          "output_type": "stream",
          "name": "stdout",
          "text": [
            "Looking in indexes: https://pypi.org/simple, https://us-python.pkg.dev/colab-wheels/public/simple/\n",
            "Collecting git+https://github.com/rwalk/gsdmm.git\n",
            "  Cloning https://github.com/rwalk/gsdmm.git to /tmp/pip-req-build-v4tp41ha\n",
            "  Running command git clone -q https://github.com/rwalk/gsdmm.git /tmp/pip-req-build-v4tp41ha\n",
            "Requirement already satisfied: numpy in /usr/local/lib/python3.7/dist-packages (from gsdmm==0.1) (1.21.6)\n",
            "Looking in indexes: https://pypi.org/simple, https://us-python.pkg.dev/colab-wheels/public/simple/\n",
            "Requirement already satisfied: vaderSentiment in /usr/local/lib/python3.7/dist-packages (3.3.2)\n",
            "Requirement already satisfied: requests in /usr/local/lib/python3.7/dist-packages (from vaderSentiment) (2.23.0)\n",
            "Requirement already satisfied: certifi>=2017.4.17 in /usr/local/lib/python3.7/dist-packages (from requests->vaderSentiment) (2022.9.24)\n",
            "Requirement already satisfied: idna<3,>=2.5 in /usr/local/lib/python3.7/dist-packages (from requests->vaderSentiment) (2.10)\n",
            "Requirement already satisfied: chardet<4,>=3.0.2 in /usr/local/lib/python3.7/dist-packages (from requests->vaderSentiment) (3.0.4)\n",
            "Requirement already satisfied: urllib3!=1.25.0,!=1.25.1,<1.26,>=1.21.1 in /usr/local/lib/python3.7/dist-packages (from requests->vaderSentiment) (1.24.3)\n"
          ]
        }
      ]
    },
    {
      "cell_type": "code",
      "execution_count": 82,
      "id": "edfaf419",
      "metadata": {
        "colab": {
          "base_uri": "https://localhost:8080/"
        },
        "id": "edfaf419",
        "outputId": "86849cdb-587c-441e-d6d0-3ca818d423ae"
      },
      "outputs": [
        {
          "output_type": "stream",
          "name": "stderr",
          "text": [
            "[nltk_data] Downloading package averaged_perceptron_tagger to\n",
            "[nltk_data]     /root/nltk_data...\n",
            "[nltk_data]   Package averaged_perceptron_tagger is already up-to-\n",
            "[nltk_data]       date!\n",
            "[nltk_data] Downloading package wordnet to /root/nltk_data...\n",
            "[nltk_data]   Package wordnet is already up-to-date!\n",
            "[nltk_data] Downloading package omw-1.4 to /root/nltk_data...\n",
            "[nltk_data]   Package omw-1.4 is already up-to-date!\n",
            "[nltk_data] Downloading package punkt to /root/nltk_data...\n",
            "[nltk_data]   Package punkt is already up-to-date!\n",
            "[nltk_data] Downloading package stopwords to /root/nltk_data...\n",
            "[nltk_data]   Package stopwords is already up-to-date!\n"
          ]
        }
      ],
      "source": [
        "import pandas as pd\n",
        "import numpy as np\n",
        "import nltk\n",
        "nltk.download('averaged_perceptron_tagger')\n",
        "nltk.download('wordnet')\n",
        "nltk.download('omw-1.4')\n",
        "nltk.download('punkt')\n",
        "nltk.download('stopwords')\n",
        "from nltk.corpus import wordnet, stopwords\n",
        "from nltk.stem import WordNetLemmatizer\n",
        "from gsdmm import MovieGroupProcess\n",
        "import re\n",
        "\n",
        "#filename = \"AMAZON_FASHION_5.json\"\n",
        "filename = \"/content/drive/MyDrive/Github/CSCI-5525-final-project/AMAZON_FASHION_5.json\"\n",
        "\n",
        "\n",
        "df = pd.read_json(path_or_buf=filename, lines=True)\n"
      ]
    },
    {
      "cell_type": "code",
      "execution_count": null,
      "id": "b930eeb1",
      "metadata": {
        "id": "b930eeb1"
      },
      "outputs": [],
      "source": [
        "#df['asin'].value_counts()"
      ]
    },
    {
      "cell_type": "code",
      "execution_count": null,
      "id": "5c03edde",
      "metadata": {
        "id": "5c03edde"
      },
      "outputs": [],
      "source": [
        "#list(df[df['asin'] == 'B009MA34NY']['reviewText'])"
      ]
    },
    {
      "cell_type": "code",
      "execution_count": 83,
      "id": "39f55f9f",
      "metadata": {
        "id": "39f55f9f"
      },
      "outputs": [],
      "source": [
        "import json\n",
        "\n",
        "#filename = \"/content/drive/MyDrive/Github/CSCI-5525-final-project/AMAZON_FASHION_5.json\"\n",
        "def load_reviews(filename):\n",
        "  with open(filename) as f:\n",
        "      reviews_json = f.readlines()\n",
        "\n",
        "  reviews = []\n",
        "  for review_json in reviews_json:\n",
        "      review = json.loads(review_json)\n",
        "      if \"overall\" in review and \"reviewText\" in review:\n",
        "          reviews.append(\n",
        "              {\n",
        "                  \"rating\": review[\"overall\"],\n",
        "                  \"title\": review[\"summary\"],\n",
        "                  \"text\": review[\"reviewText\"],\n",
        "              }\n",
        "          )\n",
        "  return reviews\n",
        "\n",
        "reviews = load_reviews(filename)\n",
        "#df = pd.DataFrame.from_dict(reviews)"
      ]
    },
    {
      "cell_type": "code",
      "execution_count": 84,
      "id": "007edf04",
      "metadata": {
        "id": "007edf04"
      },
      "outputs": [],
      "source": [
        "import matplotlib.pyplot as plt\n",
        "def plot_top_words(model, feature_names, n_top_words, title):\n",
        "    fig, axes = plt.subplots(2, 5, figsize=(30, 15), sharex=True)\n",
        "    axes = axes.flatten()\n",
        "    for topic_idx, topic in enumerate(model.components_):\n",
        "        top_features_ind = topic.argsort()[: -n_top_words - 1 : -1]\n",
        "        top_features = [feature_names[i] for i in top_features_ind]\n",
        "        weights = topic[top_features_ind]\n",
        "\n",
        "        ax = axes[topic_idx]\n",
        "        ax.barh(top_features, weights, height=0.7)\n",
        "        ax.set_title(f\"Topic {topic_idx +1}\", fontdict={\"fontsize\": 30})\n",
        "        ax.invert_yaxis()\n",
        "        ax.tick_params(axis=\"both\", which=\"major\", labelsize=20)\n",
        "        for i in \"top right left\".split():\n",
        "            ax.spines[i].set_visible(False)\n",
        "        fig.suptitle(title, fontsize=40)\n",
        "\n",
        "    plt.subplots_adjust(top=0.90, bottom=0.05, wspace=0.90, hspace=0.3)\n",
        "    plt.show()"
      ]
    },
    {
      "cell_type": "markdown",
      "id": "783b1772",
      "metadata": {
        "id": "783b1772"
      },
      "source": [
        "# NMF and LDA\n",
        "Adapted from [here](https://scikit-learn.org/stable/auto_examples/applications/plot_topics_extraction_with_nmf_lda.html), minimal original work.\n",
        "\n",
        "The topics are extracting nothing of note.\n",
        "\n",
        "Further steps:\n",
        "\n",
        "- find a product with enough reviews to be worth analyzing alone (might have to request the full dataset)\n",
        "- mess around with heuristics for vectorizing terms (reducing `max_df` probably but didn't manage to get different results)\n",
        "- eliminate boring reviews?"
      ]
    },
    {
      "cell_type": "code",
      "execution_count": 85,
      "id": "a79bbcdf",
      "metadata": {
        "id": "a79bbcdf"
      },
      "outputs": [],
      "source": [
        "from sklearn.feature_extraction.text import TfidfVectorizer, CountVectorizer\n",
        "#from sklearn.decomposition import NMF, MiniBatchNMF, LatentDirichletAllocation\n",
        "from sklearn.decomposition import LatentDirichletAllocation\n",
        "\n",
        "n_samples = 2000\n",
        "n_features = 1000\n",
        "n_components = 10\n",
        "n_top_words = 20\n",
        "batch_size = 128\n",
        "init = \"nndsvda\"\n",
        "\n",
        "product_id = 'B009MA34NY'\n",
        "if product_id:\n",
        "    data_samples = list(filter(lambda x: isinstance(x, str), df[df['asin'] == product_id]['reviewText']))\n",
        "else:\n",
        "    data_samples = list(map(lambda x: x['text'], reviews))[:n_samples]\n",
        "\n",
        "\n",
        "for s in data_samples:\n",
        "\n",
        "    if not isinstance(s,str):\n",
        "        print(s)"
      ]
    },
    {
      "cell_type": "code",
      "execution_count": 87,
      "id": "8xfEAra1ghjl",
      "metadata": {
        "id": "8xfEAra1ghjl"
      },
      "outputs": [],
      "source": [
        "#preprocessing\n",
        "def lowercasing(data_samples):\n",
        "  for idx, sample in enumerate(data_samples):\n",
        "    data_samples[idx] = sample.lower()\n",
        "  return data_samples\n",
        "\n",
        "def punctuation_removal(data_samples):\n",
        "#non-exhaustive; not sure if we want to treat punctuation as significant\n",
        "#doesn't remove punctuation from inside words\n",
        "  for i, sample in enumerate(data_samples):\n",
        "    _sample = sample.split()\n",
        "    for j, word in enumerate(_sample):\n",
        "      _sample[j] = word.strip(\" .!?@#&():;,'\\/\\\\\")\n",
        "    sample = \" \".join(_sample)\n",
        "    data_samples[i] = sample\n",
        "  return data_samples\n",
        "\n",
        "def get_wordnet_pos(word):\n",
        "    \"\"\"Map POS tag to first character lemmatize() accepts\"\"\"\n",
        "    tag = nltk.pos_tag([word])[0][1]\n",
        "    if tag.startswith('J'):\n",
        "        return wordnet.ADJ\n",
        "    elif tag.startswith('V'):\n",
        "        return wordnet.VERB\n",
        "    elif tag.startswith('N'):\n",
        "        return wordnet.NOUN\n",
        "    elif tag.startswith('R'):\n",
        "        return wordnet.ADV\n",
        "    else:\n",
        "        return wordnet.NOUN\n",
        "\n",
        "def lemmatize(data_samples):\n",
        "  wnl = WordNetLemmatizer()\n",
        "  for i, sample in enumerate(data_samples):\n",
        "      _sample = sample.split()\n",
        "      for j, word in enumerate(_sample):\n",
        "        tag = get_wordnet_pos(word)\n",
        "        if tag == 'r':\n",
        "          _sample[j] = \"\"\n",
        "          idk = i\n",
        "        else:\n",
        "          _sample[j] = wnl.lemmatize(word,tag)\n",
        "      data_samples[i] = ' '.join(_sample)\n",
        "      data_samples[i] = re.sub(' +', ' ', data_samples[i])\n",
        "\n",
        "  return data_samples\n",
        "\n",
        "data_samples = lowercasing(data_samples)\n",
        "data_samples = punctuation_removal(data_samples)\n",
        "data_samples = lemmatize(data_samples)"
      ]
    },
    {
      "cell_type": "code",
      "execution_count": 88,
      "id": "74a91681",
      "metadata": {
        "colab": {
          "base_uri": "https://localhost:8080/"
        },
        "id": "74a91681",
        "outputId": "3da162cd-55ec-447f-ee18-b726f8700123",
        "scrolled": true
      },
      "outputs": [
        {
          "output_type": "stream",
          "name": "stdout",
          "text": [
            "Extracting tf-idf features for NMF...\n",
            "(375, 317)\n"
          ]
        }
      ],
      "source": [
        "# Use tf-idf features for NMF.\n",
        "print(\"Extracting tf-idf features for NMF...\")\n",
        "tfidf_vectorizer = TfidfVectorizer(\n",
        "    max_df=0.03, min_df=2, max_features=n_features, stop_words=\"english\"\n",
        ")\n",
        "tfidf = tfidf_vectorizer.fit_transform(data_samples)\n",
        "print(tfidf.shape)"
      ]
    },
    {
      "cell_type": "code",
      "execution_count": null,
      "id": "6e095478",
      "metadata": {
        "id": "6e095478"
      },
      "outputs": [],
      "source": [
        "#len(data_samples)"
      ]
    },
    {
      "cell_type": "code",
      "execution_count": null,
      "id": "91e578a6",
      "metadata": {
        "id": "91e578a6"
      },
      "outputs": [],
      "source": [
        "#print(len(tfidf_vectorizer.stop_words_))\n",
        "#tfidf_vectorizer.stop_words_"
      ]
    },
    {
      "cell_type": "code",
      "execution_count": null,
      "id": "297ad3a5",
      "metadata": {
        "id": "297ad3a5"
      },
      "outputs": [],
      "source": [
        "#tfidf_vectorizer.get_stop_words()"
      ]
    },
    {
      "cell_type": "code",
      "execution_count": 11,
      "id": "dbde3c64",
      "metadata": {
        "colab": {
          "base_uri": "https://localhost:8080/",
          "height": 254
        },
        "id": "dbde3c64",
        "outputId": "13825cc0-eb9d-45cb-ecc3-4444b7aac9a1"
      },
      "outputs": [
        {
          "output_type": "stream",
          "name": "stdout",
          "text": [
            "Fitting the NMF model (Frobenius norm) with tf-idf features, n_samples=2000 and n_features=1000...\n"
          ]
        },
        {
          "output_type": "error",
          "ename": "NameError",
          "evalue": "ignored",
          "traceback": [
            "\u001b[0;31m---------------------------------------------------------------------------\u001b[0m",
            "\u001b[0;31mNameError\u001b[0m                                 Traceback (most recent call last)",
            "\u001b[0;32m<ipython-input-11-72a2737fe9d6>\u001b[0m in \u001b[0;36m<module>\u001b[0;34m\u001b[0m\n\u001b[1;32m      4\u001b[0m     \u001b[0;34m\"n_samples=%d and n_features=%d...\"\u001b[0m \u001b[0;34m%\u001b[0m \u001b[0;34m(\u001b[0m\u001b[0mn_samples\u001b[0m\u001b[0;34m,\u001b[0m \u001b[0mn_features\u001b[0m\u001b[0;34m)\u001b[0m\u001b[0;34m\u001b[0m\u001b[0;34m\u001b[0m\u001b[0m\n\u001b[1;32m      5\u001b[0m )\n\u001b[0;32m----> 6\u001b[0;31m nmf = NMF(\n\u001b[0m\u001b[1;32m      7\u001b[0m     \u001b[0mn_components\u001b[0m\u001b[0;34m=\u001b[0m\u001b[0mn_components\u001b[0m\u001b[0;34m,\u001b[0m\u001b[0;34m\u001b[0m\u001b[0;34m\u001b[0m\u001b[0m\n\u001b[1;32m      8\u001b[0m     \u001b[0mrandom_state\u001b[0m\u001b[0;34m=\u001b[0m\u001b[0;36m1\u001b[0m\u001b[0;34m,\u001b[0m\u001b[0;34m\u001b[0m\u001b[0;34m\u001b[0m\u001b[0m\n",
            "\u001b[0;31mNameError\u001b[0m: name 'NMF' is not defined"
          ]
        }
      ],
      "source": [
        "# Fit the NMF model\n",
        "print(\n",
        "    \"Fitting the NMF model (Frobenius norm) with tf-idf features, \"\n",
        "    \"n_samples=%d and n_features=%d...\" % (n_samples, n_features)\n",
        ")\n",
        "nmf = NMF(\n",
        "    n_components=n_components,\n",
        "    random_state=1,\n",
        "    init=init,\n",
        "    beta_loss=\"frobenius\",\n",
        "    alpha_W=0.00005,\n",
        "    alpha_H=0.00005,\n",
        "    l1_ratio=1,\n",
        ").fit(tfidf)\n"
      ]
    },
    {
      "cell_type": "code",
      "execution_count": 12,
      "id": "bcb34cb0",
      "metadata": {
        "colab": {
          "base_uri": "https://localhost:8080/",
          "height": 237
        },
        "id": "bcb34cb0",
        "outputId": "4c8bb00f-b2e0-425e-be9d-1dffcf7fd20c",
        "scrolled": true
      },
      "outputs": [
        {
          "output_type": "error",
          "ename": "NameError",
          "evalue": "ignored",
          "traceback": [
            "\u001b[0;31m---------------------------------------------------------------------------\u001b[0m",
            "\u001b[0;31mNameError\u001b[0m                                 Traceback (most recent call last)",
            "\u001b[0;32m<ipython-input-12-1aff517002e4>\u001b[0m in \u001b[0;36m<module>\u001b[0;34m\u001b[0m\n\u001b[1;32m      1\u001b[0m \u001b[0mtfidf_feature_names\u001b[0m \u001b[0;34m=\u001b[0m \u001b[0mtfidf_vectorizer\u001b[0m\u001b[0;34m.\u001b[0m\u001b[0mget_feature_names_out\u001b[0m\u001b[0;34m(\u001b[0m\u001b[0;34m)\u001b[0m\u001b[0;34m\u001b[0m\u001b[0;34m\u001b[0m\u001b[0m\n\u001b[1;32m      2\u001b[0m plot_top_words(\n\u001b[0;32m----> 3\u001b[0;31m     \u001b[0mnmf\u001b[0m\u001b[0;34m,\u001b[0m\u001b[0;34m\u001b[0m\u001b[0;34m\u001b[0m\u001b[0m\n\u001b[0m\u001b[1;32m      4\u001b[0m     \u001b[0mtfidf_feature_names\u001b[0m\u001b[0;34m,\u001b[0m\u001b[0;34m\u001b[0m\u001b[0;34m\u001b[0m\u001b[0m\n\u001b[1;32m      5\u001b[0m     \u001b[0mn_top_words\u001b[0m\u001b[0;34m,\u001b[0m\u001b[0;34m\u001b[0m\u001b[0;34m\u001b[0m\u001b[0m\n",
            "\u001b[0;31mNameError\u001b[0m: name 'nmf' is not defined"
          ]
        }
      ],
      "source": [
        "tfidf_feature_names = tfidf_vectorizer.get_feature_names_out()\n",
        "plot_top_words(\n",
        "    nmf, \n",
        "    tfidf_feature_names, \n",
        "    n_top_words, \n",
        "    \"Topics in NMF model (Frobenius norm)\"\n",
        ")"
      ]
    },
    {
      "cell_type": "code",
      "execution_count": 13,
      "id": "609c12cb",
      "metadata": {
        "colab": {
          "base_uri": "https://localhost:8080/",
          "height": 237
        },
        "id": "609c12cb",
        "outputId": "1cd79de6-760f-4fef-9c5c-cadf541ca191"
      },
      "outputs": [
        {
          "output_type": "error",
          "ename": "NameError",
          "evalue": "ignored",
          "traceback": [
            "\u001b[0;31m---------------------------------------------------------------------------\u001b[0m",
            "\u001b[0;31mNameError\u001b[0m                                 Traceback (most recent call last)",
            "\u001b[0;32m<ipython-input-13-79275e0b5f7f>\u001b[0m in \u001b[0;36m<module>\u001b[0;34m\u001b[0m\n\u001b[1;32m      1\u001b[0m \u001b[0mtfidf_feature_names\u001b[0m \u001b[0;34m=\u001b[0m \u001b[0mtfidf_vectorizer\u001b[0m\u001b[0;34m.\u001b[0m\u001b[0mget_feature_names_out\u001b[0m\u001b[0;34m(\u001b[0m\u001b[0;34m)\u001b[0m\u001b[0;34m\u001b[0m\u001b[0;34m\u001b[0m\u001b[0m\n\u001b[1;32m      2\u001b[0m plot_top_words(\n\u001b[0;32m----> 3\u001b[0;31m     \u001b[0mnmf\u001b[0m\u001b[0;34m,\u001b[0m\u001b[0;34m\u001b[0m\u001b[0;34m\u001b[0m\u001b[0m\n\u001b[0m\u001b[1;32m      4\u001b[0m     \u001b[0mtfidf_feature_names\u001b[0m\u001b[0;34m,\u001b[0m\u001b[0;34m\u001b[0m\u001b[0;34m\u001b[0m\u001b[0m\n\u001b[1;32m      5\u001b[0m     \u001b[0mn_top_words\u001b[0m\u001b[0;34m,\u001b[0m\u001b[0;34m\u001b[0m\u001b[0;34m\u001b[0m\u001b[0m\n",
            "\u001b[0;31mNameError\u001b[0m: name 'nmf' is not defined"
          ]
        }
      ],
      "source": [
        "tfidf_feature_names = tfidf_vectorizer.get_feature_names_out()\n",
        "plot_top_words(\n",
        "    nmf,\n",
        "    tfidf_feature_names,\n",
        "    n_top_words,\n",
        "    \"Topics in NMF model (generalized Kullback-Leibler divergence)\",\n",
        ")"
      ]
    },
    {
      "cell_type": "code",
      "execution_count": 14,
      "id": "95885ce7",
      "metadata": {
        "colab": {
          "base_uri": "https://localhost:8080/",
          "height": 289
        },
        "id": "95885ce7",
        "outputId": "165a1959-0071-4956-e42e-40b40abbe692"
      },
      "outputs": [
        {
          "output_type": "stream",
          "name": "stdout",
          "text": [
            "\n",
            "\n",
            " Fitting the MiniBatchNMF model (Frobenius norm) with tf-idf features, n_samples=2000 and n_features=1000, batch_size=128...\n"
          ]
        },
        {
          "output_type": "error",
          "ename": "NameError",
          "evalue": "ignored",
          "traceback": [
            "\u001b[0;31m---------------------------------------------------------------------------\u001b[0m",
            "\u001b[0;31mNameError\u001b[0m                                 Traceback (most recent call last)",
            "\u001b[0;32m<ipython-input-14-6eb792bddaab>\u001b[0m in \u001b[0;36m<module>\u001b[0;34m\u001b[0m\n\u001b[1;32m      6\u001b[0m     \u001b[0;34m%\u001b[0m \u001b[0;34m(\u001b[0m\u001b[0mn_samples\u001b[0m\u001b[0;34m,\u001b[0m \u001b[0mn_features\u001b[0m\u001b[0;34m,\u001b[0m \u001b[0mbatch_size\u001b[0m\u001b[0;34m)\u001b[0m\u001b[0;34m,\u001b[0m\u001b[0;34m\u001b[0m\u001b[0;34m\u001b[0m\u001b[0m\n\u001b[1;32m      7\u001b[0m )\n\u001b[0;32m----> 8\u001b[0;31m mbnmf = MiniBatchNMF(\n\u001b[0m\u001b[1;32m      9\u001b[0m     \u001b[0mn_components\u001b[0m\u001b[0;34m=\u001b[0m\u001b[0mn_components\u001b[0m\u001b[0;34m,\u001b[0m\u001b[0;34m\u001b[0m\u001b[0;34m\u001b[0m\u001b[0m\n\u001b[1;32m     10\u001b[0m     \u001b[0mrandom_state\u001b[0m\u001b[0;34m=\u001b[0m\u001b[0;36m1\u001b[0m\u001b[0;34m,\u001b[0m\u001b[0;34m\u001b[0m\u001b[0;34m\u001b[0m\u001b[0m\n",
            "\u001b[0;31mNameError\u001b[0m: name 'MiniBatchNMF' is not defined"
          ]
        }
      ],
      "source": [
        "# Fit the MiniBatchNMF model\n",
        "print(\n",
        "    \"\\n\" * 2,\n",
        "    \"Fitting the MiniBatchNMF model (Frobenius norm) with tf-idf \"\n",
        "    \"features, n_samples=%d and n_features=%d, batch_size=%d...\"\n",
        "    % (n_samples, n_features, batch_size),\n",
        ")\n",
        "mbnmf = MiniBatchNMF(\n",
        "    n_components=n_components,\n",
        "    random_state=1,\n",
        "    batch_size=batch_size,\n",
        "    init=init,\n",
        "    beta_loss=\"frobenius\",\n",
        "    alpha_W=0.00005,\n",
        "    alpha_H=0.00005,\n",
        "    l1_ratio=0.5,\n",
        ").fit(tfidf)"
      ]
    },
    {
      "cell_type": "code",
      "execution_count": 15,
      "id": "974a710b",
      "metadata": {
        "id": "974a710b",
        "outputId": "b5b08b73-ad2a-4926-8cb3-c3e2b03a2279",
        "colab": {
          "base_uri": "https://localhost:8080/",
          "height": 237
        }
      },
      "outputs": [
        {
          "output_type": "error",
          "ename": "NameError",
          "evalue": "ignored",
          "traceback": [
            "\u001b[0;31m---------------------------------------------------------------------------\u001b[0m",
            "\u001b[0;31mNameError\u001b[0m                                 Traceback (most recent call last)",
            "\u001b[0;32m<ipython-input-15-f336c9a741e9>\u001b[0m in \u001b[0;36m<module>\u001b[0;34m\u001b[0m\n\u001b[1;32m      1\u001b[0m \u001b[0mtfidf_feature_names\u001b[0m \u001b[0;34m=\u001b[0m \u001b[0mtfidf_vectorizer\u001b[0m\u001b[0;34m.\u001b[0m\u001b[0mget_feature_names_out\u001b[0m\u001b[0;34m(\u001b[0m\u001b[0;34m)\u001b[0m\u001b[0;34m\u001b[0m\u001b[0;34m\u001b[0m\u001b[0m\n\u001b[1;32m      2\u001b[0m plot_top_words(\n\u001b[0;32m----> 3\u001b[0;31m     \u001b[0mmbnmf\u001b[0m\u001b[0;34m,\u001b[0m\u001b[0;34m\u001b[0m\u001b[0;34m\u001b[0m\u001b[0m\n\u001b[0m\u001b[1;32m      4\u001b[0m     \u001b[0mtfidf_feature_names\u001b[0m\u001b[0;34m,\u001b[0m\u001b[0;34m\u001b[0m\u001b[0;34m\u001b[0m\u001b[0m\n\u001b[1;32m      5\u001b[0m     \u001b[0mn_top_words\u001b[0m\u001b[0;34m,\u001b[0m\u001b[0;34m\u001b[0m\u001b[0;34m\u001b[0m\u001b[0m\n",
            "\u001b[0;31mNameError\u001b[0m: name 'mbnmf' is not defined"
          ]
        }
      ],
      "source": [
        "tfidf_feature_names = tfidf_vectorizer.get_feature_names_out()\n",
        "plot_top_words(\n",
        "    mbnmf,\n",
        "    tfidf_feature_names,\n",
        "    n_top_words,\n",
        "    \"Topics in MiniBatchNMF model (Frobenius norm)\",\n",
        ")"
      ]
    },
    {
      "cell_type": "code",
      "execution_count": 16,
      "id": "bbd6f279",
      "metadata": {
        "id": "bbd6f279",
        "outputId": "7fa40e32-03a1-40cc-cd27-5f1744099bb0",
        "colab": {
          "base_uri": "https://localhost:8080/",
          "height": 254
        }
      },
      "outputs": [
        {
          "output_type": "stream",
          "name": "stdout",
          "text": [
            "Fitting the MiniBatchNMF model (generalized Kullback-Leibler divergence) with tf-idf features, n_samples=2000 and n_features=1000, batch_size=128...\n"
          ]
        },
        {
          "output_type": "error",
          "ename": "NameError",
          "evalue": "ignored",
          "traceback": [
            "\u001b[0;31m---------------------------------------------------------------------------\u001b[0m",
            "\u001b[0;31mNameError\u001b[0m                                 Traceback (most recent call last)",
            "\u001b[0;32m<ipython-input-16-af6492b96ae2>\u001b[0m in \u001b[0;36m<module>\u001b[0;34m\u001b[0m\n\u001b[1;32m      5\u001b[0m     \u001b[0;34m\"batch_size=%d...\"\u001b[0m \u001b[0;34m%\u001b[0m \u001b[0;34m(\u001b[0m\u001b[0mn_samples\u001b[0m\u001b[0;34m,\u001b[0m \u001b[0mn_features\u001b[0m\u001b[0;34m,\u001b[0m \u001b[0mbatch_size\u001b[0m\u001b[0;34m)\u001b[0m\u001b[0;34m,\u001b[0m\u001b[0;34m\u001b[0m\u001b[0;34m\u001b[0m\u001b[0m\n\u001b[1;32m      6\u001b[0m )\n\u001b[0;32m----> 7\u001b[0;31m mbnmf = MiniBatchNMF(\n\u001b[0m\u001b[1;32m      8\u001b[0m     \u001b[0mn_components\u001b[0m\u001b[0;34m=\u001b[0m\u001b[0mn_components\u001b[0m\u001b[0;34m,\u001b[0m\u001b[0;34m\u001b[0m\u001b[0;34m\u001b[0m\u001b[0m\n\u001b[1;32m      9\u001b[0m     \u001b[0mrandom_state\u001b[0m\u001b[0;34m=\u001b[0m\u001b[0;36m1\u001b[0m\u001b[0;34m,\u001b[0m\u001b[0;34m\u001b[0m\u001b[0;34m\u001b[0m\u001b[0m\n",
            "\u001b[0;31mNameError\u001b[0m: name 'MiniBatchNMF' is not defined"
          ]
        }
      ],
      "source": [
        "# Fit the MiniBatchNMF model\n",
        "print(\n",
        "    \"Fitting the MiniBatchNMF model (generalized Kullback-Leibler \"\n",
        "    \"divergence) with tf-idf features, n_samples=%d and n_features=%d, \"\n",
        "    \"batch_size=%d...\" % (n_samples, n_features, batch_size),\n",
        ")\n",
        "mbnmf = MiniBatchNMF(\n",
        "    n_components=n_components,\n",
        "    random_state=1,\n",
        "    batch_size=batch_size,\n",
        "    init=init,\n",
        "    beta_loss=\"kullback-leibler\",\n",
        "    alpha_W=0.00005,\n",
        "    alpha_H=0.00005,\n",
        "    l1_ratio=0.5,\n",
        ").fit(tfidf)"
      ]
    },
    {
      "cell_type": "code",
      "execution_count": 17,
      "id": "518ed655",
      "metadata": {
        "id": "518ed655",
        "outputId": "c169e3b1-33b3-4f85-b853-de9590487a66",
        "colab": {
          "base_uri": "https://localhost:8080/",
          "height": 237
        }
      },
      "outputs": [
        {
          "output_type": "error",
          "ename": "NameError",
          "evalue": "ignored",
          "traceback": [
            "\u001b[0;31m---------------------------------------------------------------------------\u001b[0m",
            "\u001b[0;31mNameError\u001b[0m                                 Traceback (most recent call last)",
            "\u001b[0;32m<ipython-input-17-74909a23a362>\u001b[0m in \u001b[0;36m<module>\u001b[0;34m\u001b[0m\n\u001b[1;32m      1\u001b[0m \u001b[0mtfidf_feature_names\u001b[0m \u001b[0;34m=\u001b[0m \u001b[0mtfidf_vectorizer\u001b[0m\u001b[0;34m.\u001b[0m\u001b[0mget_feature_names_out\u001b[0m\u001b[0;34m(\u001b[0m\u001b[0;34m)\u001b[0m\u001b[0;34m\u001b[0m\u001b[0;34m\u001b[0m\u001b[0m\n\u001b[1;32m      2\u001b[0m plot_top_words(\n\u001b[0;32m----> 3\u001b[0;31m     \u001b[0mmbnmf\u001b[0m\u001b[0;34m,\u001b[0m\u001b[0;34m\u001b[0m\u001b[0;34m\u001b[0m\u001b[0m\n\u001b[0m\u001b[1;32m      4\u001b[0m     \u001b[0mtfidf_feature_names\u001b[0m\u001b[0;34m,\u001b[0m\u001b[0;34m\u001b[0m\u001b[0;34m\u001b[0m\u001b[0m\n\u001b[1;32m      5\u001b[0m     \u001b[0mn_top_words\u001b[0m\u001b[0;34m,\u001b[0m\u001b[0;34m\u001b[0m\u001b[0;34m\u001b[0m\u001b[0m\n",
            "\u001b[0;31mNameError\u001b[0m: name 'mbnmf' is not defined"
          ]
        }
      ],
      "source": [
        "tfidf_feature_names = tfidf_vectorizer.get_feature_names_out()\n",
        "plot_top_words(\n",
        "    mbnmf,\n",
        "    tfidf_feature_names,\n",
        "    n_top_words,\n",
        "    \"Topics in MiniBatchNMF model (generalized Kullback-Leibler divergence)\",\n",
        ")"
      ]
    },
    {
      "cell_type": "code",
      "execution_count": 89,
      "id": "b327af90",
      "metadata": {
        "id": "b327af90",
        "outputId": "5d66810f-2b7b-4831-a0de-903eaad3488f",
        "colab": {
          "base_uri": "https://localhost:8080/"
        }
      },
      "outputs": [
        {
          "output_type": "stream",
          "name": "stdout",
          "text": [
            "Extracting tf features for LDA...\n"
          ]
        },
        {
          "output_type": "execute_result",
          "data": {
            "text/plain": [
              "{'000',\n",
              " '10',\n",
              " '100',\n",
              " '12',\n",
              " '15',\n",
              " '169lbs',\n",
              " '1st',\n",
              " '20',\n",
              " '24',\n",
              " '25',\n",
              " '30',\n",
              " '3rd',\n",
              " '3x',\n",
              " '40',\n",
              " '50',\n",
              " 'abd',\n",
              " 'abit',\n",
              " 'able',\n",
              " 'absorption',\n",
              " 'accommodate',\n",
              " 'ache',\n",
              " 'achilles',\n",
              " 'activity',\n",
              " 'adjust',\n",
              " 'adjustment',\n",
              " 'advice',\n",
              " 'afford',\n",
              " 'afraid',\n",
              " 'aide',\n",
              " 'airport',\n",
              " 'airy',\n",
              " 'allows',\n",
              " 'amazing',\n",
              " 'amazon',\n",
              " 'ankle',\n",
              " 'arch',\n",
              " 'area',\n",
              " 'arose',\n",
              " 'arrive',\n",
              " 'artculo',\n",
              " 'asics',\n",
              " 'athletic',\n",
              " 'attention',\n",
              " 'awesome',\n",
              " 'az',\n",
              " 'bag',\n",
              " 'bailing',\n",
              " 'band',\n",
              " 'bandage',\n",
              " 'barefeet',\n",
              " 'barefoot',\n",
              " 'beach',\n",
              " 'beat',\n",
              " 'bed',\n",
              " 'believe',\n",
              " 'bend',\n",
              " 'best',\n",
              " 'big',\n",
              " 'bit',\n",
              " 'black',\n",
              " 'blister',\n",
              " 'blood',\n",
              " 'bluff',\n",
              " 'boot',\n",
              " 'bootcamps',\n",
              " 'bought',\n",
              " 'box',\n",
              " 'boxier',\n",
              " 'brand',\n",
              " 'break',\n",
              " 'breath',\n",
              " 'breathe',\n",
              " 'breathes',\n",
              " 'bright',\n",
              " 'broader',\n",
              " 'btw',\n",
              " 'build',\n",
              " 'bulk',\n",
              " 'bunion',\n",
              " 'business',\n",
              " 'buy',\n",
              " 'cable',\n",
              " 'calf',\n",
              " 'cam',\n",
              " 'card',\n",
              " 'cardio',\n",
              " 'care',\n",
              " 'careful',\n",
              " 'carpet',\n",
              " 'carpeted',\n",
              " 'certain',\n",
              " 'cheap',\n",
              " 'check',\n",
              " 'chic',\n",
              " 'christmas',\n",
              " 'circulation',\n",
              " 'cl',\n",
              " 'class',\n",
              " 'clean',\n",
              " 'cleaning',\n",
              " 'client',\n",
              " 'clorox',\n",
              " 'closer',\n",
              " 'closet',\n",
              " 'clothes',\n",
              " 'coach',\n",
              " 'color',\n",
              " 'colors',\n",
              " 'colour',\n",
              " 'come',\n",
              " 'comfort',\n",
              " 'comfortable',\n",
              " 'comfy',\n",
              " 'compare',\n",
              " 'complains',\n",
              " 'complaint',\n",
              " 'compress',\n",
              " 'condition',\n",
              " 'confortable',\n",
              " 'consideration',\n",
              " 'consistent',\n",
              " 'consolidated',\n",
              " 'construct',\n",
              " 'contact',\n",
              " 'coral',\n",
              " 'correct',\n",
              " 'cost',\n",
              " 'course',\n",
              " 'court',\n",
              " 'cradle',\n",
              " 'cramped',\n",
              " 'crimson',\n",
              " 'cross',\n",
              " 'crosstrainers',\n",
              " 'cushion',\n",
              " 'customer',\n",
              " 'cute',\n",
              " 'daily',\n",
              " 'damage',\n",
              " 'dance',\n",
              " 'daughter',\n",
              " 'day',\n",
              " 'defective',\n",
              " 'deliver',\n",
              " 'depends',\n",
              " 'depict',\n",
              " 'developed',\n",
              " 'did',\n",
              " 'didnt',\n",
              " 'different',\n",
              " 'difficult',\n",
              " 'difficulty',\n",
              " 'dirty',\n",
              " 'disappear',\n",
              " 'disappointed',\n",
              " 'discolor',\n",
              " 'discontinues',\n",
              " 'disney',\n",
              " 'doesn',\n",
              " 'don',\n",
              " 'downshifter',\n",
              " 'drag',\n",
              " 'dream',\n",
              " 'dress',\n",
              " 'dressy',\n",
              " 'drop',\n",
              " 'dsw',\n",
              " 'ellipical',\n",
              " 'em',\n",
              " 'emphasize',\n",
              " 'en',\n",
              " 'endurance',\n",
              " 'entire',\n",
              " 'environment',\n",
              " 'equivocado',\n",
              " 'europe',\n",
              " 'everyday',\n",
              " 'excellent',\n",
              " 'exception',\n",
              " 'excite',\n",
              " 'exercise',\n",
              " 'exoected',\n",
              " 'expect',\n",
              " 'experience',\n",
              " 'experienced',\n",
              " 'extend',\n",
              " 'extra',\n",
              " 'fantastic',\n",
              " 'fashion',\n",
              " 'faulty',\n",
              " 'favorite',\n",
              " 'feel',\n",
              " 'fight',\n",
              " 'fine',\n",
              " 'finger',\n",
              " 'firmer',\n",
              " 'fit',\n",
              " 'fits',\n",
              " 'fix',\n",
              " 'flatter',\n",
              " 'flex',\n",
              " 'flexibility',\n",
              " 'flexible',\n",
              " 'flezable',\n",
              " 'flimsy',\n",
              " 'fly',\n",
              " 'foam',\n",
              " 'fog',\n",
              " 'foot',\n",
              " 'footbed',\n",
              " 'footwear',\n",
              " 'footwork',\n",
              " 'forest',\n",
              " 'forget',\n",
              " 'frame',\n",
              " 'free',\n",
              " 'friend',\n",
              " 'fun',\n",
              " 'gear',\n",
              " 'girlfriend',\n",
              " 'glad',\n",
              " 'glove',\n",
              " 'good',\n",
              " 'gracias',\n",
              " 'gray',\n",
              " 'great',\n",
              " 'grey',\n",
              " 'grip',\n",
              " 'grit',\n",
              " 'grommet',\n",
              " 'ground',\n",
              " 'group',\n",
              " 'gry',\n",
              " 'gump',\n",
              " 'gym',\n",
              " 'half',\n",
              " 'happen',\n",
              " 'happens',\n",
              " 'happier',\n",
              " 'happy',\n",
              " 'hard',\n",
              " 'hat',\n",
              " 'hate',\n",
              " 'haven',\n",
              " 'heel',\n",
              " 'high',\n",
              " 'hitt',\n",
              " 'home',\n",
              " 'hot',\n",
              " 'hour',\n",
              " 'hue',\n",
              " 'hug',\n",
              " 'huge',\n",
              " 'hunt',\n",
              " 'hurache',\n",
              " 'hurt',\n",
              " 'ideal',\n",
              " 'im',\n",
              " 'image',\n",
              " 'impressed',\n",
              " 'impression',\n",
              " 'individual',\n",
              " 'inside',\n",
              " 'instruction',\n",
              " 'intend',\n",
              " 'issue',\n",
              " 'item',\n",
              " 'iteration',\n",
              " 'jam',\n",
              " 'jammed',\n",
              " 'jean',\n",
              " 'jog',\n",
              " 'jogging',\n",
              " 'join',\n",
              " 'joint',\n",
              " 'jumping',\n",
              " 'kept',\n",
              " 'kickboxing',\n",
              " 'kind',\n",
              " 'knee',\n",
              " 'knock',\n",
              " 'know',\n",
              " 'lace',\n",
              " 'large',\n",
              " 'layer',\n",
              " 'learn',\n",
              " 'left',\n",
              " 'leg',\n",
              " 'length',\n",
              " 'let',\n",
              " 'level',\n",
              " 'lift',\n",
              " 'light',\n",
              " 'lighter',\n",
              " 'lightweight',\n",
              " 'like',\n",
              " 'limp',\n",
              " 'line',\n",
              " 'little',\n",
              " 'll',\n",
              " 'longer',\n",
              " 'look',\n",
              " 'loosens',\n",
              " 'looser',\n",
              " 'lot',\n",
              " 'love',\n",
              " 'loved',\n",
              " 'lunge',\n",
              " 'luv',\n",
              " 'ma',\n",
              " 'machine',\n",
              " 'major',\n",
              " 'make',\n",
              " 'man',\n",
              " 'marathon',\n",
              " 'massage',\n",
              " 'material',\n",
              " 'matter',\n",
              " 'meant',\n",
              " 'medium',\n",
              " 'meh',\n",
              " 'mic',\n",
              " 'mid',\n",
              " 'middle',\n",
              " 'mile',\n",
              " 'mind',\n",
              " 'minute',\n",
              " 'mizuno',\n",
              " 'moderate',\n",
              " 'month',\n",
              " 'motivation',\n",
              " 'movrment',\n",
              " 'mtllc',\n",
              " 'mud',\n",
              " 'muscle',\n",
              " 'narrow',\n",
              " 'ne',\n",
              " 'need',\n",
              " 'neoprene',\n",
              " 'nervous',\n",
              " 'new',\n",
              " 'nice',\n",
              " 'nicer',\n",
              " 'nike',\n",
              " 'noise',\n",
              " 'non',\n",
              " 'normal',\n",
              " 'nub',\n",
              " 'numb',\n",
              " 'nyc',\n",
              " 'ob',\n",
              " 'occasion',\n",
              " 'offer',\n",
              " 'office',\n",
              " 'oh',\n",
              " 'ohio',\n",
              " 'omaha',\n",
              " 'online',\n",
              " 'oops',\n",
              " 'open',\n",
              " 'opposite',\n",
              " 'optimal',\n",
              " 'option',\n",
              " 'order',\n",
              " 'outdoor',\n",
              " 'outdoors',\n",
              " 'outfit',\n",
              " 'overall',\n",
              " 'overprice',\n",
              " 'overwhelm',\n",
              " 'package',\n",
              " 'pain',\n",
              " 'pair',\n",
              " 'pairs',\n",
              " 'paperwork',\n",
              " 'participate',\n",
              " 'pas',\n",
              " 'past',\n",
              " 'pattern',\n",
              " 'pay',\n",
              " 'perf',\n",
              " 'perfect',\n",
              " 'perfict',\n",
              " 'perform',\n",
              " 'performance',\n",
              " 'period',\n",
              " 'person',\n",
              " 'perspiration',\n",
              " 'phoenix',\n",
              " 'pic',\n",
              " 'picture',\n",
              " 'pinch',\n",
              " 'pink',\n",
              " 'pinker',\n",
              " 'pinkie',\n",
              " 'pinky',\n",
              " 'place',\n",
              " 'plank',\n",
              " 'pleased',\n",
              " 'pnk',\n",
              " 'pointier',\n",
              " 'portion',\n",
              " 'pregnant',\n",
              " 'pressing',\n",
              " 'pressure',\n",
              " 'previous',\n",
              " 'price',\n",
              " 'problem',\n",
              " 'product',\n",
              " 'profile',\n",
              " 'pronation',\n",
              " 'puma',\n",
              " 'purchase',\n",
              " 'purpose',\n",
              " 'pw',\n",
              " 'quality',\n",
              " 'read',\n",
              " 'reading',\n",
              " 'ready',\n",
              " 'real',\n",
              " 'realize',\n",
              " 'reason',\n",
              " 'reccomend',\n",
              " 'receive',\n",
              " 'recess',\n",
              " 'recommend',\n",
              " 'refer',\n",
              " 'regular',\n",
              " 'relay',\n",
              " 'reluctant',\n",
              " 'remedy',\n",
              " 'reorder',\n",
              " 'report',\n",
              " 'require',\n",
              " 'requirement',\n",
              " 'rest',\n",
              " 'restrict',\n",
              " 'result',\n",
              " 'retail',\n",
              " 'return',\n",
              " 'review',\n",
              " 'reviewer',\n",
              " 'right',\n",
              " 'rigorous',\n",
              " 'ripped',\n",
              " 'road',\n",
              " 'rock',\n",
              " 'room',\n",
              " 'roomy',\n",
              " 'rotate',\n",
              " 'rough',\n",
              " 'rounder',\n",
              " 'rub',\n",
              " 'rubber',\n",
              " 'run',\n",
              " 'runner',\n",
              " 'ryka',\n",
              " 'sale',\n",
              " 'sandal',\n",
              " 'satisfied',\n",
              " 'saw',\n",
              " 'say',\n",
              " 'sciatica',\n",
              " 'second',\n",
              " 'section',\n",
              " 'secure',\n",
              " 'seller',\n",
              " 'sensitive',\n",
              " 'serf',\n",
              " 'series',\n",
              " 'session',\n",
              " 'seven',\n",
              " 'shape',\n",
              " 'shift',\n",
              " 'shin',\n",
              " 'shock',\n",
              " 'shoe',\n",
              " 'shoelace',\n",
              " 'shoes',\n",
              " 'shoot',\n",
              " 'shopping',\n",
              " 'short',\n",
              " 'shot',\n",
              " 'shoxs',\n",
              " 'shrinkage',\n",
              " 'situation',\n",
              " 'size',\n",
              " 'skin',\n",
              " 'sleek',\n",
              " 'sleeve',\n",
              " 'slip',\n",
              " 'slvr',\n",
              " 'small',\n",
              " 'smaller',\n",
              " 'smooth',\n",
              " 'sneaker',\n",
              " 'sock',\n",
              " 'soft',\n",
              " 'sol',\n",
              " 'sole',\n",
              " 'son',\n",
              " 'sooooo',\n",
              " 'sore',\n",
              " 'sorry',\n",
              " 'space',\n",
              " 'spent',\n",
              " 'splint',\n",
              " 'sporty',\n",
              " 'spread',\n",
              " 'sprinter',\n",
              " 'square',\n",
              " 'stability',\n",
              " 'stairmaster',\n",
              " 'start',\n",
              " 'state',\n",
              " 'stats',\n",
              " 'stay',\n",
              " 'step',\n",
              " 'stick',\n",
              " 'sticky',\n",
              " 'stock',\n",
              " 'stop',\n",
              " 'store',\n",
              " 'strength',\n",
              " 'stride',\n",
              " 'string',\n",
              " 'sturdy',\n",
              " 'style',\n",
              " 'subside',\n",
              " 'suffer',\n",
              " 'suggest',\n",
              " 'super',\n",
              " 'supnation',\n",
              " 'support',\n",
              " 'suppose',\n",
              " 'supreme',\n",
              " 'sure',\n",
              " 'surgery',\n",
              " 'survive',\n",
              " 'swap',\n",
              " 'sweaty',\n",
              " 'swiss',\n",
              " 'switch',\n",
              " 'tad',\n",
              " 'talk',\n",
              " 'teenage',\n",
              " 'tennis',\n",
              " 'term',\n",
              " 'thanks',\n",
              " 'therapist',\n",
              " 'thickness',\n",
              " 'think',\n",
              " 'thought',\n",
              " 'thy',\n",
              " 'tight',\n",
              " 'tighten',\n",
              " 'tighter',\n",
              " 'time',\n",
              " 'toe',\n",
              " 'ton',\n",
              " 'tongue',\n",
              " 'touch',\n",
              " 'tough',\n",
              " 'town',\n",
              " 'tr3',\n",
              " 'track',\n",
              " 'trainer',\n",
              " 'training',\n",
              " 'tranasaction',\n",
              " 'treadmill',\n",
              " 'tredmill',\n",
              " 'trial',\n",
              " 'trip',\n",
              " 'true',\n",
              " 'try',\n",
              " 'turn',\n",
              " 'twinge',\n",
              " 'typical',\n",
              " 'ugh',\n",
              " 'uncomfortable',\n",
              " 'understand',\n",
              " 'unless',\n",
              " 'update',\n",
              " 'use',\n",
              " 'usual',\n",
              " 'vacation',\n",
              " 've',\n",
              " 'ventilation',\n",
              " 'verge',\n",
              " 'versatile',\n",
              " 'vffs',\n",
              " 'vibram',\n",
              " 'vibrant',\n",
              " 'video',\n",
              " 'vigorous',\n",
              " 'walk',\n",
              " 'wall',\n",
              " 'walt',\n",
              " 'want',\n",
              " 'ware',\n",
              " 'warehouse',\n",
              " 'wash',\n",
              " 'way',\n",
              " 'wear',\n",
              " 'wearable',\n",
              " 'week',\n",
              " 'weight',\n",
              " 'weightless',\n",
              " 'weightlift',\n",
              " 'weren',\n",
              " 'white',\n",
              " 'wide',\n",
              " 'wider',\n",
              " 'wife',\n",
              " 'wiggle',\n",
              " 'window',\n",
              " 'wipe',\n",
              " 'wish',\n",
              " 'woman',\n",
              " 'wonder',\n",
              " 'wore',\n",
              " 'work',\n",
              " 'workout',\n",
              " 'world',\n",
              " 'worn',\n",
              " 'worried',\n",
              " 'wow',\n",
              " 'wrap',\n",
              " 'yeah',\n",
              " 'year',\n",
              " 'years',\n",
              " 'yellow',\n",
              " 'yellowish',\n",
              " 'yoga',\n",
              " 'zero',\n",
              " 'zing',\n",
              " 'zumba'}"
            ]
          },
          "metadata": {},
          "execution_count": 89
        }
      ],
      "source": [
        "# Use tf (raw term count) features for LDA.\n",
        "print(\"Extracting tf features for LDA...\")\n",
        "tf_vectorizer = CountVectorizer(\n",
        "    max_df=0.01, min_df=2, max_features=n_features, stop_words=\"english\"\n",
        ")\n",
        "tf = tf_vectorizer.fit_transform(data_samples)\n",
        "tf_vectorizer.stop_words_"
      ]
    },
    {
      "cell_type": "code",
      "execution_count": 90,
      "id": "d3bb9280",
      "metadata": {
        "id": "d3bb9280",
        "scrolled": false,
        "outputId": "b20ced02-57d3-4495-d32e-ed655a1d7b9d",
        "colab": {
          "base_uri": "https://localhost:8080/",
          "height": 1000
        }
      },
      "outputs": [
        {
          "output_type": "stream",
          "name": "stdout",
          "text": [
            "Fitting LDA models with tf features, n_samples=2000 and n_features=1000...\n"
          ]
        },
        {
          "output_type": "display_data",
          "data": {
            "text/plain": [
              "<Figure size 2160x1080 with 10 Axes>"
            ],
            "image/png": "[encoded data removed]"
          },
          "metadata": {
            "needs_background": "light"
          }
        }
      ],
      "source": [
        "print(\n",
        "    \"Fitting LDA models with tf features, n_samples=%d and n_features=%d...\"\n",
        "    % (n_samples, n_features),\n",
        ")\n",
        "lda = LatentDirichletAllocation(\n",
        "    n_components=n_components,\n",
        "    max_iter=5,\n",
        "    learning_method=\"online\",\n",
        "    learning_offset=50.0,\n",
        "    random_state=0,\n",
        ")\n",
        "lda.fit(tf)\n",
        "\n",
        "tf_feature_names = tf_vectorizer.get_feature_names_out()\n",
        "plot_top_words(lda, tf_feature_names, n_top_words, \"Topics in LDA model\")"
      ]
    },
    {
      "cell_type": "code",
      "execution_count": 91,
      "id": "71e55dc7",
      "metadata": {
        "id": "71e55dc7",
        "outputId": "acb4f753-b56a-474b-aa50-ce0b85fe893f",
        "colab": {
          "base_uri": "https://localhost:8080/"
        }
      },
      "outputs": [
        {
          "output_type": "stream",
          "name": "stdout",
          "text": [
            "4 : try them on in a store before buying online i knew they'd fit good overall i be look for a durable cross training shoe that would hold to my rigorous training and these have be great they be light and comfortable most for me they have grip on the bottom my foot don't slide out from under me while do plank push-ups etc satisfied with this purchase\n",
            "20 : great shoe i've have nike's before and have be pleased with the comfort performance and quality though i will say this be the time i order a pair online without try them on i be nervous but this turn out to be a great choice breathable lightweight but sturdy and comfortable during all my workout the built-in arch support be great and i've have no discomfort after 2 week of use a a the sole thickness and cushion go i would consider these a medium build thin thick if you're into heavy run outdoors take that into consideration everyone be different in their preference for cushion but i think for light run on a treadmill they would be sufficient love these recommend\n",
            "60 : glad i read the review and order a half size big these be light weight i work out in them last night and have a great work out they be comfortable i would recommend these to anyone i be a beach body coach and these be my new favorite shoe to work out in i feel like i be walk in slipper when i wear these shoe they be comfortable i love them much i buy myself anything nice and for christmas get an amazon gift card and use it to buy myself these sneaker and they be awesome i do love them and have be tell all my friend about them get these shoe\n",
            "62 : i love these i have the previous iteration or two and wore them out after several year they be a light-weight training shoe i wouldn't get them if you be go to be do a lot of run but this make them comfortable i hadn't realize how hot run shoe make my foot until i switch to these good support and my foot stay cool all day light but well-made and last i have worn them hike in a pinch but don't recommend it because the material be mesh-like and will let a lot of dirt in but if you take cardio class and/or do weight training or need something to wear around town look no\n",
            "69 : these be a bit longer than they should be i wear a 9 but could have order a 8.5 the width be accurate the pink be pinker than show and the light gray be over the bright pink it isn't a gray a show in the picture it make the shoe a bit overwhelm two grommet on each shoe be dark i'm refer to the dark grommet closer to the toe a show in the photo i'm talk about two grommet at the top of of the lace opposite side of side show in photo i thought it be faulty at until i notice they be on the same side of each shoe kind of odd and picture overall they be comfortable shoe which be why i be keep if you can see me come from a mile\n",
            "84 : i bought these for gym training - weight class and dance class body jam zumba - and want to like them since i love the color and the light weight feel but when i work out high impact my toe tingle go numb and cramped because the toe bed be narrow wasn't cushion for me when do lunge the ball of my foot hurt can't return them because i wore them several time these might be fine for someone with a narrow foot\n",
            "105 : ob with these shoe i be look for good all around sneaker run walk tennis etc and these than fit the bill i be look for black nike i love the fit with white sol good for court sport i be a little reluctant to purchase because i wasn't sure whether the black on the sol would contact the ground but it doesn't\n",
            "144 : it's be a time since i've work a cross training shoe this shoe be light and pas compare to run shoe that's meant to be a knock a fact i order the shoe half a size because a a former runner i'm use to my foot need room to spread and swell i wish i hadn't because they feel a little roomy i have orthotics i think i can remedy the issue i swap those in good shoe\n",
            "145 : good indoor training shoe for run on treadmill do lunge and regular exercise at the gym these be flexible light weight and comfortable grip be okay - sticky rubber be use at the edge of heel and toe area i slip a little when i work on cable machine resistance band etc on un-carpeted floor i would emphasize that if you do lift a a part of your everyday routine workout i would recommend them because mine cushion last for six month and this be the reason i give three star other than that i like them\n",
            "155 : i get the impression it's cushiony and comfy by reading the review on this product when i try it on it be a much firmer than my other work shoe i'm stand all day and need support and comfort this isn't the right product for that i have to return it but i would assume it would work fine for training it look decent and clean and seem sturdy the right thing for me i be refund upon return credit for that\n",
            "210 : be about a 1/2 inch of extra space from the tip of my big toe to the front of the shoe that's okay though i wear sock it doesn't feel big if it do make your foot look a bit the color be vibrant and the sole have plenty of grip on a slippery floor i wore them for most of the day and they be comfortable overall i'm pleased with this shoe\n",
            "232 : great shoe - be look for something to replace my barefeet i can wear orthotics while kickboxing these be light weight hug my foot and have a thinner upper i can feel the bag when i kick and they have good lateral stability my foot be on the narrow side it's hard to find shoe that be snug these be perfect oh and they be cute\n",
            "236 : i be wear run shoe for cardio dance class at the gym because i thought they would be sufficient after get 2 blood blister i do some research and found out cross trainer would be appropriate which be how i end buying this pair they be longer in look i would like but i think that be typical of cross trainer the lace be do in a way that allows you to tie if you're careful my toe be tingle during one particular work out when i have do this other that i be happy with the shoe\n",
            "241 : if you wear nike on the regular you should much know your size i wear 7's in nike and it fit a expect i have many of the trail runner generation and love them all they're my go to sneaker for the gym use or casual wear i have a pair i use for casual wear that have last about 5 year another pair that i use for cross fit/outdoor run that last a little over a year vigorous daily use all in all these shoe be great for me they're lightweight and comfortable\n",
            "273 : i have 3 pair of these trainer they be comfortable be a neoprene sleeve that go around your ankle that make them the most comfortable for me compare to normal athletic shoe they run a little narrow - for me this be perfect but you may want to round on the size or try on in the store if your foot be on the wider side\n",
            "282 : i bought a pair from dsw for 50$ and they be comfortable but i bought a size 6.5 when i where a size 7 and the 6.5 feel a little roomy i have wide flat foot btw im sure if i will keep them though i love their look and comfort i've be have foot problem while take a gym class and i think they won't give me support when run they're great for wear at home or gym and do exercise in one place- light weight and flexible but i don't know if they'll last if you use them i like them but i cant buy 2 different shoe i like the string inside the line on the side of the shoe to adjust and make the shoe fit snug it make me feel secure d\n",
            "323 : i love the look and comfort of these shoe for style and lift weight super cute and flezable but for run it might be my pronation/supnation and these shoe do work for my personal stride i run about 2-4 mile every few day average of 8 mile a week and sprint a week on a treadmill after run with these 3 time i be have major issue that i have have before my stats and other shoe i road and trail run i run on my tip toe on the treadmill and a lot of heal on the road i be 5'6 169lbs with muscle than an average runner built like a sprinter than a marathon runner i love nike flex bottom they give me support and flex need i have use asics and puma\n",
            "325 : i bought a wide size of these at a local store and they be amaze soft comfy with moderate support a cloud to walk on but minimalist the wide size be perfect for my wide foot with high arch the shoe tends to run about a half size though for nike i be work on get in shape and these shoe feel good all day no rub on my big toe joint or pinkie toe or heel pleased\n",
            "331 : love my new nike's it's be year since i've be able to wear them size change year and i couldn't wear them any but the new style and size be perfect lightweight shoe with ton of style the fog color be what i be look for...not black and neon i wore them to participate in relay for life 24 hour walk and they held great\n",
            "336 : a-ma-zing i need a good jogging shoe and these make me feel like \"forest gump\" i felt like i be run on a cloud i have narrow foot and these fit i be happy that i be go to purchase another two pair a back-ups for it's time to replace them recommend to woman who like to walk or run and light a light weight comfortable shoe\n",
            "342 : this be the most comfortable shoe i've have no other shoe can compare to how the individual nub on the bottom allow your foot to be cushion work like it's suppose to my foot feel cradle in this shoe and hard surface don't make my foot ache these shoe have a small amount of support but much which i like a i'm come from vibram five finger sorry vffs i'm bailing after 2 year of shin splint no matter what i do recommend for walking/running on concrete or track a a nike continue to make the flex supreme they will get my money please don't change this shoe\n",
            "348 : the picture make the shoe look like it have a \"boxier\" toe than the \"pointier\" toe that it have i have wider foot and need to buy a size or half size longer to get a comfortable width in any brand of shoe i be shoot for a rounder broader toe design which be comfortable for me and i feel that the picture of this shoe didn't depict what i receive in that one detail \"the shoe fits.\" i be wear it\n",
            "356 : i've have these shoe for about a week and have enjoy use them consider the fact that i have wide foot the shoe be tight it doesn't feel uncomfortable nor do it bother me a i use them throughout my workout i know some people like when the shoe be a bit tighter or a bit looser it's all in personal preference\n",
            "370 : favorite nike shoe the flex sole be excellent for someone like me who love the free feel of sandal or be barefoot these move with the bend of my foot i've worn these for multiple activity and i've have no foot or ankle pain the white/green/dark grey color go with many outfit and the mesh breathes on hot summer day recommend\n",
            "373 : super comfortable and fit my small foot i have flat foot a lot of shoe be comfortable for period of time i can wear the shoe all day and they be super comfortable they be light color any dirt will be see right but they be easy to clean compare to other shoe ive have would buy another pair in a different color\n"
          ]
        }
      ],
      "source": [
        "for i, sample in enumerate(data_samples):\n",
        "    if len(sample) > 300 and len(sample) < 700:\n",
        "        print(i,\":\", sample)"
      ]
    },
    {
      "cell_type": "code",
      "execution_count": 92,
      "id": "2d3aee19",
      "metadata": {
        "id": "2d3aee19",
        "outputId": "8e1d0459-7fbe-404c-ab36-acf7cab0e69c",
        "colab": {
          "base_uri": "https://localhost:8080/"
        }
      },
      "outputs": [
        {
          "output_type": "execute_result",
          "data": {
            "text/plain": [
              "array([[0.01666852, 0.0166684 , 0.01666784, 0.01666792, 0.01666783,\n",
              "        0.01666833, 0.01666769, 0.84998699, 0.01666782, 0.01666866]])"
            ]
          },
          "metadata": {},
          "execution_count": 92
        }
      ],
      "source": [
        "lda.transform(tf_vectorizer.transform([data_samples[84]]))"
      ]
    },
    {
      "cell_type": "code",
      "execution_count": 93,
      "id": "3d31f777",
      "metadata": {
        "id": "3d31f777",
        "outputId": "bd41a4ad-a2c5-42a0-e377-f343a19a5c18",
        "colab": {
          "base_uri": "https://localhost:8080/",
          "height": 53
        }
      },
      "outputs": [
        {
          "output_type": "execute_result",
          "data": {
            "text/plain": [
              "\"i bought these for gym training - weight class and dance class body jam zumba - and want to like them since i love the color and the light weight feel but when i work out high impact my toe tingle go numb and cramped because the toe bed be narrow wasn't cushion for me when do lunge the ball of my foot hurt can't return them because i wore them several time these might be fine for someone with a narrow foot\""
            ],
            "application/vnd.google.colaboratory.intrinsic+json": {
              "type": "string"
            }
          },
          "metadata": {},
          "execution_count": 93
        }
      ],
      "source": [
        "data_samples[84]"
      ]
    },
    {
      "cell_type": "code",
      "execution_count": 94,
      "id": "68167001",
      "metadata": {
        "id": "68167001"
      },
      "outputs": [],
      "source": [
        "from nltk import sent_tokenize\n",
        "from nltk.tokenize import TweetTokenizer\n",
        "\n",
        "raw_reviews = list(filter(lambda x: isinstance(x, str), df[df['asin'] == product_id]['reviewText']))\n",
        "\n",
        "#raw_reviews[337] were the sentences you were using prior for sentiment analysis\n",
        "def get_sents(raw_reviews):\n",
        "  raw_sentences = []\n",
        "  for review in raw_reviews:\n",
        "    raw_sentences.append(sent_tokenize(review))\n",
        "  raw_sentences = sum(raw_sentences, [])\n",
        "\n",
        "  processed_sentences = raw_sentences[:]\n",
        "  processed_sentences = lowercasing(processed_sentences)\n",
        "  processed_sentences = punctuation_removal(processed_sentences)\n",
        "  processed_sentences = lemmatize(processed_sentences)\n",
        "  return raw_sentences, processed_sentences\n",
        "\n",
        "raw_sentences, processed_sentences = get_sents(raw_reviews)"
      ]
    },
    {
      "cell_type": "code",
      "source": [
        "#GSDMM\n",
        "raw_reviews = list(map(lambda x: x['text'], reviews))[:n_samples]\n",
        "raw_sentences, processed_sentences = get_sents(raw_reviews)"
      ],
      "metadata": {
        "id": "FGIjqIg6JrF0"
      },
      "id": "FGIjqIg6JrF0",
      "execution_count": 95,
      "outputs": []
    },
    {
      "cell_type": "code",
      "source": [
        "#GSDMM\n",
        "tknzr = TweetTokenizer()\n",
        "def get_words(sentences):\n",
        "  words = []\n",
        "  for sentence in sentences:\n",
        "    words.append(tknzr.tokenize(sentence))\n",
        "  return words\n",
        "\n",
        "def remove_stopwords(words):\n",
        "  #Just using nltk stopwords for now\n",
        "  stops = set(nltk.corpus.stopwords.words('english'))\n",
        "  _words = []\n",
        "  for word in words:\n",
        "    if word not in stops:\n",
        "      _words.append(word)\n",
        "  return _words\n",
        "\n",
        "docs = get_words(processed_sentences)\n",
        "for i, words in enumerate(docs):\n",
        "  docs[i] = remove_stopwords(words)\n",
        "  docs[i] = list(set(docs[i]))\n",
        "\n",
        "vocab = set(x for word in words for x in word)\n",
        "\n",
        "mgp = MovieGroupProcess(K=10, alpha=.01, beta=.01, n_iters=30)\n",
        "# tutorials I saw used bigrams/trigrams for tokens in docs; might be an option for us\n",
        "model = mgp.fit(docs, len(vocab))"
      ],
      "metadata": {
        "id": "q-FayfD97_XN",
        "outputId": "dd45d1e2-0cd5-4f9b-9443-cf33dedee38c",
        "colab": {
          "base_uri": "https://localhost:8080/"
        }
      },
      "id": "q-FayfD97_XN",
      "execution_count": 96,
      "outputs": [
        {
          "output_type": "stream",
          "name": "stdout",
          "text": [
            "In stage 0: transferred 4078 clusters with 10 clusters populated\n",
            "In stage 1: transferred 2248 clusters with 10 clusters populated\n",
            "In stage 2: transferred 1650 clusters with 10 clusters populated\n",
            "In stage 3: transferred 1392 clusters with 10 clusters populated\n",
            "In stage 4: transferred 1283 clusters with 10 clusters populated\n",
            "In stage 5: transferred 1181 clusters with 10 clusters populated\n",
            "In stage 6: transferred 1117 clusters with 10 clusters populated\n",
            "In stage 7: transferred 1147 clusters with 10 clusters populated\n",
            "In stage 8: transferred 1112 clusters with 10 clusters populated\n",
            "In stage 9: transferred 1132 clusters with 10 clusters populated\n",
            "In stage 10: transferred 1139 clusters with 10 clusters populated\n",
            "In stage 11: transferred 1092 clusters with 10 clusters populated\n",
            "In stage 12: transferred 1063 clusters with 10 clusters populated\n",
            "In stage 13: transferred 1108 clusters with 10 clusters populated\n",
            "In stage 14: transferred 1087 clusters with 10 clusters populated\n",
            "In stage 15: transferred 1089 clusters with 10 clusters populated\n",
            "In stage 16: transferred 1041 clusters with 10 clusters populated\n",
            "In stage 17: transferred 1066 clusters with 10 clusters populated\n",
            "In stage 18: transferred 1049 clusters with 10 clusters populated\n",
            "In stage 19: transferred 1044 clusters with 10 clusters populated\n",
            "In stage 20: transferred 1021 clusters with 10 clusters populated\n",
            "In stage 21: transferred 1043 clusters with 10 clusters populated\n",
            "In stage 22: transferred 1029 clusters with 10 clusters populated\n",
            "In stage 23: transferred 1023 clusters with 10 clusters populated\n",
            "In stage 24: transferred 1034 clusters with 10 clusters populated\n",
            "In stage 25: transferred 1008 clusters with 10 clusters populated\n",
            "In stage 26: transferred 976 clusters with 10 clusters populated\n",
            "In stage 27: transferred 990 clusters with 10 clusters populated\n",
            "In stage 28: transferred 967 clusters with 10 clusters populated\n",
            "In stage 29: transferred 1050 clusters with 10 clusters populated\n"
          ]
        }
      ]
    },
    {
      "cell_type": "code",
      "source": [
        "#credit to Catherine\n",
        "#https://www.kaggle.com/code/ptfrwrd/topic-modeling-guide-gsdm-lda-lsi/notebook\n",
        "\n",
        "def top_words(cluster_word_distribution, top_cluster, values):\n",
        "    for cluster in top_cluster:\n",
        "        sort_dicts =sorted(mgp.cluster_word_distribution[cluster].items(), key=lambda k: k[1], reverse=True)[:values]\n",
        "        print(\"\\nCluster %s : %s\"%(cluster,sort_dicts))\n",
        "\n",
        "doc_count = np.array(mgp.cluster_doc_count)\n",
        "print('Number of documents per topic :', doc_count)\n",
        "\n",
        "# topics sorted by the number of document they are allocated to\n",
        "top_index = doc_count.argsort()[-10:][::-1]\n",
        "print('\\nMost important clusters (by number of docs inside):', top_index)\n",
        "# show the top 5 words in term frequency for each cluster \n",
        "top_words(mgp.cluster_word_distribution, top_index, 10)"
      ],
      "metadata": {
        "id": "rAFBO0kEE5RX",
        "outputId": "07414f54-2e23-4653-dc2e-c173ce7fc2c7",
        "colab": {
          "base_uri": "https://localhost:8080/"
        }
      },
      "id": "rAFBO0kEE5RX",
      "execution_count": 97,
      "outputs": [
        {
          "output_type": "stream",
          "name": "stdout",
          "text": [
            "Number of documents per topic : [ 305  460  274 1004  809  427  412  481  441  381]\n",
            "\n",
            "Most important clusters (by number of docs inside): [3 4 7 1 8 5 6 9 0 2]\n",
            "\n",
            "Cluster 3 : [('love', 307), ('shoe', 267), ('comfortable', 264), ('fit', 180), ('light', 139), ('weight', 84), ('great', 77), ('perfect', 77), ('lightweight', 62), ('color', 57)]\n",
            "\n",
            "Cluster 4 : [('fit', 161), ('comfortable', 158), ('shoe', 143), ('size', 98), ('like', 87), ('wear', 72), ('feel', 70), ('comfy', 69), ('expect', 62), ('true', 58)]\n",
            "\n",
            "Cluster 7 : [('shoe', 99), ('look', 89), ('love', 69), ('nice', 61), ('foot', 60), ('great', 45), ('pair', 43), ('comfortable', 41), ('fit', 38), ('good', 38)]\n",
            "\n",
            "Cluster 1 : [('shoe', 133), ('wear', 61), ('size', 51), ('nike', 50), ('use', 39), ('good', 39), ('try', 36), ('order', 36), ('support', 35), ('love', 34)]\n",
            "\n",
            "Cluster 8 : [('shoe', 146), ('size', 95), ('fit', 81), ('perfect', 55), ('order', 48), ('big', 42), ('great', 42), ('foot', 37), ('small', 35), ('large', 35)]\n",
            "\n",
            "Cluster 5 : [('shoe', 114), ('good', 93), ('great', 76), ('fit', 58), ('comfortable', 57), ('size', 47), ('foot', 47), ('support', 42), ('price', 36), ('training', 35)]\n",
            "\n",
            "Cluster 6 : [('shoe', 89), ('love', 86), ('purchase', 43), ('run', 41), ('would', 37), ('much', 31), ('comfortable', 30), ('recommend', 28), ('buy', 27), ('size', 26)]\n",
            "\n",
            "Cluster 9 : [('shoe', 63), ('work', 60), ('wear', 52), ('pair', 46), ('great', 45), ('use', 45), ('gym', 42), ('would', 41), ('time', 39), ('run', 36)]\n",
            "\n",
            "Cluster 0 : [('shoe', 92), ('foot', 50), ('comfortable', 47), ('like', 29), ('time', 26), ('expect', 25), ('box', 25), ('one', 22), ('color', 21), ('day', 20)]\n",
            "\n",
            "Cluster 2 : [('shoe', 87), ('run', 40), ('foot', 37), (\"i'm\", 33), ('size', 29), ('get', 24), ('like', 23), ('wear', 20), ('make', 20), ('one', 20)]\n"
          ]
        }
      ]
    },
    {
      "cell_type": "code",
      "execution_count": null,
      "id": "38433267",
      "metadata": {
        "id": "38433267"
      },
      "outputs": [],
      "source": [
        "feature_names = tf_vectorizer.get_feature_names_out()\n",
        "topic_words = []\n",
        "for topic in lda.components_:\n",
        "    top_features_ind = topic.argsort()[: -10- 1 : -1]\n",
        "    topic_words.append([feature_names[i] for i in top_features_ind])"
      ]
    },
    {
      "cell_type": "code",
      "execution_count": null,
      "id": "f780a69b",
      "metadata": {
        "scrolled": true,
        "id": "f780a69b",
        "outputId": "b42f710f-5a29-4431-ac69-3d82dd3c12df",
        "colab": {
          "base_uri": "https://localhost:8080/"
        }
      },
      "outputs": [
        {
          "output_type": "stream",
          "name": "stdout",
          "text": [
            "Great product and price! \n",
            "\t overall: 0.66 neutral: 0.41, No Topic\n",
            "\n",
            "Great product and price! \n",
            "\t overall: 0.66 neutral: 0.41, No Topic\n",
            "\n",
            "Great product and price! \n",
            "\t overall: 0.66 neutral: 0.41, No Topic\n",
            "\n",
            "Great product and price! \n",
            "\t overall: 0.66 neutral: 0.41, No Topic\n",
            "\n",
            "Great product and price! \n",
            "\t overall: 0.66 neutral: 0.41, No Topic\n",
            "\n",
            "Waaay too small. \n",
            "\t overall: 0.00 neutral: 1.00, No Topic\n",
            "\n",
            "Will use for futur children! \n",
            "\t overall: 0.00 neutral: 1.00, No Topic\n",
            "\n",
            "Stays vibrant after many washes \n",
            "\t overall: 0.53 neutral: 0.54, No Topic\n",
            "\n",
            "Stays vibrant after many washes \n",
            "\t overall: 0.53 neutral: 0.54, No Topic\n",
            "\n",
            "My son really likes the pink. \n",
            "\t overall: 0.48 neutral: 0.62, No Topic\n",
            "\n",
            "Ones which I was nervous about \n",
            "\t overall: -0.27 neutral: 0.70, No Topic\n",
            "\n",
            "Waaay too small. \n",
            "\t overall: 0.00 neutral: 1.00, No Topic\n",
            "\n",
            "Will use for future child. \n",
            "\t overall: 0.00 neutral: 1.00, No Topic\n",
            "\n",
            "Relieved my Plantar Fascitis for 3 Days. \n",
            "\t overall: 0.38 neutral: 0.70, No Topic\n",
            "\n",
            "Then the unbearable pain returned in full force. \n",
            "\t overall: -0.51 neutral: 0.68, No Topic\n",
            "\n",
            "These were recommended by my Podiatrist. \n",
            "\t overall: 0.20 neutral: 0.73, No Topic\n",
            "\n",
            "This is my 6th pair and they are the best thing ever for my plantar fasciitis and resultant neuromas. \n",
            "\t overall: 0.64 neutral: 0.81, Topic 1: average, annoy, 2nd, tip, bad, kick, allow, surface, snug, plenty\n",
            "\n",
            "Unfortunately, the ones I ordered from SmartDestination must be seconds as they kill my feet. \n",
            "\t overall: -0.80 neutral: 0.65, No Topic\n",
            "\n",
            "The hard plastic insert rubs on the outside edges of my feet. \n",
            "\t overall: -0.10 neutral: 0.89, Topic 4: row, add, casual, trail, insert, initially, resistance, insole, blue, floor\n",
            "\n",
            "I am unable to exchange them as I waited one day too late to use them in my walking shoes. \n",
            "\t overall: 0.00 neutral: 1.00, No Topic\n",
            "\n"
          ]
        }
      ],
      "source": [
        "feature_names = tf_vectorizer.get_feature_names_out()\n",
        "topic_words = []\n",
        "for topic in lda.components_:\n",
        "    top_features_ind = topic.argsort()[: -10- 1 : -1]\n",
        "    topic_words.append([feature_names[i] for i in top_features_ind])\n",
        "from vaderSentiment.vaderSentiment import SentimentIntensityAnalyzer\n",
        "analyzer = SentimentIntensityAnalyzer()\n",
        "\n",
        "# TODO: for now compound (a composite score) will suffice. Neutrality (neu) might suggest highly informational content.\n",
        "#Had to change some of the sentence processing code so the sentences were't limited\n",
        "#in that code block. I limited the sentences here for endless print statment reasons\n",
        "for raw, processed in zip(raw_sentences[:20], processed_sentences[:20]):\n",
        "    vs = analyzer.polarity_scores(raw)\n",
        "    probs = lda.transform(tf_vectorizer.transform([processed]))[0]\n",
        "    topic = probs.argmax()\n",
        "    if probs[topic] < 0.2:\n",
        "        print(\"{} \\n\\t overall: {:.2f} neutral: {:.2f}, No Topic\\n\".format(raw, vs['compound'], vs['neu']))\n",
        "    else:\n",
        "        print(\"{} \\n\\t overall: {:.2f} neutral: {:.2f}, Topic {}: {}\\n\".format(raw, vs['compound'], vs['neu'], topic+1, \", \".join(topic_words[topic])))"
      ]
    },
    {
      "cell_type": "code",
      "execution_count": null,
      "id": "1db11f93",
      "metadata": {
        "id": "1db11f93",
        "outputId": "b4577fcb-2146-498f-f936-1eff27074068",
        "colab": {
          "base_uri": "https://localhost:8080/"
        }
      },
      "outputs": [
        {
          "output_type": "execute_result",
          "data": {
            "text/plain": [
              "['easy',\n",
              " 'gift',\n",
              " 'life',\n",
              " 'exact',\n",
              " 'opinion',\n",
              " 'movement',\n",
              " 'dark',\n",
              " 'photo',\n",
              " 'couple',\n",
              " 'job']"
            ]
          },
          "metadata": {},
          "execution_count": 97
        }
      ],
      "source": [
        "lda.transform(tf_vectorizer.transform([\"easy gift life\"])).argmax()\n",
        "topic_words[6]"
      ]
    }
  ],
  "metadata": {
    "colab": {
      "provenance": [],
      "toc_visible": true
    },
    "kernelspec": {
      "display_name": "Python 3 (ipykernel)",
      "language": "python",
      "name": "python3"
    },
    "language_info": {
      "codemirror_mode": {
        "name": "ipython",
        "version": 3
      },
      "file_extension": ".py",
      "mimetype": "text/x-python",
      "name": "python",
      "nbconvert_exporter": "python",
      "pygments_lexer": "ipython3",
      "version": "3.9.6"
    }
  },
  "nbformat": 4,
  "nbformat_minor": 5
}