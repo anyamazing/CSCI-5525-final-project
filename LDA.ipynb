{
  "cells": [
    {
      "cell_type": "code",
      "execution_count": 34,
      "id": "qJpglWsvbuYp",
      "metadata": {
        "colab": {
          "base_uri": "https://localhost:8080/"
        },
        "id": "qJpglWsvbuYp",
        "outputId": "c027d8dd-2329-4c76-9924-8aa8263806b4"
      },
      "outputs": [
        {
          "output_type": "stream",
          "name": "stdout",
          "text": [
            "Drive already mounted at /content/drive; to attempt to forcibly remount, call drive.mount(\"/content/drive\", force_remount=True).\n"
          ]
        }
      ],
      "source": [
        "from google.colab import drive\n",
        "drive.mount('/content/drive')"
      ]
    },
    {
      "cell_type": "code",
      "source": [
        "#install GSDMM/vaderSentiment\n",
        "!pip install git+https://github.com/rwalk/gsdmm.git\n",
        "!pip install vaderSentiment\n",
        "!pip install pyldavis"
      ],
      "metadata": {
        "id": "gAzH70ps2z7Q",
        "outputId": "4fd26037-6a9c-4b21-9fc7-4a60f74974f6",
        "colab": {
          "base_uri": "https://localhost:8080/"
        }
      },
      "id": "gAzH70ps2z7Q",
      "execution_count": 35,
      "outputs": [
        {
          "output_type": "stream",
          "name": "stdout",
          "text": [
            "Looking in indexes: https://pypi.org/simple, https://us-python.pkg.dev/colab-wheels/public/simple/\n",
            "Collecting git+https://github.com/rwalk/gsdmm.git\n",
            "  Cloning https://github.com/rwalk/gsdmm.git to /tmp/pip-req-build-o2c5221c\n",
            "  Running command git clone -q https://github.com/rwalk/gsdmm.git /tmp/pip-req-build-o2c5221c\n",
            "Requirement already satisfied: numpy in /usr/local/lib/python3.8/dist-packages (from gsdmm==0.1) (1.22.4)\n",
            "Looking in indexes: https://pypi.org/simple, https://us-python.pkg.dev/colab-wheels/public/simple/\n",
            "Requirement already satisfied: vaderSentiment in /usr/local/lib/python3.8/dist-packages (3.3.2)\n",
            "Requirement already satisfied: requests in /usr/local/lib/python3.8/dist-packages (from vaderSentiment) (2.23.0)\n",
            "Requirement already satisfied: chardet<4,>=3.0.2 in /usr/local/lib/python3.8/dist-packages (from requests->vaderSentiment) (3.0.4)\n",
            "Requirement already satisfied: idna<3,>=2.5 in /usr/local/lib/python3.8/dist-packages (from requests->vaderSentiment) (2.10)\n",
            "Requirement already satisfied: certifi>=2017.4.17 in /usr/local/lib/python3.8/dist-packages (from requests->vaderSentiment) (2022.9.24)\n",
            "Requirement already satisfied: urllib3!=1.25.0,!=1.25.1,<1.26,>=1.21.1 in /usr/local/lib/python3.8/dist-packages (from requests->vaderSentiment) (1.24.3)\n",
            "Looking in indexes: https://pypi.org/simple, https://us-python.pkg.dev/colab-wheels/public/simple/\n",
            "Requirement already satisfied: pyldavis in /usr/local/lib/python3.8/dist-packages (3.3.1)\n",
            "Requirement already satisfied: pandas>=1.2.0 in /usr/local/lib/python3.8/dist-packages (from pyldavis) (1.5.2)\n",
            "Requirement already satisfied: setuptools in /usr/local/lib/python3.8/dist-packages (from pyldavis) (57.4.0)\n",
            "Requirement already satisfied: numexpr in /usr/local/lib/python3.8/dist-packages (from pyldavis) (2.8.4)\n",
            "Requirement already satisfied: jinja2 in /usr/local/lib/python3.8/dist-packages (from pyldavis) (2.11.3)\n",
            "Requirement already satisfied: scikit-learn in /usr/local/lib/python3.8/dist-packages (from pyldavis) (1.0.2)\n",
            "Requirement already satisfied: scipy in /usr/local/lib/python3.8/dist-packages (from pyldavis) (1.7.3)\n",
            "Requirement already satisfied: joblib in /usr/local/lib/python3.8/dist-packages (from pyldavis) (1.2.0)\n",
            "Requirement already satisfied: funcy in /usr/local/lib/python3.8/dist-packages (from pyldavis) (1.17)\n",
            "Requirement already satisfied: numpy>=1.20.0 in /usr/local/lib/python3.8/dist-packages (from pyldavis) (1.22.4)\n",
            "Requirement already satisfied: sklearn in /usr/local/lib/python3.8/dist-packages (from pyldavis) (0.0.post1)\n",
            "Requirement already satisfied: gensim in /usr/local/lib/python3.8/dist-packages (from pyldavis) (3.6.0)\n",
            "Requirement already satisfied: future in /usr/local/lib/python3.8/dist-packages (from pyldavis) (0.16.0)\n",
            "Requirement already satisfied: python-dateutil>=2.8.1 in /usr/local/lib/python3.8/dist-packages (from pandas>=1.2.0->pyldavis) (2.8.2)\n",
            "Requirement already satisfied: pytz>=2020.1 in /usr/local/lib/python3.8/dist-packages (from pandas>=1.2.0->pyldavis) (2022.6)\n",
            "Requirement already satisfied: six>=1.5 in /usr/local/lib/python3.8/dist-packages (from python-dateutil>=2.8.1->pandas>=1.2.0->pyldavis) (1.15.0)\n",
            "Requirement already satisfied: smart-open>=1.2.1 in /usr/local/lib/python3.8/dist-packages (from gensim->pyldavis) (5.2.1)\n",
            "Requirement already satisfied: MarkupSafe>=0.23 in /usr/local/lib/python3.8/dist-packages (from jinja2->pyldavis) (2.0.1)\n",
            "Requirement already satisfied: threadpoolctl>=2.0.0 in /usr/local/lib/python3.8/dist-packages (from scikit-learn->pyldavis) (3.1.0)\n"
          ]
        }
      ]
    },
    {
      "cell_type": "code",
      "execution_count": 36,
      "id": "edfaf419",
      "metadata": {
        "colab": {
          "base_uri": "https://localhost:8080/"
        },
        "id": "edfaf419",
        "outputId": "6930fb3a-096a-421c-e28e-83bd992a8388"
      },
      "outputs": [
        {
          "output_type": "stream",
          "name": "stderr",
          "text": [
            "[nltk_data] Downloading package averaged_perceptron_tagger to\n",
            "[nltk_data]     /root/nltk_data...\n",
            "[nltk_data]   Package averaged_perceptron_tagger is already up-to-\n",
            "[nltk_data]       date!\n",
            "[nltk_data] Downloading package wordnet to /root/nltk_data...\n",
            "[nltk_data]   Package wordnet is already up-to-date!\n",
            "[nltk_data] Downloading package omw-1.4 to /root/nltk_data...\n",
            "[nltk_data]   Package omw-1.4 is already up-to-date!\n",
            "[nltk_data] Downloading package punkt to /root/nltk_data...\n",
            "[nltk_data]   Package punkt is already up-to-date!\n",
            "[nltk_data] Downloading package stopwords to /root/nltk_data...\n",
            "[nltk_data]   Package stopwords is already up-to-date!\n"
          ]
        }
      ],
      "source": [
        "import pandas as pd\n",
        "import numpy as np\n",
        "import nltk\n",
        "nltk.download('averaged_perceptron_tagger')\n",
        "nltk.download('wordnet')\n",
        "nltk.download('omw-1.4')\n",
        "nltk.download('punkt')\n",
        "nltk.download('stopwords')\n",
        "from nltk.corpus import wordnet, stopwords\n",
        "from nltk.stem import WordNetLemmatizer\n",
        "from gsdmm import MovieGroupProcess\n",
        "import re\n",
        "import pyLDAvis\n",
        "import pyLDAvis.sklearn\n",
        "pyLDAvis.enable_notebook()\n",
        "\n",
        "#filename = \"AMAZON_FASHION_5.json\"\n",
        "filename = \"/content/drive/MyDrive/Github/CSCI-5525-final-project/AMAZON_FASHION_5.json\"\n",
        "\n",
        "\n",
        "df = pd.read_json(path_or_buf=filename, lines=True)\n"
      ]
    },
    {
      "cell_type": "code",
      "execution_count": 37,
      "id": "b930eeb1",
      "metadata": {
        "id": "b930eeb1"
      },
      "outputs": [],
      "source": [
        "#df['asin'].value_counts()"
      ]
    },
    {
      "cell_type": "code",
      "execution_count": 38,
      "id": "5c03edde",
      "metadata": {
        "id": "5c03edde"
      },
      "outputs": [],
      "source": [
        "#list(df[df['asin'] == 'B009MA34NY']['reviewText'])"
      ]
    },
    {
      "cell_type": "code",
      "execution_count": 39,
      "id": "39f55f9f",
      "metadata": {
        "id": "39f55f9f"
      },
      "outputs": [],
      "source": [
        "import json\n",
        "\n",
        "#filename = \"/content/drive/MyDrive/Github/CSCI-5525-final-project/AMAZON_FASHION_5.json\"\n",
        "def load_reviews(filename):\n",
        "  with open(filename) as f:\n",
        "      reviews_json = f.readlines()\n",
        "\n",
        "  reviews = []\n",
        "  for review_json in reviews_json:\n",
        "      review = json.loads(review_json)\n",
        "      if \"overall\" in review and \"reviewText\" in review:\n",
        "          reviews.append(\n",
        "              {\n",
        "                  \"rating\": review[\"overall\"],\n",
        "                  \"title\": review[\"summary\"],\n",
        "                  \"text\": review[\"reviewText\"],\n",
        "              }\n",
        "          )\n",
        "  return reviews\n",
        "\n",
        "reviews = load_reviews(filename)\n",
        "#df = pd.DataFrame.from_dict(reviews)"
      ]
    },
    {
      "cell_type": "code",
      "execution_count": 40,
      "id": "007edf04",
      "metadata": {
        "id": "007edf04"
      },
      "outputs": [],
      "source": [
        "import matplotlib.pyplot as plt\n",
        "def plot_top_words(model, feature_names, n_top_words, title):\n",
        "    fig, axes = plt.subplots(2, 5, figsize=(30, 15), sharex=True)\n",
        "    axes = axes.flatten()\n",
        "    for topic_idx, topic in enumerate(model.components_):\n",
        "        top_features_ind = topic.argsort()[: -n_top_words - 1 : -1]\n",
        "        top_features = [feature_names[i] for i in top_features_ind]\n",
        "        weights = topic[top_features_ind]\n",
        "\n",
        "        ax = axes[topic_idx]\n",
        "        ax.barh(top_features, weights, height=0.7)\n",
        "        ax.set_title(f\"Topic {topic_idx +1}\", fontdict={\"fontsize\": 30})\n",
        "        ax.invert_yaxis()\n",
        "        ax.tick_params(axis=\"both\", which=\"major\", labelsize=20)\n",
        "        for i in \"top right left\".split():\n",
        "            ax.spines[i].set_visible(False)\n",
        "        fig.suptitle(title, fontsize=40)\n",
        "\n",
        "    plt.subplots_adjust(top=0.90, bottom=0.05, wspace=0.90, hspace=0.3)\n",
        "    plt.show()"
      ]
    },
    {
      "cell_type": "markdown",
      "id": "783b1772",
      "metadata": {
        "id": "783b1772"
      },
      "source": [
        "# NMF and LDA\n",
        "Adapted from [here](https://scikit-learn.org/stable/auto_examples/applications/plot_topics_extraction_with_nmf_lda.html), minimal original work.\n",
        "\n",
        "The topics are extracting nothing of note.\n",
        "\n",
        "Further steps:\n",
        "\n",
        "- find a product with enough reviews to be worth analyzing alone (might have to request the full dataset)\n",
        "- mess around with heuristics for vectorizing terms (reducing `max_df` probably but didn't manage to get different results)\n",
        "- eliminate boring reviews?"
      ]
    },
    {
      "cell_type": "code",
      "execution_count": 41,
      "id": "a79bbcdf",
      "metadata": {
        "id": "a79bbcdf"
      },
      "outputs": [],
      "source": [
        "from sklearn.feature_extraction.text import TfidfVectorizer, CountVectorizer\n",
        "#from sklearn.decomposition import NMF, MiniBatchNMF, LatentDirichletAllocation\n",
        "from sklearn.decomposition import LatentDirichletAllocation\n",
        "\n",
        "n_samples = 2000\n",
        "n_features = 1000\n",
        "n_components = 10\n",
        "n_top_words = 20\n",
        "batch_size = 128\n",
        "init = \"nndsvda\"\n",
        "\n",
        "product_id = 'B009MA34NY'\n",
        "if product_id:\n",
        "    data_samples = list(filter(lambda x: isinstance(x, str), df[df['asin'] == product_id]['reviewText']))\n",
        "else:\n",
        "    data_samples = list(map(lambda x: x['text'], reviews))[:n_samples]\n",
        "\n",
        "\n",
        "for s in data_samples:\n",
        "\n",
        "    if not isinstance(s,str):\n",
        "        print(s)"
      ]
    },
    {
      "cell_type": "code",
      "source": [
        "#preprocessing\n",
        "def lowercasing(data_samples):\n",
        "  for idx, sample in enumerate(data_samples):\n",
        "    data_samples[idx] = sample.lower()\n",
        "  return data_samples\n",
        "\n",
        "def punctuation_removal(data_samples):\n",
        "#non-exhaustive; not sure if we want to treat punctuation as significant\n",
        "#doesn't remove punctuation from inside words\n",
        "  for i, sample in enumerate(data_samples):\n",
        "    _sample = sample.split()\n",
        "    for j, word in enumerate(_sample):\n",
        "      _sample[j] = word.strip(\" .!?@#&():;,'\\/\\\\\")\n",
        "    sample = \" \".join(_sample)\n",
        "    data_samples[i] = sample\n",
        "  return data_samples\n",
        "\n",
        "def get_wordnet_pos(word):\n",
        "    \"\"\"Map POS tag to first character lemmatize() accepts\"\"\"\n",
        "    tag = nltk.pos_tag([word])[0][1]\n",
        "    if tag.startswith('J'):\n",
        "        return wordnet.ADJ\n",
        "    elif tag.startswith('V'):\n",
        "        return wordnet.VERB\n",
        "    elif tag.startswith('N'):\n",
        "        return wordnet.NOUN\n",
        "    elif tag.startswith('R'):\n",
        "        return wordnet.ADV\n",
        "    else:\n",
        "        return wordnet.NOUN\n",
        "\n",
        "def lemmatize(data_samples):\n",
        "  wnl = WordNetLemmatizer()\n",
        "  for i, sample in enumerate(data_samples):\n",
        "      _sample = sample.split()\n",
        "      for j, word in enumerate(_sample):\n",
        "        tag = get_wordnet_pos(word)\n",
        "        if (tag == 'r') or (tag == 'a') or (tag == 'v'):\n",
        "          _sample[j] = \"\"\n",
        "          idk = i\n",
        "        else:\n",
        "          _sample[j] = wnl.lemmatize(word,tag)\n",
        "      data_samples[i] = ' '.join(_sample)\n",
        "      data_samples[i] = re.sub(' +', ' ', data_samples[i])\n",
        "\n",
        "  return data_samples\n",
        "\n",
        "data_samples = lowercasing(data_samples)\n",
        "data_samples = punctuation_removal(data_samples)\n",
        "data_samples = lemmatize(data_samples)"
      ],
      "metadata": {
        "id": "oytRfXUSHxWI",
        "outputId": "99805606-1976-4afe-98cf-d0c4e8c760b3",
        "colab": {
          "base_uri": "https://localhost:8080/"
        }
      },
      "id": "oytRfXUSHxWI",
      "execution_count": 42,
      "outputs": [
        {
          "output_type": "stream",
          "name": "stderr",
          "text": [
            "<>:13: DeprecationWarning: invalid escape sequence \\/\n",
            "<>:13: DeprecationWarning: invalid escape sequence \\/\n",
            "<ipython-input-42-100c66023a45>:13: DeprecationWarning: invalid escape sequence \\/\n",
            "  _sample[j] = word.strip(\" .!?@#&():;,'\\/\\\\\")\n"
          ]
        }
      ]
    },
    {
      "cell_type": "code",
      "source": [
        "#LDA bigrams\n",
        "#Original code by Nicha Ruchirawat\n",
        "#https://nicharuc.github.io/topic_modeling/\n",
        "\n",
        "stop_word_list = set(nltk.corpus.stopwords.words('english'))\n",
        "ds = pd.DataFrame(data_samples)\n",
        "ds.columns = ['review']\n",
        "\n",
        "bigram_measures = nltk.collocations.BigramAssocMeasures()\n",
        "finder = nltk.collocations.BigramCollocationFinder.from_documents([r.split() for r in ds.review])\n",
        "# Filter only those that occur at least x times\n",
        "finder.apply_freq_filter(10)\n",
        "bigram_scores = finder.score_ngrams(bigram_measures.pmi)"
      ],
      "metadata": {
        "id": "I_S2IQj7FKKu"
      },
      "id": "I_S2IQj7FKKu",
      "execution_count": 43,
      "outputs": []
    },
    {
      "cell_type": "code",
      "source": [
        "trigram_measures = nltk.collocations.TrigramAssocMeasures()\n",
        "finder = nltk.collocations.TrigramCollocationFinder.from_documents([r.split() for r in ds.review])\n",
        "# Filter only those that occur at least x times\n",
        "finder.apply_freq_filter(2)\n",
        "trigram_scores = finder.score_ngrams(trigram_measures.pmi)"
      ],
      "metadata": {
        "id": "LfoPlce3Manu"
      },
      "id": "LfoPlce3Manu",
      "execution_count": 44,
      "outputs": []
    },
    {
      "cell_type": "code",
      "source": [
        "bigram_pmi = pd.DataFrame(bigram_scores)\n",
        "bigram_pmi.columns = ['bigram', 'pmi']\n",
        "bigram_pmi.sort_values(by='pmi', axis = 0, ascending = False, inplace = True)"
      ],
      "metadata": {
        "id": "KJ8oGvqxImDN"
      },
      "id": "KJ8oGvqxImDN",
      "execution_count": 45,
      "outputs": []
    },
    {
      "cell_type": "code",
      "source": [
        "trigram_pmi = pd.DataFrame(trigram_scores)\n",
        "trigram_pmi.columns = ['trigram', 'pmi']\n",
        "trigram_pmi.sort_values(by='pmi', axis = 0, ascending = False, inplace = True)"
      ],
      "metadata": {
        "id": "a5e0QcdKMrKF"
      },
      "id": "a5e0QcdKMrKF",
      "execution_count": 46,
      "outputs": []
    },
    {
      "cell_type": "code",
      "source": [
        "# Filter for bigrams with only noun-type structures\n",
        "def bigram_filter(bigram):\n",
        "    tag = nltk.pos_tag(bigram)\n",
        "    if tag[0][1] not in ['JJ', 'NN'] and tag[1][1] not in ['NN']:\n",
        "        return False\n",
        "    if bigram[0] in stop_word_list or bigram[1] in stop_word_list:\n",
        "        return False\n",
        "    if 'n' in bigram or 't' in bigram:\n",
        "        return False\n",
        "    return True"
      ],
      "metadata": {
        "id": "WqrsM6PNKOMq"
      },
      "id": "WqrsM6PNKOMq",
      "execution_count": 47,
      "outputs": []
    },
    {
      "cell_type": "code",
      "source": [
        "# Filter for trigrams with only noun-type structures\n",
        "def trigram_filter(trigram):\n",
        "    tag = nltk.pos_tag(trigram)\n",
        "    if tag[0][1] not in ['JJ', 'NN'] and tag[1][1] not in ['JJ','NN']:\n",
        "        return False\n",
        "    if trigram[0] in stop_word_list or trigram[-1] in stop_word_list or trigram[1] in stop_word_list:\n",
        "        return False\n",
        "    if 'n' in trigram or 't' in trigram:\n",
        "         return False\n",
        "    return True "
      ],
      "metadata": {
        "id": "RBkj5G96M0iC"
      },
      "id": "RBkj5G96M0iC",
      "execution_count": 48,
      "outputs": []
    },
    {
      "cell_type": "code",
      "source": [
        "# Can set pmi threshold to whatever makes sense - eyeball through and select threshold where n-grams stop making sense\n",
        "# choose top 500 ngrams in this case ranked by PMI that have noun like structures\n",
        "filtered_bigram = bigram_pmi[bigram_pmi.apply(lambda bigram: bigram_filter(bigram['bigram']) and bigram.pmi > 3, axis = 1)][:500]\n",
        "\n",
        "filtered_trigram = trigram_pmi[trigram_pmi.apply(lambda trigram: trigram_filter(trigram['trigram']) and trigram.pmi > 17, axis = 1)][:500]\n",
        "\n",
        "\n",
        "bigrams = [' '.join(x) for x in filtered_bigram.bigram.values if len(x[0]) > 2 or len(x[1]) > 2]\n",
        "trigrams = [' '.join(x) for x in filtered_trigram.trigram.values if len(x[0]) > 2 or len(x[1]) > 2 and len(x[2]) > 2]"
      ],
      "metadata": {
        "id": "PGtK1LL-KfMn"
      },
      "id": "PGtK1LL-KfMn",
      "execution_count": 49,
      "outputs": []
    },
    {
      "cell_type": "code",
      "source": [
        "# examples of bigrams\n",
        "bigrams[:10]"
      ],
      "metadata": {
        "id": "hi0b0z6lKjz9",
        "outputId": "2b25d14a-0b18-4f91-8275-e377ce565129",
        "colab": {
          "base_uri": "https://localhost:8080/"
        }
      },
      "id": "hi0b0z6lKjz9",
      "execution_count": 50,
      "outputs": [
        {
          "output_type": "execute_result",
          "data": {
            "text/plain": [
              "['light weight', 'arch support', 'feel like', 'fit perfect']"
            ]
          },
          "metadata": {},
          "execution_count": 50
        }
      ]
    },
    {
      "cell_type": "code",
      "source": [
        "# examples of trigrams\n",
        "trigrams[:10]"
      ],
      "metadata": {
        "id": "DD5emZJ2ND0E",
        "outputId": "f516bf4b-dc21-44fa-e408-e8b816c077cb",
        "colab": {
          "base_uri": "https://localhost:8080/"
        }
      },
      "id": "DD5emZJ2ND0E",
      "execution_count": 51,
      "outputs": [
        {
          "output_type": "execute_result",
          "data": {
            "text/plain": [
              "['supreme tr 3',\n",
              " \"women's flex supreme\",\n",
              " 'flex supreme tr',\n",
              " 'cardio dance class']"
            ]
          },
          "metadata": {},
          "execution_count": 51
        }
      ]
    },
    {
      "cell_type": "code",
      "source": [
        "# Concatenate n-grams\n",
        "def replace_ngram(x):\n",
        "    for gram in trigrams:\n",
        "        x = x.replace(gram, '_'.join(gram.split()))\n",
        "    for gram in bigrams:\n",
        "        x = x.replace(gram, '_'.join(gram.split()))\n",
        "    return x"
      ],
      "metadata": {
        "id": "L1ZWyuw4OVUU"
      },
      "id": "L1ZWyuw4OVUU",
      "execution_count": 52,
      "outputs": []
    },
    {
      "cell_type": "code",
      "source": [
        "reviews_w_ngrams = ds.copy()"
      ],
      "metadata": {
        "id": "E6Cln0AKOZCN"
      },
      "id": "E6Cln0AKOZCN",
      "execution_count": 53,
      "outputs": []
    },
    {
      "cell_type": "code",
      "source": [
        "reviews_w_ngrams.review = reviews_w_ngrams.review.map(lambda x: replace_ngram(x))"
      ],
      "metadata": {
        "id": "kg_Wy35KO8RT"
      },
      "id": "kg_Wy35KO8RT",
      "execution_count": 54,
      "outputs": []
    },
    {
      "cell_type": "code",
      "source": [
        "_data_samples = reviews_w_ngrams.values.tolist()\n",
        "data_samples = [item for sublist in _data_samples for item in sublist]"
      ],
      "metadata": {
        "id": "eG_oWJjfPC8S"
      },
      "id": "eG_oWJjfPC8S",
      "execution_count": 55,
      "outputs": []
    },
    {
      "cell_type": "code",
      "execution_count": 56,
      "id": "6e095478",
      "metadata": {
        "id": "6e095478"
      },
      "outputs": [],
      "source": [
        "#len(data_samples)"
      ]
    },
    {
      "cell_type": "code",
      "execution_count": 57,
      "id": "91e578a6",
      "metadata": {
        "id": "91e578a6"
      },
      "outputs": [],
      "source": [
        "#print(len(tfidf_vectorizer.stop_words_))\n",
        "#tfidf_vectorizer.stop_words_"
      ]
    },
    {
      "cell_type": "code",
      "execution_count": 58,
      "id": "297ad3a5",
      "metadata": {
        "id": "297ad3a5"
      },
      "outputs": [],
      "source": [
        "#tfidf_vectorizer.get_stop_words()"
      ]
    },
    {
      "cell_type": "code",
      "execution_count": 59,
      "id": "b327af90",
      "metadata": {
        "id": "b327af90",
        "outputId": "54eaade5-96fc-45c8-aa2b-3e6683b46630",
        "colab": {
          "base_uri": "https://localhost:8080/"
        }
      },
      "outputs": [
        {
          "output_type": "stream",
          "name": "stdout",
          "text": [
            "Extracting tf features for LDA...\n"
          ]
        },
        {
          "output_type": "execute_result",
          "data": {
            "text/plain": [
              "{'000',\n",
              " '10',\n",
              " '100',\n",
              " '12',\n",
              " '15',\n",
              " '169lbs',\n",
              " '1st',\n",
              " '20',\n",
              " '24',\n",
              " '25',\n",
              " '30',\n",
              " '3rd',\n",
              " '3x',\n",
              " '40',\n",
              " '50',\n",
              " 'abd',\n",
              " 'abit',\n",
              " 'absorption',\n",
              " 'accommodate',\n",
              " 'achilles',\n",
              " 'activity',\n",
              " 'adjust',\n",
              " 'adjustment',\n",
              " 'advice',\n",
              " 'aerobic',\n",
              " 'afford',\n",
              " 'afraid',\n",
              " 'aide',\n",
              " 'airport',\n",
              " 'airy',\n",
              " 'allows',\n",
              " 'amazing',\n",
              " 'amazon',\n",
              " 'ankle',\n",
              " 'arch',\n",
              " 'arch_support',\n",
              " 'area',\n",
              " 'arose',\n",
              " 'artculo',\n",
              " 'asics',\n",
              " 'attention',\n",
              " 'awesome',\n",
              " 'az',\n",
              " 'bag',\n",
              " 'bailing',\n",
              " 'band',\n",
              " 'bandage',\n",
              " 'barefeet',\n",
              " 'barefoot',\n",
              " 'base',\n",
              " 'beach',\n",
              " 'beat',\n",
              " 'bed',\n",
              " 'bend',\n",
              " 'bit',\n",
              " 'blister',\n",
              " 'blood',\n",
              " 'bluff',\n",
              " 'boot',\n",
              " 'bootcamps',\n",
              " 'bother',\n",
              " 'bought',\n",
              " 'box',\n",
              " 'boxier',\n",
              " 'brand',\n",
              " 'breath',\n",
              " 'breathe',\n",
              " 'breathes',\n",
              " 'bright',\n",
              " 'broader',\n",
              " 'btw',\n",
              " 'build',\n",
              " 'bulk',\n",
              " 'bunion',\n",
              " 'business',\n",
              " 'cable',\n",
              " 'calf',\n",
              " 'cam',\n",
              " 'card',\n",
              " 'cardio',\n",
              " 'care',\n",
              " 'careful',\n",
              " 'carpet',\n",
              " 'change',\n",
              " 'cheap',\n",
              " 'check',\n",
              " 'christmas',\n",
              " 'circulation',\n",
              " 'cl',\n",
              " 'class',\n",
              " 'cleaning',\n",
              " 'client',\n",
              " 'clorox',\n",
              " 'closer',\n",
              " 'closet',\n",
              " 'clothes',\n",
              " 'coach',\n",
              " 'color',\n",
              " 'colors',\n",
              " 'colour',\n",
              " 'comfort',\n",
              " 'comfy',\n",
              " 'compare',\n",
              " 'complains',\n",
              " 'complaint',\n",
              " 'compress',\n",
              " 'condition',\n",
              " 'consideration',\n",
              " 'consistent',\n",
              " 'contact',\n",
              " 'correct',\n",
              " 'cost',\n",
              " 'course',\n",
              " 'court',\n",
              " 'cramped',\n",
              " 'crimson',\n",
              " 'cross',\n",
              " 'crosstrainers',\n",
              " 'cushion',\n",
              " 'customer',\n",
              " 'cut',\n",
              " 'cute',\n",
              " 'damage',\n",
              " 'dance',\n",
              " 'daughter',\n",
              " 'day',\n",
              " 'depends',\n",
              " 'depict',\n",
              " 'developed',\n",
              " 'did',\n",
              " 'didnt',\n",
              " 'difficulty',\n",
              " 'dirty',\n",
              " 'disappear',\n",
              " 'discolor',\n",
              " 'discontinues',\n",
              " 'disney',\n",
              " 'doesn',\n",
              " 'don',\n",
              " 'downshifter',\n",
              " 'drag',\n",
              " 'dream',\n",
              " 'dress',\n",
              " 'dressy',\n",
              " 'dsw',\n",
              " 'em',\n",
              " 'en',\n",
              " 'endurance',\n",
              " 'enjoy',\n",
              " 'environment',\n",
              " 'equivocado',\n",
              " 'europe',\n",
              " 'everyday',\n",
              " 'excellent',\n",
              " 'exception',\n",
              " 'exercise',\n",
              " 'experience',\n",
              " 'fall',\n",
              " 'fashion',\n",
              " 'faulty',\n",
              " 'favorite',\n",
              " 'feel',\n",
              " 'feel_like',\n",
              " 'fight',\n",
              " 'fine',\n",
              " 'finger',\n",
              " 'firmer',\n",
              " 'fit',\n",
              " 'fit_perfect',\n",
              " 'fits',\n",
              " 'fix',\n",
              " 'flex',\n",
              " 'flexibility',\n",
              " 'flimsy',\n",
              " 'fly',\n",
              " 'foam',\n",
              " 'fog',\n",
              " 'foot',\n",
              " 'footbed',\n",
              " 'footwear',\n",
              " 'footwork',\n",
              " 'forget',\n",
              " 'frame',\n",
              " 'friend',\n",
              " 'fun',\n",
              " 'girlfriend',\n",
              " 'glad',\n",
              " 'glove',\n",
              " 'good',\n",
              " 'gracias',\n",
              " 'gray',\n",
              " 'green',\n",
              " 'grey',\n",
              " 'grip',\n",
              " 'grit',\n",
              " 'grommet',\n",
              " 'ground',\n",
              " 'group',\n",
              " 'gry',\n",
              " 'gump',\n",
              " 'gym',\n",
              " 'half',\n",
              " 'happens',\n",
              " 'happier',\n",
              " 'hate',\n",
              " 'haven',\n",
              " 'heel',\n",
              " 'hike',\n",
              " 'hitt',\n",
              " 'home',\n",
              " 'hop',\n",
              " 'hour',\n",
              " 'hue',\n",
              " 'hug',\n",
              " 'hunt',\n",
              " 'hurt',\n",
              " 'ideal',\n",
              " 'im',\n",
              " 'image',\n",
              " 'impression',\n",
              " 'inside',\n",
              " 'instruction',\n",
              " 'issue',\n",
              " 'item',\n",
              " 'iteration',\n",
              " 'jam',\n",
              " 'jammed',\n",
              " 'jean',\n",
              " 'jog',\n",
              " 'jogging',\n",
              " 'joint',\n",
              " 'jumping',\n",
              " 'kept',\n",
              " 'kind',\n",
              " 'knee',\n",
              " 'knock',\n",
              " 'layer',\n",
              " 'left',\n",
              " 'leg',\n",
              " 'length',\n",
              " 'level',\n",
              " 'lift',\n",
              " 'light',\n",
              " 'light_weight',\n",
              " 'lighter',\n",
              " 'lightweight',\n",
              " 'like',\n",
              " 'll',\n",
              " 'long',\n",
              " 'longer',\n",
              " 'look',\n",
              " 'loosens',\n",
              " 'looser',\n",
              " 'lot',\n",
              " 'love',\n",
              " 'loved',\n",
              " 'luv',\n",
              " 'ma',\n",
              " 'machine',\n",
              " 'man',\n",
              " 'marathon',\n",
              " 'massage',\n",
              " 'material',\n",
              " 'matter',\n",
              " 'meant',\n",
              " 'medium',\n",
              " 'meh',\n",
              " 'mic',\n",
              " 'mid',\n",
              " 'middle',\n",
              " 'mile',\n",
              " 'mind',\n",
              " 'minute',\n",
              " 'mizuno',\n",
              " 'moderate',\n",
              " 'month',\n",
              " 'motivation',\n",
              " 'movrment',\n",
              " 'mtllc',\n",
              " 'mud',\n",
              " 'muscle',\n",
              " 'narrow',\n",
              " 'ne',\n",
              " 'need',\n",
              " 'neoprene',\n",
              " 'nicer',\n",
              " 'nike',\n",
              " 'noise',\n",
              " 'nub',\n",
              " 'numb',\n",
              " 'nyc',\n",
              " 'occasion',\n",
              " 'offer',\n",
              " 'office',\n",
              " 'oh',\n",
              " 'ohio',\n",
              " 'omaha',\n",
              " 'online',\n",
              " 'oops',\n",
              " 'opposite',\n",
              " 'option',\n",
              " 'orange',\n",
              " 'order',\n",
              " 'outdoor',\n",
              " 'outdoors',\n",
              " 'outfit',\n",
              " 'package',\n",
              " 'pain',\n",
              " 'pair',\n",
              " 'pairs',\n",
              " 'paperwork',\n",
              " 'past',\n",
              " 'pattern',\n",
              " 'pay',\n",
              " 'perf',\n",
              " 'perfect',\n",
              " 'perfict',\n",
              " 'performance',\n",
              " 'period',\n",
              " 'person',\n",
              " 'perspiration',\n",
              " 'phoenix',\n",
              " 'pic',\n",
              " 'picture',\n",
              " 'pinch',\n",
              " 'pink',\n",
              " 'pinker',\n",
              " 'pinkie',\n",
              " 'pinky',\n",
              " 'place',\n",
              " 'plank',\n",
              " 'pnk',\n",
              " 'point',\n",
              " 'pointier',\n",
              " 'portion',\n",
              " 'pregnant',\n",
              " 'pressing',\n",
              " 'pressure',\n",
              " 'price',\n",
              " 'problem',\n",
              " 'product',\n",
              " 'profile',\n",
              " 'pronation',\n",
              " 'provide',\n",
              " 'puma',\n",
              " 'purchase',\n",
              " 'purpose',\n",
              " 'pw',\n",
              " 'quality',\n",
              " 'read',\n",
              " 'reading',\n",
              " 'reason',\n",
              " 'reccomend',\n",
              " 'recess',\n",
              " 'recommend',\n",
              " 'refund',\n",
              " 'relay',\n",
              " 'reluctant',\n",
              " 'remedy',\n",
              " 'report',\n",
              " 'requirement',\n",
              " 'research',\n",
              " 'rest',\n",
              " 'restrict',\n",
              " 'result',\n",
              " 'return',\n",
              " 'review',\n",
              " 'reviewer',\n",
              " 'right',\n",
              " 'ripped',\n",
              " 'road',\n",
              " 'rock',\n",
              " 'room',\n",
              " 'roomy',\n",
              " 'rotate',\n",
              " 'rough',\n",
              " 'round',\n",
              " 'rounder',\n",
              " 'rubber',\n",
              " 'run',\n",
              " 'runner',\n",
              " 'running',\n",
              " 'ryka',\n",
              " 's_flex_supreme',\n",
              " 's_flex_supreme_tr_3',\n",
              " 'sale',\n",
              " 'sandal',\n",
              " 'saw',\n",
              " 'sciatica',\n",
              " 'section',\n",
              " 'secure',\n",
              " 'seller',\n",
              " 'serf',\n",
              " 'series',\n",
              " 'session',\n",
              " 'seven',\n",
              " 'shape',\n",
              " 'shift',\n",
              " 'shin',\n",
              " 'shoe',\n",
              " 'shoelace',\n",
              " 'shoes',\n",
              " 'shopping',\n",
              " 'shot',\n",
              " 'shoxs',\n",
              " 'shrinkage',\n",
              " 'situation',\n",
              " 'size',\n",
              " 'skin',\n",
              " 'sled',\n",
              " 'sleek',\n",
              " 'sleeve',\n",
              " 'slide',\n",
              " 'slvr',\n",
              " 'small',\n",
              " 'smaller',\n",
              " 'smooth',\n",
              " 'sneaker',\n",
              " 'sock',\n",
              " 'sol',\n",
              " 'sole',\n",
              " 'son',\n",
              " 'sooooo',\n",
              " 'sore',\n",
              " 'sorry',\n",
              " 'space',\n",
              " 'spent',\n",
              " 'splint',\n",
              " 'sporty',\n",
              " 'spread',\n",
              " 'sprint',\n",
              " 'sprinter',\n",
              " 'square',\n",
              " 'squeak',\n",
              " 'stability',\n",
              " 'stain',\n",
              " 'stairmaster',\n",
              " 'state',\n",
              " 'stats',\n",
              " 'stay',\n",
              " 'step',\n",
              " 'stick',\n",
              " 'sticky',\n",
              " 'stock',\n",
              " 'stop',\n",
              " 'store',\n",
              " 'strength',\n",
              " 'stride',\n",
              " 'string',\n",
              " 'sturdy',\n",
              " 'style',\n",
              " 'suffer',\n",
              " 'suggest',\n",
              " 'super',\n",
              " 'supnation',\n",
              " 'support',\n",
              " 'suppose',\n",
              " 'supreme_tr_3',\n",
              " 'sure',\n",
              " 'surgery',\n",
              " 'swap',\n",
              " 'sweaty',\n",
              " 'tad',\n",
              " 'teenage',\n",
              " 'tennis',\n",
              " 'thanks',\n",
              " 'therapist',\n",
              " 'thickness',\n",
              " 'think',\n",
              " 'thought',\n",
              " 'thy',\n",
              " 'tight',\n",
              " 'tighten',\n",
              " 'tighter',\n",
              " 'time',\n",
              " 'toe',\n",
              " 'ton',\n",
              " 'tongue',\n",
              " 'touch',\n",
              " 'town',\n",
              " 'tr',\n",
              " 'tr3',\n",
              " 'track',\n",
              " 'trainer',\n",
              " 'training',\n",
              " 'tranasaction',\n",
              " 'treadmill',\n",
              " 'tredmill',\n",
              " 'trial',\n",
              " 'trip',\n",
              " 'try',\n",
              " 'twinge',\n",
              " 'ugh',\n",
              " 'understand',\n",
              " 'unless',\n",
              " 'update',\n",
              " 'use',\n",
              " 'vacation',\n",
              " 've',\n",
              " 'ventilation',\n",
              " 'verge',\n",
              " 'versatile',\n",
              " 'vffs',\n",
              " 'vibram',\n",
              " 'vibrant',\n",
              " 'video',\n",
              " 'walk',\n",
              " 'walking',\n",
              " 'wall',\n",
              " 'walt',\n",
              " 'want',\n",
              " 'ware',\n",
              " 'warehouse',\n",
              " 'way',\n",
              " 'wear',\n",
              " 'week',\n",
              " 'weight',\n",
              " 'weightless',\n",
              " 'weren',\n",
              " 'wider',\n",
              " 'wife',\n",
              " 'wiggle',\n",
              " 'window',\n",
              " 'wipe',\n",
              " 'wish',\n",
              " 'woman',\n",
              " 'wore',\n",
              " 'work',\n",
              " 'workout',\n",
              " 'world',\n",
              " 'worn',\n",
              " 'wow',\n",
              " 'wrap',\n",
              " 'yeah',\n",
              " 'year',\n",
              " 'years',\n",
              " 'yellow',\n",
              " 'yellowish',\n",
              " 'yoga',\n",
              " 'zero',\n",
              " 'zing',\n",
              " 'zumba'}"
            ]
          },
          "metadata": {},
          "execution_count": 59
        }
      ],
      "source": [
        "# Use tf (raw term count) features for LDA.\n",
        "print(\"Extracting tf features for LDA...\")\n",
        "tf_vectorizer = CountVectorizer(\n",
        "    max_df=0.01, min_df=2, max_features=n_features, stop_words=\"english\"\n",
        ")\n",
        "tf = tf_vectorizer.fit_transform(data_samples)\n",
        "tf_vectorizer.stop_words_"
      ]
    },
    {
      "cell_type": "code",
      "execution_count": 60,
      "id": "d3bb9280",
      "metadata": {
        "id": "d3bb9280",
        "scrolled": false,
        "outputId": "7510e0a9-a187-406a-eb70-a61663debaed",
        "colab": {
          "base_uri": "https://localhost:8080/",
          "height": 738
        }
      },
      "outputs": [
        {
          "output_type": "stream",
          "name": "stdout",
          "text": [
            "Fitting LDA models with tf features, n_samples=2000 and n_features=1000...\n"
          ]
        },
        {
          "output_type": "display_data",
          "data": {
            "text/plain": [
              "<Figure size 2160x1080 with 10 Axes>"
            ],
            "image/png": "[encoded data removed]"
          },
          "metadata": {
            "needs_background": "light"
          }
        }
      ],
      "source": [
        "print(\n",
        "    \"Fitting LDA models with tf features, n_samples=%d and n_features=%d...\"\n",
        "    % (n_samples, n_features),\n",
        ")\n",
        "lda = LatentDirichletAllocation(\n",
        "    n_components=n_components,\n",
        "    max_iter=5,\n",
        "    learning_method=\"online\",\n",
        "    learning_offset=50.0,\n",
        "    random_state=0,\n",
        ")\n",
        "lda.fit(tf)\n",
        "\n",
        "tf_feature_names = tf_vectorizer.get_feature_names_out()\n",
        "plot_top_words(lda, tf_feature_names, n_top_words, \"Topics in LDA model\")"
      ]
    },
    {
      "cell_type": "code",
      "source": [
        "topic_data = pyLDAvis.sklearn.prepare(lda, tf, tf_vectorizer)\n",
        "pyLDAvis.display(topic_data)"
      ],
      "metadata": {
        "id": "xqL9orUHuinl",
        "outputId": "debebceb-ca7e-4bdf-efbd-885b4dbe5fb1",
        "colab": {
          "base_uri": "https://localhost:8080/",
          "height": 951
        }
      },
      "id": "xqL9orUHuinl",
      "execution_count": 61,
      "outputs": [
        {
          "output_type": "stream",
          "name": "stderr",
          "text": [
            "/usr/local/lib/python3.8/dist-packages/sklearn/utils/deprecation.py:87: FutureWarning: Function get_feature_names is deprecated; get_feature_names is deprecated in 1.0 and will be removed in 1.2. Please use get_feature_names_out instead.\n",
            "  warnings.warn(msg, category=FutureWarning)\n",
            "/usr/local/lib/python3.8/dist-packages/pyLDAvis/_prepare.py:246: FutureWarning: In a future version of pandas all arguments of DataFrame.drop except for the argument 'labels' will be keyword-only.\n",
            "  default_term_info = default_term_info.sort_values(\n"
          ]
        },
        {
          "output_type": "execute_result",
          "data": {
            "text/plain": [
              "<IPython.core.display.HTML object>"
            ],
            "text/html": [
              "\n",
              "<link rel=\"stylesheet\" type=\"text/css\" href=\"https://cdn.jsdelivr.net/gh/bmabey/pyLDAvis@3.3.1/pyLDAvis/js/ldavis.v1.0.0.css\">\n",
              "\n",
              "\n",
              "<div id=\"ldavis_el30171402806179409128721155865\"></div>\n",
              "<script type=\"text/javascript\">\n",
              "\n",
              "var ldavis_el30171402806179409128721155865_data = {\"mdsDat\": {\"x\": [0.04828696671244606, -0.01963681871265323, -0.0025192739702454194, -0.014819549425252281, -0.013966350344362576, 0.00293590196186891, -0.013223999649787387, 0.0073234564467347515, 0.0010717603446205781, 0.00454790663663059], \"y\": [-0.00726231730387359, -0.04116908892405902, 0.02822737309711677, 0.019058321805996682, 0.0009007341532783494, 0.0031583533661198883, 0.005898047841168995, -0.00221593228101922, -0.006708770059117923, 0.00011327830438914636], \"topics\": [1, 2, 3, 4, 5, 6, 7, 8, 9, 10], \"cluster\": [1, 1, 1, 1, 1, 1, 1, 1, 1, 1], \"Freq\": [14.416408340092405, 13.104568693664381, 13.00476790612568, 12.672242529078181, 8.47398477859079, 8.439979169722019, 8.158197284546057, 7.636892880344337, 7.530597352676831, 6.56236106515932]}, \"tinfo\": {\"Term\": [\"clean\", \"plus\", \"insole\", \"snug\", \"plenty\", \"credit\", \"fast\", \"camp\", \"shipping\", \"absolute\", \"outside\", \"excelente\", \"exact\", \"stylish\", \"end\", \"insert\", \"quick\", \"service\", \"mesh\", \"pant\", \"tends\", \"picky\", \"spot\", \"traction\", \"dirt\", \"beautiful\", \"wire\", \"floor\", \"aerobics\", \"kick\", \"supportive\", \"bulky\", \"lunge\", \"fan\", \"hip\", \"straight\", \"routine\", \"lol\", \"ball\", \"fitting\", \"row\", \"okay\", \"movement\", \"today\", \"neon\", \"sketcher\", \"broken\", \"choice\", \"slippery\", \"thing\", \"star\", \"tread\", \"indoor\", \"wasn\", \"number\", \"purchasing\", \"impact\", \"resistance\", \"fast\", \"couple\", \"quick\", \"people\", \"felt\", \"edge\", \"hiit\", \"compliment\", \"crossfit\", \"job\", \"balance\", \"ups\", \"money\", \"opinion\", \"gift\", \"buying\", \"people\", \"turn\", \"preference\", \"fact\", \"concrete\", \"ache\", \"surface\", \"supreme\", \"cloud\", \"multiple\", \"life\", \"wonderful\", \"knew\", \"gotten\", \"blue\", \"slip\", \"push\", \"sketcher\", \"indoor\", \"broken\", \"felt\", \"couple\", \"orthotics\", \"help\", \"number\", \"insole\", \"night\", \"trail\", \"weird\", \"line\", \"slipper\", \"cool\", \"help\", \"heal\", \"hope\", \"proper\", \"ok\", \"built\", \"tip\", \"tie\", \"swell\", \"continue\", \"star\", \"generation\", \"stylish\", \"impact\", \"hold\", \"concrete\", \"lace\", \"start\", \"body\", \"isn\", \"minimalist\", \"gift\", \"edge\", \"hip\", \"width\", \"dark\", \"sport\", \"circuit\", \"tell\", \"odd\", \"distance\", \"inch\", \"photo\", \"wouldn\", \"edge\", \"lack\", \"white\", \"didn\", \"design\", \"blue\", \"mesh\", \"multiple\", \"accurate\", \"tread\", \"paper\", \"wasn\", \"summer\", \"gotten\", \"ran\", \"description\", \"lace\", \"decent\", \"proper\", \"couldn\", \"isn\", \"snug\", \"appropriate\", \"wire\", \"kick\", \"won\", \"start\", \"cardio_dance_class\", \"thinner\", \"slip\", \"generation\", \"women\", \"sufficient\", \"ache\", \"held\", \"paper\", \"buying\", \"tie\", \"design\", \"ok\", \"orthotics\", \"minimalist\", \"swell\", \"accurate\", \"2nd\", \"hadn\", \"line\", \"choice\", \"lack\", \"cushiony\", \"beautiful\", \"body\", \"inch\", \"sport\", \"plus\", \"traction\", \"picky\", \"beautiful\", \"discomfort\", \"stretch\", \"insert\", \"ran\", \"continue\", \"plenty\", \"resistance\", \"sufficient\", \"camp\", \"choice\", \"preference\", \"lack\", \"hope\", \"purchasing\", \"built\", \"row\", \"thinner\", \"tread\", \"cloud\", \"won\", \"appropriate\", \"supreme\", \"tends\", \"generation\", \"women\", \"outside\", \"design\", \"money\", \"bulky\", \"people\", \"trail\", \"number\", \"end\", \"tends\", \"hadn\", \"mesh\", \"description\", \"dirt\", \"minimalist\", \"didn\", \"cloud\", \"women\", \"white\", \"accurate\", \"push\", \"fact\", \"orthotics\", \"lace\", \"swell\", \"wouldn\", \"photo\", \"cool\", \"picky\", \"snug\", \"today\", \"credit\", \"held\", \"excelente\", \"outside\", \"isn\", \"service\", \"weird\", \"hold\", \"lol\", \"tell\", \"trail\", \"exact\", \"absolute\", \"pant\", \"plenty\", \"quick\", \"stylish\", \"floor\", \"2nd\", \"knew\", \"wonderful\", \"tip\", \"slippery\", \"insert\", \"okay\", \"couple\", \"inch\", \"cardio_dance_class\", \"outside\", \"beautiful\", \"shipping\", \"cushiony\", \"tie\", \"held\", \"life\", \"wire\", \"thinner\", \"circuit\", \"excelente\", \"resistance\", \"aerobics\", \"paper\", \"row\", \"compliment\", \"ball\", \"lace\", \"routine\", \"outside\", \"excelente\", \"service\", \"spot\", \"aerobics\", \"camp\", \"squeaky\", \"summer\", \"movement\", \"held\", \"neon\", \"surface\", \"couldn\", \"life\", \"cushiony\", \"felt\", \"turn\", \"end\", \"shipping\", \"wire\", \"minimalist\", \"hadn\", \"credit\", \"push\", \"tie\", \"tends\", \"cardio_dance_class\", \"choice\", \"absolute\", \"compliment\", \"impact\", \"width\", \"ball\", \"supportive\", \"hiit\", \"inch\", \"clean\", \"credit\", \"shipping\", \"fast\", \"decent\", \"dirt\", \"cushiony\", \"thing\", \"today\", \"supreme\", \"couldn\", \"isn\", \"won\", \"hope\", \"okay\", \"number\", \"cardio_dance_class\", \"push\", \"paper\", \"ok\", \"slippery\", \"built\", \"discomfort\", \"thinner\", \"didn\", \"wire\", \"appropriate\", \"stretch\", \"neon\", \"minimalist\", \"body\", \"women\", \"ball\", \"plenty\", \"gotten\", \"insole\"], \"Freq\": [2.0, 2.0, 3.0, 2.0, 2.0, 2.0, 2.0, 2.0, 2.0, 2.0, 2.0, 2.0, 2.0, 2.0, 2.0, 2.0, 2.0, 2.0, 2.0, 2.0, 2.0, 2.0, 2.0, 2.0, 2.0, 2.0, 2.0, 2.0, 2.0, 2.0, 1.140214092930419, 1.1222014107930234, 1.1138955526214063, 1.1326254361561205, 1.2587097514660652, 0.8473186082755493, 0.8572352905235323, 0.8143881874099678, 0.8174287106844204, 0.7911300153765741, 0.8310747640796171, 0.5646134084541671, 0.5822099092298717, 0.5599991496041632, 0.5535953441118655, 0.5371598031332294, 0.5325005337307405, 0.528783359416132, 0.5286202406926406, 0.5087532518468543, 0.541540649730789, 0.5297160309523311, 0.5255863583655368, 0.5049618504466555, 0.533931077490763, 0.5704303638380707, 0.49909012243026807, 0.5010951318567075, 0.5122845314394691, 0.5508967172875253, 0.5288430428376224, 0.5523919668358023, 0.5472681782229953, 0.543165622279187, 1.0188597105482093, 1.024286227130175, 0.8148701813638403, 0.7991570434416709, 0.8029299758651457, 0.7749219057100748, 0.8004772627977036, 0.7586394580955038, 0.8107451024991309, 0.7483705921806151, 0.7955037991045711, 0.6748447882482964, 0.5340840229434958, 0.5184450209214128, 0.5368800258280286, 0.5140227582447362, 0.5026623783585727, 0.5067873963180469, 0.509284576130698, 0.5053466321883459, 0.4809217334244687, 0.47563903736282354, 0.47627160833759646, 0.4932128977513028, 0.4757361728536811, 0.510143425338584, 0.4595885761561662, 0.4647859065147991, 0.48045135141788475, 0.46086113615676966, 0.5333596310533006, 0.5108086417200086, 0.49043410106828694, 0.5089660181244854, 0.47615405864698224, 1.483792181436731, 1.031989132303218, 1.0684124821308583, 0.8560463815402564, 0.7713714957911967, 0.7462277252494031, 0.8232187816128084, 0.8544781918568812, 0.7018288776103889, 0.6620870775387352, 0.599596961113998, 0.5748150465954674, 0.5163006787626178, 0.5277959200296467, 0.5258994351014933, 0.5069320015423012, 0.5152908581530096, 0.5369574875994375, 0.49427337103702657, 0.5213632043117064, 0.48129971760559087, 0.47699519936738743, 0.47647656474048417, 0.5145188756478098, 0.4840604560105576, 0.47407930544257404, 0.4867317783995181, 0.4303879387885893, 0.4937214788665369, 0.541860572608977, 0.552130742390791, 1.0635972136348124, 1.0464473477411191, 0.8099359942284442, 0.7427622844264667, 0.7978859993544661, 0.7333782362309001, 0.7580256999558793, 0.7649938458429064, 0.7399134401811747, 0.7452797769562766, 0.7421519862268001, 0.5315700194244979, 0.5289038143799552, 0.5081502918315739, 0.5179843799370352, 0.508927597116019, 0.5334056817333135, 0.5070853922019183, 0.480012930401035, 0.5037375254373119, 0.4918677069721887, 0.48216270163349073, 0.5131604876919051, 0.48183222619078936, 0.4998988338866348, 0.4642681246655053, 0.48983652527031185, 0.4705077719012552, 0.4566666879524049, 0.45712275291360105, 0.47276247711618985, 0.8032243645778125, 0.5618995356620895, 0.5624035408655388, 0.5867518611853906, 0.5367493820545262, 0.5561502649855411, 0.47633951409222347, 0.4561965608050171, 0.4907525590565461, 0.3996361008161469, 0.38997797516088234, 0.3559879907280965, 0.3695788603749003, 0.3581066891465215, 0.37655581139581157, 0.3911961899348469, 0.36057937914509847, 0.35237908384509414, 0.3238146152194581, 0.34206138503561034, 0.19722632048233685, 0.1922115090996381, 0.18601680610992988, 0.1844110121523801, 0.17614361822335237, 0.18573492790524188, 0.17987459476900494, 0.1777108150435789, 0.16395235201171932, 0.16476531024322405, 0.18025226617955986, 0.1860169896556539, 0.17786397571503682, 0.8119093244793698, 0.5921933560413022, 0.5984521212762977, 0.570856454086714, 0.5665423064312514, 0.5689211546047246, 0.5554259756410131, 0.5708181017892047, 0.38756396967188256, 0.40439423390003243, 0.383248568052281, 0.348621680141091, 0.3764794351153737, 0.3624403270054838, 0.3532885403497978, 0.35089477040415656, 0.3683143558677118, 0.3807104482199394, 0.3191246097762572, 0.379491663323604, 0.28024940115592717, 0.1976003419243037, 0.19128408216350376, 0.17692667084396527, 0.15978565861383265, 0.17608730301940004, 0.1693563815479355, 0.17236948049484374, 0.16983658657781772, 0.15799043478020067, 0.1725040759611365, 0.18105795971725672, 0.18750398462475096, 0.18235659840517543, 0.17577001507370107, 0.1734377256207334, 0.5892323525249867, 0.5771918633994612, 0.5483080412403072, 0.5696300686631365, 0.552326177993616, 0.3779095690033231, 0.3921201568167127, 0.385781528088793, 0.3945627949231938, 0.3760724576041911, 0.37431057486995034, 0.36731826320137545, 0.34362056224657117, 0.33177912183546404, 0.36356361198839804, 0.3681108382656246, 0.32458322731831485, 0.34472729027932214, 0.33090155190296067, 0.33591026319618594, 0.1822511414536268, 0.19676030878568476, 0.18276076444205, 0.17596530737525315, 0.17336456912487425, 0.16913915820067305, 0.16277364392931984, 0.19306150413944592, 0.16461067926276757, 0.1819340525348513, 0.1714595084179056, 0.1722939254962659, 0.1746419400750232, 0.17628263829456997, 0.5480178871642444, 0.5649216976430728, 0.5331931722828218, 0.5831950184872838, 0.5641621490773603, 0.5523005065443819, 0.5223893423374029, 0.45267935044125607, 0.3803550919413294, 0.34940563159307453, 0.34666842111847024, 0.3317191364778571, 0.33515790103533916, 0.3138689806568245, 0.3523367229150326, 0.3369658971607665, 0.2623762535175713, 0.1635743342925263, 0.1665001563341515, 0.15890936715303786, 0.15682818299799672, 0.17327474556613004, 0.16187950108106341, 0.16373821554961507, 0.1523500818607278, 0.15576573932826812, 0.1625321597394825, 0.1556432876190727, 0.16465820983385407, 0.15300515465493902, 0.16507710816891463, 0.17687193072893245, 0.16753475014766933, 0.16144392532862872, 0.1638134540814056, 0.1624452270626902, 0.524473599405224, 0.5405157166172881, 0.5309680772646191, 0.5212789931001816, 0.49999804114463775, 0.5446366578060378, 0.4457172106211344, 0.5009279800664995, 0.47408821220615444, 0.37373870851021834, 0.36702585616567107, 0.34878060540690864, 0.3612155747941414, 0.3355464139693489, 0.2963891824463638, 0.3433933046731757, 0.25669235771903814, 0.18076438036890358, 0.1666263685062913, 0.16336816213196453, 0.17368732736502676, 0.16153386746004642, 0.16267597783884377, 0.1647429752759925, 0.16893091272021984, 0.15846415166175257, 0.15207404956287932, 0.15560313137266754, 0.15161219300213283, 0.17880220266022398, 0.15448504875675798, 0.1629460037515208, 0.15702534757638664, 0.1611056844912352, 0.15925274296200304, 0.15906872320564355, 0.6662295203052977, 0.5146526781648477, 0.4860263469047479, 0.5007889492662841, 0.41813943973673984, 0.3469467559273429, 0.3111564640127239, 0.3015603273660663, 0.31195085179333504, 0.3076171996760886, 0.2924879376320177, 0.28956438767290515, 0.16868861695725199, 0.1670956761339366, 0.15219211716970416, 0.16202084786323204, 0.1448658395959906, 0.14974759661624118, 0.1533375404635907, 0.15064143231648866, 0.14959173615837595, 0.1439868433268236, 0.14171721895744765, 0.13912068135640251, 0.1443814069710841, 0.13434066760191568, 0.13216016382386198, 0.14133803719296506, 0.14816404482154835, 0.14431612647021216, 0.14987214053027068, 0.14170069261061558, 0.14862391293266614, 0.1484395964863115, 0.1457262537357098, 0.15747187808237262], \"Total\": [2.0, 2.0, 3.0, 2.0, 2.0, 2.0, 2.0, 2.0, 2.0, 2.0, 2.0, 2.0, 2.0, 2.0, 2.0, 2.0, 2.0, 2.0, 2.0, 2.0, 2.0, 2.0, 2.0, 2.0, 2.0, 2.0, 2.0, 2.0, 2.0, 2.0, 2.6325211060274585, 2.6694289465840058, 2.6533377518463794, 2.7038160524314225, 3.1238800849957804, 2.3334812107490612, 2.4478400942554526, 2.337256909093181, 2.3872813138307225, 2.3119569587995183, 2.6190890349860205, 2.2219367290112153, 2.3801253637957376, 2.2929568578900397, 2.3170972355389643, 2.2852154584831084, 2.2667975303651664, 2.2668535245807155, 2.2678717966214132, 2.213643192601176, 2.391181458807563, 2.3681071548497323, 2.362665110750736, 2.284851551320809, 2.416278623335235, 2.583555681217171, 2.274417936301233, 2.2932950786816013, 2.3452520401639196, 2.5549672607495086, 2.4667692386533915, 2.6264955580784104, 2.63536581765399, 2.9328303572319916, 2.5351810778647765, 2.628601694944359, 2.3284768415767827, 2.3150094783740767, 2.3271060133789314, 2.281904498440733, 2.422204680764647, 2.353404556220398, 2.626064986057378, 2.467489451038237, 2.6264955580784104, 2.3378548723553823, 2.2255155099097075, 2.2124753081369852, 2.3051531726210235, 2.2132670378944668, 2.2169411447795095, 2.2748765416038887, 2.326907324527326, 2.3225859048572235, 2.236232765952217, 2.218202174834435, 2.22712292853263, 2.3449741377083573, 2.3056907904567265, 2.493585816152912, 2.2485177117619677, 2.2852154584831084, 2.362665110750736, 2.2667975303651664, 2.63536581765399, 2.5549672607495086, 2.4711483470080973, 2.6977385227571045, 2.416278623335235, 3.0353243974686523, 2.6223065266094743, 2.7340653763393967, 2.394912753221755, 2.309504107384735, 2.305637215213752, 2.546561500572942, 2.6977385227571045, 2.3828300410032974, 2.402080336253194, 2.35875957471956, 2.2820264448103407, 2.1876134226432256, 2.2564428716378786, 2.3245639325542142, 2.244096946805179, 2.291253108656063, 2.391181458807563, 2.248859563498746, 2.4572038928104436, 2.274417936301233, 2.3025996239319833, 2.3051531726210235, 2.51397985768815, 2.3974413127405643, 2.3712579480528904, 2.5100415862896317, 2.2662761450116173, 2.626064986057378, 2.9328303572319916, 3.1238800849957804, 2.5977289873680594, 2.636958405066881, 2.359522218415031, 2.2502908999517395, 2.431869690513583, 2.2628197944111053, 2.403378230227101, 2.521011404828447, 2.447706659568762, 2.5210041613313945, 2.9328303572319916, 2.2414949936182853, 2.251021100824491, 2.233789810842419, 2.2805288800391623, 2.3056907904567265, 2.432255660813292, 2.3225859048572235, 2.2319163704707647, 2.3681071548497323, 2.3155951442347886, 2.284851551320809, 2.4966701786346093, 2.3449741377083573, 2.436715475743604, 2.380944192670923, 2.51397985768815, 2.4281426282090477, 2.35875957471956, 2.3723579541792486, 2.5100415862896317, 2.46327792298194, 2.0576138385499134, 2.089053826583894, 2.1808004021601355, 2.1838696610384876, 2.3974413127405643, 2.1723889996045855, 2.1450833915554863, 2.493585816152912, 2.248859563498746, 2.226536435924058, 2.1211488628718773, 2.2132670378944668, 2.184922499145444, 2.3155951442347886, 2.467489451038237, 2.3245639325542142, 2.2805288800391623, 2.2820264448103407, 2.4711483470080973, 2.2662761450116173, 2.244096946805179, 2.2319163704707647, 2.2708950944946564, 2.1719176816578734, 2.309504107384735, 2.2668535245807155, 2.2414949936182853, 2.078589255839515, 2.13202157009202, 2.3712579480528904, 2.521011404828447, 2.359522218415031, 2.401310249161992, 2.1122278737432967, 2.1822778848191486, 2.13202157009202, 2.166978333450316, 2.2027022642860556, 2.3518252649075313, 2.436715475743604, 2.291253108656063, 2.408640115853325, 2.2932950786816013, 2.1211488628718773, 2.3506688466587917, 2.2668535245807155, 2.2255155099097075, 2.2414949936182853, 2.402080336253194, 2.583555681217171, 2.1876134226432256, 2.6190890349860205, 2.1450833915554863, 2.3681071548497323, 2.326907324527326, 2.1838696610384876, 2.0576138385499134, 2.2748765416038887, 2.1885664571421297, 2.248859563498746, 2.226536435924058, 2.0851290353758087, 2.2805288800391623, 2.422204680764647, 2.6694289465840058, 2.6264955580784104, 2.7340653763393967, 2.416278623335235, 2.207388279610705, 2.1885664571421297, 2.1719176816578734, 2.432255660813292, 2.380944192670923, 2.146932042268648, 2.2662761450116173, 2.233789810842419, 2.326907324527326, 2.226536435924058, 2.251021100824491, 2.2319163704707647, 2.2485177117619677, 2.2124753081369852, 2.4711483470080973, 2.51397985768815, 2.244096946805179, 2.5210041613313945, 2.447706659568762, 2.546561500572942, 2.1822778848191486, 2.46327792298194, 2.2929568578900397, 2.2103002215917336, 2.184922499145444, 2.164275810494497, 2.0851290353758087, 2.5100415862896317, 2.1602560862613887, 2.394912753221755, 2.3025996239319833, 2.337256909093181, 2.431869690513583, 2.7340653763393967, 2.12567337338912, 2.226467624428205, 2.142089267208484, 2.408640115853325, 2.4667692386533915, 2.4572038928104436, 2.378414332664036, 2.2708950944946564, 2.22712292853263, 2.218202174834435, 2.2564428716378786, 2.2678717966214132, 2.3518252649075313, 2.2219367290112153, 2.5549672607495086, 2.521011404828447, 2.1723889996045855, 2.0851290353758087, 2.13202157009202, 2.0994456665247987, 2.078589255839515, 2.3245639325542142, 2.184922499145444, 2.236232765952217, 2.089053826583894, 2.1450833915554863, 2.2502908999517395, 2.164275810494497, 2.2932950786816013, 2.135550509706716, 2.3155951442347886, 2.6190890349860205, 2.628601694944359, 2.3872813138307225, 2.51397985768815, 2.4478400942554526, 2.0851290353758087, 2.164275810494497, 2.1602560862613887, 2.1598159758172133, 2.135550509706716, 2.3506688466587917, 2.1313096642837044, 2.4966701786346093, 2.3801253637957376, 2.184922499145444, 2.3170972355389643, 2.2169411447795095, 2.3723579541792486, 2.236232765952217, 2.078589255839515, 2.63536581765399, 2.3378548723553823, 2.207388279610705, 2.0994456665247987, 2.089053826583894, 2.2662761450116173, 2.1719176816578734, 2.2103002215917336, 2.2485177117619677, 2.3245639325542142, 2.1885664571421297, 2.1723889996045855, 2.2668535245807155, 2.226467624428205, 2.628601694944359, 2.274417936301233, 2.5977289873680594, 2.3872813138307225, 2.6325211060274585, 2.5351810778647765, 2.521011404828447, 2.2716207391799266, 2.2103002215917336, 2.0994456665247987, 2.3452520401639196, 2.4281426282090477, 2.146932042268648, 2.078589255839515, 2.213643192601176, 2.2929568578900397, 2.2748765416038887, 2.3723579541792486, 2.5100415862896317, 2.1838696610384876, 2.402080336253194, 2.2219367290112153, 2.416278623335235, 2.1723889996045855, 2.2485177117619677, 2.3155951442347886, 2.2820264448103407, 2.2678717966214132, 2.1876134226432256, 2.166978333450316, 2.1450833915554863, 2.233789810842419, 2.089053826583894, 2.0576138385499134, 2.2027022642860556, 2.3170972355389643, 2.2662761450116173, 2.3712579480528904, 2.226536435924058, 2.3872813138307225, 2.408640115853325, 2.3449741377083573, 3.0353243974686523], \"Category\": [\"Default\", \"Default\", \"Default\", \"Default\", \"Default\", \"Default\", \"Default\", \"Default\", \"Default\", \"Default\", \"Default\", \"Default\", \"Default\", \"Default\", \"Default\", \"Default\", \"Default\", \"Default\", \"Default\", \"Default\", \"Default\", \"Default\", \"Default\", \"Default\", \"Default\", \"Default\", \"Default\", \"Default\", \"Default\", \"Default\", \"Topic1\", \"Topic1\", \"Topic1\", \"Topic1\", \"Topic1\", \"Topic1\", \"Topic1\", \"Topic1\", \"Topic1\", \"Topic1\", \"Topic1\", \"Topic1\", \"Topic1\", \"Topic1\", \"Topic1\", \"Topic1\", \"Topic1\", \"Topic1\", \"Topic1\", \"Topic1\", \"Topic1\", \"Topic1\", \"Topic1\", \"Topic1\", \"Topic1\", \"Topic1\", \"Topic1\", \"Topic1\", \"Topic1\", \"Topic1\", \"Topic1\", \"Topic1\", \"Topic1\", \"Topic1\", \"Topic2\", \"Topic2\", \"Topic2\", \"Topic2\", \"Topic2\", \"Topic2\", \"Topic2\", \"Topic2\", \"Topic2\", \"Topic2\", \"Topic2\", \"Topic2\", \"Topic2\", \"Topic2\", \"Topic2\", \"Topic2\", \"Topic2\", \"Topic2\", \"Topic2\", \"Topic2\", \"Topic2\", \"Topic2\", \"Topic2\", \"Topic2\", \"Topic2\", \"Topic2\", \"Topic2\", \"Topic2\", \"Topic2\", \"Topic2\", \"Topic2\", \"Topic2\", \"Topic2\", \"Topic2\", \"Topic2\", \"Topic3\", \"Topic3\", \"Topic3\", \"Topic3\", \"Topic3\", \"Topic3\", \"Topic3\", \"Topic3\", \"Topic3\", \"Topic3\", \"Topic3\", \"Topic3\", \"Topic3\", \"Topic3\", \"Topic3\", \"Topic3\", \"Topic3\", \"Topic3\", \"Topic3\", \"Topic3\", \"Topic3\", \"Topic3\", \"Topic3\", \"Topic3\", \"Topic3\", \"Topic3\", \"Topic3\", \"Topic3\", \"Topic3\", \"Topic3\", \"Topic3\", \"Topic4\", \"Topic4\", \"Topic4\", \"Topic4\", \"Topic4\", \"Topic4\", \"Topic4\", \"Topic4\", \"Topic4\", \"Topic4\", \"Topic4\", \"Topic4\", \"Topic4\", \"Topic4\", \"Topic4\", \"Topic4\", \"Topic4\", \"Topic4\", \"Topic4\", \"Topic4\", \"Topic4\", \"Topic4\", \"Topic4\", \"Topic4\", \"Topic4\", \"Topic4\", \"Topic4\", \"Topic4\", \"Topic4\", \"Topic4\", \"Topic4\", \"Topic5\", \"Topic5\", \"Topic5\", \"Topic5\", \"Topic5\", \"Topic5\", \"Topic5\", \"Topic5\", \"Topic5\", \"Topic5\", \"Topic5\", \"Topic5\", \"Topic5\", \"Topic5\", \"Topic5\", \"Topic5\", \"Topic5\", \"Topic5\", \"Topic5\", \"Topic5\", \"Topic5\", \"Topic5\", \"Topic5\", \"Topic5\", \"Topic5\", \"Topic5\", \"Topic5\", \"Topic5\", \"Topic5\", \"Topic5\", \"Topic5\", \"Topic5\", \"Topic5\", \"Topic6\", \"Topic6\", \"Topic6\", \"Topic6\", \"Topic6\", \"Topic6\", \"Topic6\", \"Topic6\", \"Topic6\", \"Topic6\", \"Topic6\", \"Topic6\", \"Topic6\", \"Topic6\", \"Topic6\", \"Topic6\", \"Topic6\", \"Topic6\", \"Topic6\", \"Topic6\", \"Topic6\", \"Topic6\", \"Topic6\", \"Topic6\", \"Topic6\", \"Topic6\", \"Topic6\", \"Topic6\", \"Topic6\", \"Topic6\", \"Topic6\", \"Topic6\", \"Topic6\", \"Topic6\", \"Topic6\", \"Topic6\", \"Topic7\", \"Topic7\", \"Topic7\", \"Topic7\", \"Topic7\", \"Topic7\", \"Topic7\", \"Topic7\", \"Topic7\", \"Topic7\", \"Topic7\", \"Topic7\", \"Topic7\", \"Topic7\", \"Topic7\", \"Topic7\", \"Topic7\", \"Topic7\", \"Topic7\", \"Topic7\", \"Topic7\", \"Topic7\", \"Topic7\", \"Topic7\", \"Topic7\", \"Topic7\", \"Topic7\", \"Topic7\", \"Topic7\", \"Topic7\", \"Topic7\", \"Topic7\", \"Topic7\", \"Topic7\", \"Topic8\", \"Topic8\", \"Topic8\", \"Topic8\", \"Topic8\", \"Topic8\", \"Topic8\", \"Topic8\", \"Topic8\", \"Topic8\", \"Topic8\", \"Topic8\", \"Topic8\", \"Topic8\", \"Topic8\", \"Topic8\", \"Topic8\", \"Topic8\", \"Topic8\", \"Topic8\", \"Topic8\", \"Topic8\", \"Topic8\", \"Topic8\", \"Topic8\", \"Topic8\", \"Topic8\", \"Topic8\", \"Topic8\", \"Topic8\", \"Topic8\", \"Topic8\", \"Topic8\", \"Topic8\", \"Topic8\", \"Topic8\", \"Topic9\", \"Topic9\", \"Topic9\", \"Topic9\", \"Topic9\", \"Topic9\", \"Topic9\", \"Topic9\", \"Topic9\", \"Topic9\", \"Topic9\", \"Topic9\", \"Topic9\", \"Topic9\", \"Topic9\", \"Topic9\", \"Topic9\", \"Topic9\", \"Topic9\", \"Topic9\", \"Topic9\", \"Topic9\", \"Topic9\", \"Topic9\", \"Topic9\", \"Topic9\", \"Topic9\", \"Topic9\", \"Topic9\", \"Topic9\", \"Topic9\", \"Topic9\", \"Topic9\", \"Topic9\", \"Topic9\", \"Topic9\", \"Topic10\", \"Topic10\", \"Topic10\", \"Topic10\", \"Topic10\", \"Topic10\", \"Topic10\", \"Topic10\", \"Topic10\", \"Topic10\", \"Topic10\", \"Topic10\", \"Topic10\", \"Topic10\", \"Topic10\", \"Topic10\", \"Topic10\", \"Topic10\", \"Topic10\", \"Topic10\", \"Topic10\", \"Topic10\", \"Topic10\", \"Topic10\", \"Topic10\", \"Topic10\", \"Topic10\", \"Topic10\", \"Topic10\", \"Topic10\", \"Topic10\", \"Topic10\", \"Topic10\", \"Topic10\", \"Topic10\", \"Topic10\"], \"logprob\": [30.0, 29.0, 28.0, 27.0, 26.0, 25.0, 24.0, 23.0, 22.0, 21.0, 20.0, 19.0, 18.0, 17.0, 16.0, 15.0, 14.0, 13.0, 12.0, 11.0, 10.0, 9.0, 8.0, 7.0, 6.0, 5.0, 4.0, 3.0, 2.0, 1.0, -3.7697, -3.7856, -3.7931, -3.7764, -3.6708, -4.0666, -4.055, -4.1062, -4.1025, -4.1352, -4.086, -4.4725, -4.4419, -4.4807, -4.4922, -4.5224, -4.5311, -4.5381, -4.5384, -4.5767, -4.5143, -4.5363, -4.5442, -4.5842, -4.5284, -4.4623, -4.5959, -4.5919, -4.5698, -4.4971, -4.538, -4.4944, -4.5037, -4.5113, -3.7868, -3.7815, -4.0102, -4.0297, -4.025, -4.0605, -4.0281, -4.0817, -4.0153, -4.0954, -4.0343, -4.1988, -4.4327, -4.4624, -4.4275, -4.471, -4.4934, -4.4852, -4.4803, -4.488, -4.5376, -4.5486, -4.5473, -4.5123, -4.5484, -4.4786, -4.5829, -4.5717, -4.5386, -4.5802, -4.4341, -4.4773, -4.518, -4.4809, -4.5475, -3.4033, -3.7664, -3.7317, -3.9533, -4.0575, -4.0906, -3.9924, -3.9551, -4.1519, -4.2102, -4.3094, -4.3516, -4.4589, -4.4369, -4.4405, -4.4773, -4.4609, -4.4197, -4.5025, -4.4492, -4.5291, -4.5381, -4.5392, -4.4624, -4.5234, -4.5443, -4.5179, -4.6409, -4.5037, -4.4106, -4.3918, -3.7103, -3.7266, -3.9828, -4.0694, -3.9978, -4.0821, -4.049, -4.0399, -4.0732, -4.066, -4.0702, -4.4039, -4.4089, -4.449, -4.4298, -4.4474, -4.4004, -4.4511, -4.5059, -4.4577, -4.4815, -4.5014, -4.4391, -4.5021, -4.4653, -4.5393, -4.4857, -4.5259, -4.5558, -4.5548, -4.5211, -3.5887, -3.946, -3.9451, -3.9027, -3.9918, -3.9563, -4.1112, -4.1544, -4.0814, -4.2868, -4.3112, -4.4024, -4.365, -4.3965, -4.3463, -4.3081, -4.3896, -4.4126, -4.4971, -4.4423, -4.993, -5.0187, -5.0515, -5.0601, -5.106, -5.053, -5.0851, -5.0972, -5.1777, -5.1728, -5.083, -5.0515, -5.0963, -3.5739, -3.8895, -3.8789, -3.9262, -3.9337, -3.9296, -3.9536, -3.9262, -4.3134, -4.2709, -4.3246, -4.4193, -4.3424, -4.3804, -4.406, -4.4128, -4.3644, -4.3313, -4.5077, -4.3345, -4.6376, -4.987, -5.0195, -5.0976, -5.1995, -5.1023, -5.1413, -5.1237, -5.1385, -5.2108, -5.1229, -5.0745, -5.0395, -5.0673, -5.1041, -5.1175, -3.8605, -3.8812, -3.9325, -3.8944, -3.9252, -4.3047, -4.2678, -4.2841, -4.2616, -4.3096, -4.3143, -4.3331, -4.3998, -4.4349, -4.3434, -4.331, -4.4568, -4.3966, -4.4375, -4.4225, -5.034, -4.9574, -5.0312, -5.0691, -5.0839, -5.1086, -5.147, -4.9763, -5.1358, -5.0357, -5.095, -5.0901, -5.0766, -5.0673, -3.867, -3.8366, -3.8944, -3.8048, -3.838, -3.8592, -3.9149, -4.0581, -4.2322, -4.3171, -4.3249, -4.369, -4.3587, -4.4243, -4.3087, -4.3533, -4.6035, -5.076, -5.0583, -5.105, -5.1182, -5.0184, -5.0865, -5.075, -5.1471, -5.125, -5.0824, -5.1257, -5.0694, -5.1428, -5.0669, -4.9979, -5.0521, -5.0891, -5.0746, -5.083, -3.8969, -3.8668, -3.8846, -3.903, -3.9447, -3.8592, -4.0596, -3.9428, -3.9979, -4.2357, -4.2539, -4.3048, -4.2698, -4.3435, -4.4676, -4.3204, -4.6114, -4.9621, -5.0435, -5.0633, -5.002, -5.0746, -5.0675, -5.0549, -5.0298, -5.0938, -5.1349, -5.112, -5.138, -4.973, -5.1192, -5.0659, -5.1029, -5.0772, -5.0888, -5.09, -3.52, -3.7782, -3.8354, -3.8055, -3.9859, -4.1725, -4.2814, -4.3127, -4.2788, -4.2928, -4.3432, -4.3533, -4.8936, -4.9031, -4.9965, -4.9339, -5.0459, -5.0127, -4.989, -5.0068, -5.0138, -5.0519, -5.0678, -5.0863, -5.0492, -5.1213, -5.1377, -5.0705, -5.0233, -5.0497, -5.0119, -5.0679, -5.0202, -5.0215, -5.0399, -4.9624], \"loglift\": [30.0, 29.0, 28.0, 27.0, 26.0, 25.0, 24.0, 23.0, 22.0, 21.0, 20.0, 19.0, 18.0, 17.0, 16.0, 15.0, 14.0, 13.0, 12.0, 11.0, 10.0, 9.0, 8.0, 7.0, 6.0, 5.0, 4.0, 3.0, 2.0, 1.0, 1.1001, 1.0702, 1.0688, 1.0667, 1.0278, 0.9238, 0.8876, 0.8825, 0.8651, 0.8644, 0.7889, 0.5668, 0.5287, 0.5271, 0.5052, 0.4889, 0.4883, 0.4812, 0.4805, 0.4664, 0.4517, 0.4393, 0.4338, 0.4272, 0.4271, 0.4263, 0.4201, 0.4159, 0.4155, 0.4026, 0.3968, 0.3777, 0.365, 0.2505, 1.1206, 1.0898, 0.9823, 0.9686, 0.9681, 0.9522, 0.925, 0.9001, 0.8569, 0.8392, 0.8378, 0.7897, 0.605, 0.5812, 0.5751, 0.5723, 0.5482, 0.5306, 0.5129, 0.507, 0.4954, 0.4924, 0.4897, 0.4731, 0.4539, 0.4454, 0.4445, 0.4396, 0.4394, 0.4392, 0.4346, 0.4224, 0.4151, 0.3644, 0.408, 1.3241, 1.1073, 1.1002, 1.0111, 0.9432, 0.9118, 0.9106, 0.8902, 0.8175, 0.7512, 0.6702, 0.6611, 0.596, 0.587, 0.5537, 0.5522, 0.5477, 0.5462, 0.5248, 0.4895, 0.4869, 0.4656, 0.4634, 0.4535, 0.4399, 0.4301, 0.3995, 0.3786, 0.3686, 0.3511, 0.3068, 1.1728, 1.1415, 0.9965, 0.9573, 0.9513, 0.9391, 0.9118, 0.8732, 0.8694, 0.8471, 0.6916, 0.6267, 0.6174, 0.5851, 0.5835, 0.5549, 0.5485, 0.544, 0.529, 0.518, 0.5165, 0.51, 0.4836, 0.4833, 0.4818, 0.431, 0.4302, 0.4247, 0.4238, 0.4191, 0.3963, 1.3476, 1.1702, 1.1559, 1.1553, 1.0648, 1.0071, 0.9507, 0.9202, 0.8426, 0.7405, 0.7261, 0.6834, 0.6783, 0.6597, 0.6518, 0.6264, 0.6046, 0.6007, 0.5155, 0.4907, 0.0266, 0.0107, -0.0166, -0.0426, -0.0439, -0.0523, -0.0657, -0.0666, -0.0717, -0.0921, -0.1086, -0.1384, -0.117, 1.3878, 1.2005, 1.1784, 1.1545, 1.1307, 1.1185, 1.029, 1.0209, 0.6952, 0.6878, 0.6831, 0.6665, 0.6406, 0.6389, 0.6317, 0.6178, 0.597, 0.5573, 0.5472, 0.5404, 0.4369, -0.0114, -0.0263, -0.0409, -0.0833, -0.0865, -0.0868, -0.0963, -0.1012, -0.1079, -0.1096, -0.1214, -0.1836, -0.1953, -0.2722, -0.162, 1.1854, 1.1733, 1.1296, 1.0546, 1.045, 0.769, 0.7518, 0.75, 0.7316, 0.7277, 0.7121, 0.7018, 0.6277, 0.6087, 0.5897, 0.5849, 0.5726, 0.5165, 0.5051, 0.4805, 0.0234, -0.0211, -0.0233, -0.0244, -0.0278, -0.043, -0.0441, -0.0589, -0.0683, -0.0713, -0.0913, -0.1014, -0.1275, -0.2353, 1.2166, 1.2007, 1.1815, 1.1539, 1.0969, 1.0795, 1.0564, 0.9594, 0.8048, 0.724, 0.699, 0.6499, 0.6238, 0.615, 0.591, 0.5597, 0.4584, 0.0269, 0.0223, -0.0089, -0.0121, -0.0242, -0.0303, -0.0421, -0.0461, -0.0504, -0.0558, -0.0601, -0.0617, -0.0638, -0.0688, -0.123, -0.1808, -0.1216, -0.1587, -0.1404, 1.206, 1.1989, 1.1829, 1.1647, 1.1343, 1.1239, 1.0214, 0.9799, 0.9727, 0.8204, 0.7436, 0.7368, 0.704, 0.6894, 0.6384, 0.5483, 0.3771, 0.0838, 0.0525, 0.0377, 0.0176, -0.0125, -0.0229, -0.0274, -0.0356, -0.0393, -0.073, -0.0926, -0.1006, -0.1017, -0.1032, -0.1828, -0.1353, -0.2074, -0.1813, -0.1769, 1.4972, 1.2664, 1.2607, 1.1799, 0.9648, 0.9012, 0.8247, 0.7304, 0.7291, 0.723, 0.6306, 0.5641, 0.163, 0.0583, 0.0428, 0.0216, 0.016, 0.0147, 0.009, 0.0059, 0.0051, 0.003, -0.0034, -0.0118, -0.0152, -0.0203, -0.0215, -0.0225, -0.0259, -0.0301, -0.0376, -0.0307, -0.0527, -0.0628, -0.0545, -0.235]}, \"token.table\": {\"Topic\": [8, 2, 5, 2, 1, 6, 4, 1, 3, 1, 2, 9, 1, 4, 10, 2, 2, 2, 3, 3, 1, 2, 10, 2, 4, 7, 4, 4, 6, 4, 1, 3, 4, 7, 8, 9, 2, 1, 1, 10, 1, 2, 1, 8, 2, 7, 3, 2, 3, 2, 1, 3, 3, 4, 1, 6, 3, 2, 5, 3, 4, 3, 1, 1, 4, 7, 2, 1, 2, 4, 1, 3, 1, 4, 3, 1, 2, 9, 8, 1, 2, 4, 6, 8, 6, 2, 3, 1, 1, 8, 6, 1, 1, 1, 9, 1, 2, 3, 1, 5, 4, 9, 1, 3, 5, 1, 6, 3, 8, 4, 9, 1, 2, 2, 3, 4, 7, 1, 3, 3, 1, 6, 3, 1, 4, 2, 2, 1, 3, 4, 4, 5, 5, 4], \"Freq\": [0.4491419453075663, 0.4518207621938488, 0.4859998417899162, 0.42971828281600777, 0.4188865359966153, 0.46903840656585805, 0.4337095000504874, 0.4411510011831125, 0.4571191553541169, 0.3746119563435739, 0.4052702229706528, 0.4254108363334062, 0.44114010418249816, 0.44438699015378247, 0.44021432924626674, 0.42975497539556456, 0.38043040218809854, 0.43381065166397254, 0.4364423974907561, 0.39268637328217426, 0.39139444773419385, 0.39139444773419385, 0.45242722695827103, 0.4294652977191848, 0.37922479098589995, 0.4200014444178166, 0.43849477581833013, 0.44766969351645247, 0.46147208052965416, 0.41608099275556293, 0.3409675563177821, 0.3409675563177821, 0.3409675563177821, 0.4530240598071672, 0.4704391617822381, 0.4620483189577943, 0.45198244532819215, 0.36984764518309005, 0.4263934037256421, 0.4263934037256421, 0.3794539616857453, 0.3794539616857453, 0.4325340037987771, 0.4204481894792111, 0.3807978878319162, 0.4604226064574775, 0.4196690417663809, 0.3706808467775425, 0.3706808467775425, 0.3944491416140724, 0.3201147204091065, 0.3201147204091065, 0.4163058099712923, 0.3966661944030552, 0.42325084306266764, 0.4252016571644909, 0.3294540777367858, 0.4319636741627252, 0.4585472375231937, 0.3977756611461469, 0.4461308202102077, 0.4329933845116182, 0.4278519815726994, 0.37688379449775267, 0.41114098986848374, 0.41114098986848374, 0.4128470264884129, 0.4201459365170733, 0.43055458052539636, 0.43055458052539636, 0.43157446509464104, 0.38134367201265196, 0.4138595567342648, 0.4419264859136731, 0.43820701651996413, 0.4500578198034515, 0.42491631851262096, 0.4795866265512758, 0.4668339528647069, 0.3807354620967329, 0.3807354620967329, 0.4085456874869885, 0.4582367841219601, 0.4151720273270145, 0.4164393169724651, 0.4493340960991872, 0.4239516442106623, 0.3870634595840712, 0.4053885480369861, 0.4053885480369861, 0.4103884962994432, 0.43605378535713457, 0.408523417173688, 0.38181214408594455, 0.4629080812963399, 0.4375954994912318, 0.40102890926079837, 0.43371957799843697, 0.4409420327417806, 0.4059631236370772, 0.4238146147535466, 0.4630024090925748, 0.41820330963032853, 0.41820330963032853, 0.41711135729820203, 0.4285442691346952, 0.4539878204211689, 0.40696663509524367, 0.40696663509524367, 0.4005334819783383, 0.4005334819783383, 0.37986400098004364, 0.43958429466900023, 0.4510719656923761, 0.4456135468762415, 0.4112062434516429, 0.45692009796486527, 0.45174398626769396, 0.4301882112148265, 0.44317541231351115, 0.4361181051265796, 0.4734337674598513, 0.36575570162074417, 0.42227818870107453, 0.42227818870107453, 0.427742548019032, 0.4382304345704731, 0.4376651951072829, 0.41755174532130684, 0.4442428370101576, 0.3849516269259365, 0.47868560746241795, 0.45790278506111654, 0.3966673341276356], \"Term\": [\"absolute\", \"ache\", \"appropriate\", \"balance\", \"ball\", \"beautiful\", \"blue\", \"broken\", \"built\", \"bulky\", \"buying\", \"camp\", \"choice\", \"circuit\", \"clean\", \"cloud\", \"compliment\", \"concrete\", \"continue\", \"cool\", \"couple\", \"couple\", \"credit\", \"crossfit\", \"dark\", \"description\", \"design\", \"didn\", \"discomfort\", \"distance\", \"edge\", \"edge\", \"edge\", \"end\", \"exact\", \"excelente\", \"fact\", \"fan\", \"fast\", \"fast\", \"felt\", \"felt\", \"fitting\", \"floor\", \"gift\", \"hadn\", \"heal\", \"help\", \"help\", \"hiit\", \"hip\", \"hip\", \"hope\", \"inch\", \"indoor\", \"insert\", \"insole\", \"job\", \"kick\", \"lace\", \"lack\", \"line\", \"lol\", \"lunge\", \"mesh\", \"mesh\", \"money\", \"movement\", \"multiple\", \"multiple\", \"neon\", \"night\", \"number\", \"odd\", \"ok\", \"okay\", \"opinion\", \"outside\", \"pant\", \"people\", \"people\", \"photo\", \"picky\", \"plenty\", \"plus\", \"preference\", \"proper\", \"purchasing\", \"quick\", \"quick\", \"ran\", \"resistance\", \"routine\", \"row\", \"service\", \"sketcher\", \"slip\", \"slipper\", \"slippery\", \"snug\", \"sport\", \"spot\", \"star\", \"star\", \"start\", \"straight\", \"stretch\", \"stylish\", \"stylish\", \"summer\", \"summer\", \"supportive\", \"supreme\", \"surface\", \"swell\", \"tell\", \"tends\", \"thing\", \"tie\", \"tip\", \"today\", \"traction\", \"trail\", \"tread\", \"tread\", \"turn\", \"ups\", \"wasn\", \"weird\", \"white\", \"width\", \"wire\", \"won\", \"wouldn\"]}, \"R\": 30, \"lambda.step\": 0.01, \"plot.opts\": {\"xlab\": \"PC1\", \"ylab\": \"PC2\"}, \"topic.order\": [10, 9, 8, 5, 1, 2, 6, 3, 7, 4]};\n",
              "\n",
              "function LDAvis_load_lib(url, callback){\n",
              "  var s = document.createElement('script');\n",
              "  s.src = url;\n",
              "  s.async = true;\n",
              "  s.onreadystatechange = s.onload = callback;\n",
              "  s.onerror = function(){console.warn(\"failed to load library \" + url);};\n",
              "  document.getElementsByTagName(\"head\")[0].appendChild(s);\n",
              "}\n",
              "\n",
              "if(typeof(LDAvis) !== \"undefined\"){\n",
              "   // already loaded: just create the visualization\n",
              "   !function(LDAvis){\n",
              "       new LDAvis(\"#\" + \"ldavis_el30171402806179409128721155865\", ldavis_el30171402806179409128721155865_data);\n",
              "   }(LDAvis);\n",
              "}else if(typeof define === \"function\" && define.amd){\n",
              "   // require.js is available: use it to load d3/LDAvis\n",
              "   require.config({paths: {d3: \"https://d3js.org/d3.v5\"}});\n",
              "   require([\"d3\"], function(d3){\n",
              "      window.d3 = d3;\n",
              "      LDAvis_load_lib(\"https://cdn.jsdelivr.net/gh/bmabey/pyLDAvis@3.3.1/pyLDAvis/js/ldavis.v3.0.0.js\", function(){\n",
              "        new LDAvis(\"#\" + \"ldavis_el30171402806179409128721155865\", ldavis_el30171402806179409128721155865_data);\n",
              "      });\n",
              "    });\n",
              "}else{\n",
              "    // require.js not available: dynamically load d3 & LDAvis\n",
              "    LDAvis_load_lib(\"https://d3js.org/d3.v5.js\", function(){\n",
              "         LDAvis_load_lib(\"https://cdn.jsdelivr.net/gh/bmabey/pyLDAvis@3.3.1/pyLDAvis/js/ldavis.v3.0.0.js\", function(){\n",
              "                 new LDAvis(\"#\" + \"ldavis_el30171402806179409128721155865\", ldavis_el30171402806179409128721155865_data);\n",
              "            })\n",
              "         });\n",
              "}\n",
              "</script>"
            ]
          },
          "metadata": {},
          "execution_count": 61
        }
      ]
    },
    {
      "cell_type": "code",
      "execution_count": 62,
      "id": "71e55dc7",
      "metadata": {
        "id": "71e55dc7",
        "outputId": "e692f4ba-3202-40f0-81ef-b06505e7be36",
        "colab": {
          "base_uri": "https://localhost:8080/"
        }
      },
      "outputs": [
        {
          "output_type": "stream",
          "name": "stdout",
          "text": [
            "20 :  shoe i've nike's before and with the comfort performance and quality though i will this the time i a pair online without them on i but this out to a choice lightweight but sturdy and during all my workout the built-in arch_support and i've no discomfort after 2 week of use a a the sole thickness and i would these a medium build thin thick if you're into outdoors that into consideration everyone in their preference for but i think for light run on a treadmill they would sufficient love these recommend\n",
            "56 :  a sketcher walk fan for some time and the reason i these of the number 4 of those because the tread slippery to me these shoe sturdy and the grip of the sol i use them for workout cardio and cross training a a work a a massage therapist i through shoe fast that if you're a walk fan these offer the level of cushion-comfort a those they offer the kind of comfort to them a option the material of the shoe seem and the my foot feel in them these shoe ideal for a workout or cross training i would them to 25,000 step in walt disney world choice \n",
            "60 : glad i read the review and a half size these light_weight i out in them night and a work out they i would recommend these to anyone i a beach body coach and these my favorite shoe to work out in i feel_like i in slipper when i wear these shoe they i love them i myself anything and for christmas an amazon gift card and it to myself these sneaker and they awesome i love them and all my friend about them these shoe\n",
            "62 : i love these i the iteration or two and wore them out after year they a training shoe i wouldn't them if you to a lot of but this them i hadn't how shoe my foot until i to these support and my foot stay cool all day light but well-made and i worn them in a pinch but don't recommend it because the material mesh-like and will a lot of dirt in but if you cardio class and/or weight training or need something to wear around town look no \n",
            "63 : super decent arch_support mine than i by the sole/tread on these for my circuit training class a i couldn't tell by online pic that these ran than nike shoe i use to wear 15+years - i wore one to 1.5 size in their shoe i my size 6 would - toe room in these shoe than any size 6 shoe i heel boot but it the correct amount of room from toe to edge of shoe for me an inch or i don't want my toe jammed into edge of shoe when jumping etc shoe with an odd yellowish color on side of one shoe but no damage to box paper etc - i that a clorox wipe the shoe and discolor any i and recommend although i out it \n",
            "69 : these a bit longer than they should i wear a 9 but could a 8.5 the width accurate the pink pinker than and the light gray over the bright pink it isn't a gray a in the picture it the shoe a bit two grommet on each shoe dark i'm to the dark grommet closer to the toe a in the photo i'm about two grommet at the top of of the lace opposite side of side in photo i thought it faulty at until i they on the side of each shoe kind of odd and they shoe which why i if you can me from a mile \n",
            "84 : i bought these for gym training - weight class and dance class body jam zumba - and to like them since i the color and the light_weight feel but when i out impact my toe numb and cramped because the toe bed narrow wasn't cushion for me when lunge the ball of my foot hurt can't return them because i wore them time these might fine for someone with a narrow foot\n",
            "145 :  indoor training shoe for on treadmill lunge and exercise at the gym these light_weight and grip okay - sticky rubber at the edge of heel and toe area i a when i on cable machine resistance band etc on floor i would that if you a a part of your everyday routine workout i would recommend them because mine cushion for six month and this the reason i three star than that i them\n",
            "155 : i the impression it's cushiony and comfy by reading the review on this product when i it on it a firmer than my work shoe i'm all day and need support and comfort this isn't the right product for that i to return it but i would it would work fine for training it look decent and clean and sturdy the right thing for me i upon credit for that\n",
            "236 : i shoe for cardio_dance_class at the gym because i thought they would sufficient after 2 blood blister i some research and found out cross trainer would appropriate which how i buying this pair they longer in look i would like but i think that of cross trainer the in a way that allows you to tie if you're careful my toe during one work out when i this that i with the shoe\n",
            "241 : if you wear nike on the you should your size i wear 7's in nike and it fit a i of the trail runner generation and love them all they're my to sneaker for the gym use or wear i a pair i for wear that about 5 year another pair that i for cross fit/outdoor run that a over a year use all in all these shoe for me they're lightweight and \n",
            "282 : i bought a pair from dsw for 50$ and they but i bought a size 6.5 when i where a size 7 and the 6.5 feel a roomy i foot btw im sure if i will them though i love their look and comfort i've foot problem while a gym class and i think they won't me support when they're for at home or gym and exercise in one place- light_weight and but i don't if they'll if you use them i like them but i cant 2 shoe i like the string inside the on the side of the shoe to adjust and the shoe fit snug it me feel secure d\n",
            "323 : i love the look and comfort of these shoe for style and weight super cute and but for it might my pronation/supnation and these shoe work for my stride i about mile every day of 8 mile a week and sprint a week on a treadmill after with these 3 time i issue that i before my stats and shoe i road and trail i on my tip toe on the treadmill and a lot of heal on the road i 5'6 169lbs with muscle than an runner built like a sprinter than a marathon runner i love nike flex bottom they me support and flex i asics and puma\n",
            "342 : this the shoe i've no shoe can compare to how the nub on the bottom your foot to work like it's suppose to my foot feel in this shoe and surface don't my foot ache these shoe a amount of support but which i like a i'm from vibram five finger sorry vffs i'm bailing after 2 year of shin splint no matter what i for on concrete or track a a nike to the flex supreme they will my money please don't change this shoe\n",
            "348 : the picture the shoe look like it a \"boxier\" toe than the \"pointier\" toe that it i wider foot and need to a size or half size longer to a width in any brand of shoe i for a rounder broader toe design which for me and i feel that the picture of this shoe didn't depict what i in that one detail \"the shoe fits.\" i it\n"
          ]
        }
      ],
      "source": [
        "for i, sample in enumerate(data_samples):\n",
        "    if len(sample) > 300 and len(sample) < 700:\n",
        "        print(i,\":\", sample)"
      ]
    },
    {
      "cell_type": "code",
      "execution_count": 63,
      "id": "2d3aee19",
      "metadata": {
        "id": "2d3aee19",
        "outputId": "55bec243-a83d-494d-fc19-f19d8711a5f2",
        "colab": {
          "base_uri": "https://localhost:8080/"
        }
      },
      "outputs": [
        {
          "output_type": "execute_result",
          "data": {
            "text/plain": [
              "array([[0.01666776, 0.01666765, 0.0166676 , 0.01666775, 0.01666856,\n",
              "        0.01666754, 0.01666779, 0.01667079, 0.0166676 , 0.84998695]])"
            ]
          },
          "metadata": {},
          "execution_count": 63
        }
      ],
      "source": [
        "lda.transform(tf_vectorizer.transform([data_samples[84]]))"
      ]
    },
    {
      "cell_type": "code",
      "execution_count": 64,
      "id": "3d31f777",
      "metadata": {
        "id": "3d31f777",
        "outputId": "98adc2ed-81ab-4531-dbc7-405c5cfe6371",
        "colab": {
          "base_uri": "https://localhost:8080/",
          "height": 70
        }
      },
      "outputs": [
        {
          "output_type": "execute_result",
          "data": {
            "text/plain": [
              "\"i bought these for gym training - weight class and dance class body jam zumba - and to like them since i the color and the light_weight feel but when i out impact my toe numb and cramped because the toe bed narrow wasn't cushion for me when lunge the ball of my foot hurt can't return them because i wore them time these might fine for someone with a narrow foot\""
            ],
            "application/vnd.google.colaboratory.intrinsic+json": {
              "type": "string"
            }
          },
          "metadata": {},
          "execution_count": 64
        }
      ],
      "source": [
        "data_samples[84]"
      ]
    },
    {
      "cell_type": "code",
      "execution_count": 65,
      "id": "68167001",
      "metadata": {
        "id": "68167001"
      },
      "outputs": [],
      "source": [
        "from nltk import sent_tokenize\n",
        "from nltk.tokenize import TweetTokenizer\n",
        "\n",
        "raw_reviews = list(filter(lambda x: isinstance(x, str), df[df['asin'] == product_id]['reviewText']))\n",
        "\n",
        "#raw_reviews[337] were the sentences you were using prior for sentiment analysis\n",
        "def get_sents(raw_reviews):\n",
        "  raw_sentences = []\n",
        "  for review in raw_reviews:\n",
        "    raw_sentences.append(sent_tokenize(review))\n",
        "  raw_sentences = sum(raw_sentences, [])\n",
        "\n",
        "  processed_sentences = raw_sentences[:]\n",
        "  processed_sentences = lowercasing(processed_sentences)\n",
        "  processed_sentences = punctuation_removal(processed_sentences)\n",
        "  processed_sentences = lemmatize(processed_sentences)\n",
        "  return raw_sentences, processed_sentences\n",
        "\n",
        "raw_sentences, processed_sentences = get_sents(raw_reviews)"
      ]
    },
    {
      "cell_type": "code",
      "source": [
        "#GSDMM\n",
        "raw_reviews = list(map(lambda x: x['text'], reviews))[:n_samples]\n",
        "raw_sentences, processed_sentences = get_sents(raw_reviews)"
      ],
      "metadata": {
        "id": "FGIjqIg6JrF0"
      },
      "id": "FGIjqIg6JrF0",
      "execution_count": 66,
      "outputs": []
    },
    {
      "cell_type": "code",
      "source": [
        "#GSDMM\n",
        "tknzr = TweetTokenizer()\n",
        "def get_words(sentences):\n",
        "  words = []\n",
        "  for sentence in sentences:\n",
        "    words.append(tknzr.tokenize(sentence))\n",
        "  return words\n",
        "\n",
        "def remove_stopwords(words):\n",
        "  #Just using nltk stopwords for now\n",
        "  stops = set(nltk.corpus.stopwords.words('english'))\n",
        "  _words = []\n",
        "  for word in words:\n",
        "    if word not in stops:\n",
        "      _words.append(word)\n",
        "  return _words\n",
        "\n",
        "docs = get_words(processed_sentences)\n",
        "for i, words in enumerate(docs):\n",
        "  docs[i] = remove_stopwords(words)\n",
        "  docs[i] = list(set(docs[i]))\n",
        "\n",
        "vocab = set(x for word in words for x in word)\n",
        "\n",
        "mgp = MovieGroupProcess(K=10, alpha=.01, beta=.01, n_iters=30)\n",
        "# tutorials I saw used bigrams/trigrams for tokens in docs; might be an option for us\n",
        "model = mgp.fit(docs, len(vocab))"
      ],
      "metadata": {
        "id": "q-FayfD97_XN",
        "outputId": "24cf7a80-fe8c-4760-abe4-09ef61eeeabb",
        "colab": {
          "base_uri": "https://localhost:8080/"
        }
      },
      "id": "q-FayfD97_XN",
      "execution_count": 67,
      "outputs": [
        {
          "output_type": "stream",
          "name": "stdout",
          "text": [
            "In stage 0: transferred 4085 clusters with 10 clusters populated\n",
            "In stage 1: transferred 2566 clusters with 10 clusters populated\n",
            "In stage 2: transferred 1934 clusters with 10 clusters populated\n",
            "In stage 3: transferred 1769 clusters with 10 clusters populated\n",
            "In stage 4: transferred 1643 clusters with 10 clusters populated\n",
            "In stage 5: transferred 1631 clusters with 10 clusters populated\n",
            "In stage 6: transferred 1655 clusters with 10 clusters populated\n",
            "In stage 7: transferred 1640 clusters with 10 clusters populated\n",
            "In stage 8: transferred 1625 clusters with 10 clusters populated\n",
            "In stage 9: transferred 1573 clusters with 10 clusters populated\n",
            "In stage 10: transferred 1495 clusters with 10 clusters populated\n",
            "In stage 11: transferred 1537 clusters with 10 clusters populated\n",
            "In stage 12: transferred 1495 clusters with 10 clusters populated\n",
            "In stage 13: transferred 1508 clusters with 10 clusters populated\n",
            "In stage 14: transferred 1501 clusters with 10 clusters populated\n",
            "In stage 15: transferred 1509 clusters with 10 clusters populated\n",
            "In stage 16: transferred 1451 clusters with 10 clusters populated\n",
            "In stage 17: transferred 1401 clusters with 10 clusters populated\n",
            "In stage 18: transferred 1428 clusters with 10 clusters populated\n",
            "In stage 19: transferred 1402 clusters with 10 clusters populated\n",
            "In stage 20: transferred 1427 clusters with 10 clusters populated\n",
            "In stage 21: transferred 1352 clusters with 10 clusters populated\n",
            "In stage 22: transferred 1395 clusters with 10 clusters populated\n",
            "In stage 23: transferred 1363 clusters with 10 clusters populated\n",
            "In stage 24: transferred 1351 clusters with 10 clusters populated\n",
            "In stage 25: transferred 1392 clusters with 10 clusters populated\n",
            "In stage 26: transferred 1378 clusters with 10 clusters populated\n",
            "In stage 27: transferred 1384 clusters with 10 clusters populated\n",
            "In stage 28: transferred 1373 clusters with 10 clusters populated\n",
            "In stage 29: transferred 1378 clusters with 10 clusters populated\n"
          ]
        }
      ]
    },
    {
      "cell_type": "code",
      "source": [
        "#credit to Catherine\n",
        "#https://www.kaggle.com/code/ptfrwrd/topic-modeling-guide-gsdm-lda-lsi/notebook\n",
        "\n",
        "def top_words(cluster_word_distribution, top_cluster, values):\n",
        "    for cluster in top_cluster:\n",
        "        sort_dicts =sorted(mgp.cluster_word_distribution[cluster].items(), key=lambda k: k[1], reverse=True)[:values]\n",
        "        print(\"\\nCluster %s : %s\"%(cluster,sort_dicts))\n",
        "\n",
        "doc_count = np.array(mgp.cluster_doc_count)\n",
        "print('Number of documents per topic :', doc_count)\n",
        "\n",
        "# topics sorted by the number of document they are allocated to\n",
        "top_index = doc_count.argsort()[-10:][::-1]\n",
        "print('\\nMost important clusters (by number of docs inside):', top_index)\n",
        "# show the top 5 words in term frequency for each cluster \n",
        "top_words(mgp.cluster_word_distribution, top_index, 10)"
      ],
      "metadata": {
        "id": "rAFBO0kEE5RX",
        "outputId": "8a367ba6-0343-4a24-fb07-c09b10b8dce3",
        "colab": {
          "base_uri": "https://localhost:8080/"
        }
      },
      "id": "rAFBO0kEE5RX",
      "execution_count": 68,
      "outputs": [
        {
          "output_type": "stream",
          "name": "stdout",
          "text": [
            "Number of documents per topic : [ 501  479  515  360  330 1202  439  387  387  394]\n",
            "\n",
            "Most important clusters (by number of docs inside): [5 2 0 1 6 9 8 7 3 4]\n",
            "\n",
            "Cluster 5 : [('love', 317), ('fit', 304), ('shoe', 302), ('size', 124), ('perfect', 114), ('nike', 73), ('color', 68), ('light', 63), ('lightweight', 52), ('comfy', 49)]\n",
            "\n",
            "Cluster 2 : [('shoe', 138), ('size', 79), ('pair', 67), ('love', 50), ('perfect', 46), ('fit', 44), ('store', 42), ('bought', 42), ('foot', 33), ('toe', 29)]\n",
            "\n",
            "Cluster 0 : [('shoe', 152), ('like', 97), ('fit', 73), ('foot', 72), ('lightweight', 59), ('support', 53), ('arch', 40), ('love', 37), ('pair', 29), ('fine', 27)]\n",
            "\n",
            "Cluster 1 : [('shoe', 121), ('light', 92), ('weight', 80), ('size', 52), ('like', 48), ('sneaker', 44), ('favorite', 37), ('half', 30), ('wear', 27), ('would', 26)]\n",
            "\n",
            "Cluster 6 : [('shoe', 143), ('love', 72), ('training', 61), (\"i've\", 59), ('time', 52), ('nike', 34), ('foot', 32), ('cross', 28), ('gym', 28), ('class', 26)]\n",
            "\n",
            "Cluster 9 : [('shoe', 89), ('foot', 57), ('day', 53), ('wore', 41), ('hurt', 34), ('light', 29), ('pair', 28), ('excellent', 23), ('like', 22), ('lot', 20)]\n",
            "\n",
            "Cluster 8 : [('shoe', 61), ('feel', 40), ('workout', 34), ('toe', 30), ('foot', 27), ('time', 26), ('love', 25), ('light', 25), ('heel', 23), ('super', 22)]\n",
            "\n",
            "Cluster 7 : [('shoe', 83), ('cute', 59), ('super', 54), ('comfy', 44), ('would', 34), ('fit', 31), ('wear', 29), ('foot', 27), ('purchase', 25), ('nike', 25)]\n",
            "\n",
            "Cluster 3 : [('shoe', 82), ('size', 79), ('wear', 71), ('fit', 56), ('foot', 43), ('nike', 40), ('8', 35), (\"i'm\", 30), ('feel', 29), ('like', 22)]\n",
            "\n",
            "Cluster 4 : [('shoe', 62), ('support', 57), ('look', 43), ('use', 36), ('class', 36), ('light', 35), ('-', 31), ('fit', 28), ('gym', 27), ('cardio', 26)]\n"
          ]
        }
      ]
    },
    {
      "cell_type": "code",
      "execution_count": 69,
      "id": "38433267",
      "metadata": {
        "id": "38433267"
      },
      "outputs": [],
      "source": [
        "feature_names = tf_vectorizer.get_feature_names_out()\n",
        "topic_words = []\n",
        "for topic in lda.components_:\n",
        "    top_features_ind = topic.argsort()[: -10- 1 : -1]\n",
        "    topic_words.append([feature_names[i] for i in top_features_ind])"
      ]
    },
    {
      "cell_type": "code",
      "execution_count": 70,
      "id": "f780a69b",
      "metadata": {
        "scrolled": true,
        "id": "f780a69b",
        "outputId": "64ee8ff7-79e5-463d-90c4-0749ebdd25ed",
        "colab": {
          "base_uri": "https://localhost:8080/"
        }
      },
      "outputs": [
        {
          "output_type": "stream",
          "name": "stdout",
          "text": [
            "Great product and price! \n",
            "\t overall: 0.66 neutral: 0.41, No Topic\n",
            "\n",
            "Great product and price! \n",
            "\t overall: 0.66 neutral: 0.41, No Topic\n",
            "\n",
            "Great product and price! \n",
            "\t overall: 0.66 neutral: 0.41, No Topic\n",
            "\n",
            "Great product and price! \n",
            "\t overall: 0.66 neutral: 0.41, No Topic\n",
            "\n",
            "Great product and price! \n",
            "\t overall: 0.66 neutral: 0.41, No Topic\n",
            "\n",
            "Waaay too small. \n",
            "\t overall: 0.00 neutral: 1.00, No Topic\n",
            "\n",
            "Will use for futur children! \n",
            "\t overall: 0.00 neutral: 1.00, No Topic\n",
            "\n",
            "Stays vibrant after many washes \n",
            "\t overall: 0.53 neutral: 0.54, No Topic\n",
            "\n",
            "Stays vibrant after many washes \n",
            "\t overall: 0.53 neutral: 0.54, No Topic\n",
            "\n",
            "My son really likes the pink. \n",
            "\t overall: 0.48 neutral: 0.62, No Topic\n",
            "\n",
            "Ones which I was nervous about \n",
            "\t overall: -0.27 neutral: 0.70, No Topic\n",
            "\n",
            "Waaay too small. \n",
            "\t overall: 0.00 neutral: 1.00, No Topic\n",
            "\n",
            "Will use for future child. \n",
            "\t overall: 0.00 neutral: 1.00, No Topic\n",
            "\n",
            "Relieved my Plantar Fascitis for 3 Days. \n",
            "\t overall: 0.38 neutral: 0.70, No Topic\n",
            "\n",
            "Then the unbearable pain returned in full force. \n",
            "\t overall: -0.51 neutral: 0.68, No Topic\n",
            "\n",
            "These were recommended by my Podiatrist. \n",
            "\t overall: 0.20 neutral: 0.73, No Topic\n",
            "\n",
            "This is my 6th pair and they are the best thing ever for my plantar fasciitis and resultant neuromas. \n",
            "\t overall: 0.64 neutral: 0.81, Topic 4: clean, credit, fast, shipping, decent, dirt, today, cushiony, supreme, thing\n",
            "\n",
            "Unfortunately, the ones I ordered from SmartDestination must be seconds as they kill my feet. \n",
            "\t overall: -0.80 neutral: 0.65, No Topic\n",
            "\n",
            "The hard plastic insert rubs on the outside edges of my feet. \n",
            "\t overall: -0.10 neutral: 0.89, Topic 7: camp, excelente, service, outside, spot, summer, aerobics, movement, squeaky, held\n",
            "\n",
            "I am unable to exchange them as I waited one day too late to use them in my walking shoes. \n",
            "\t overall: 0.00 neutral: 1.00, No Topic\n",
            "\n"
          ]
        }
      ],
      "source": [
        "feature_names = tf_vectorizer.get_feature_names_out()\n",
        "topic_words = []\n",
        "for topic in lda.components_:\n",
        "    top_features_ind = topic.argsort()[: -10- 1 : -1]\n",
        "    topic_words.append([feature_names[i] for i in top_features_ind])\n",
        "from vaderSentiment.vaderSentiment import SentimentIntensityAnalyzer\n",
        "analyzer = SentimentIntensityAnalyzer()\n",
        "\n",
        "# TODO: for now compound (a composite score) will suffice. Neutrality (neu) might suggest highly informational content.\n",
        "#Had to change some of the sentence processing code so the sentences were't limited\n",
        "#in that code block. I limited the sentences here for endless print statment reasons\n",
        "for raw, processed in zip(raw_sentences[:20], processed_sentences[:20]):\n",
        "    vs = analyzer.polarity_scores(raw)\n",
        "    probs = lda.transform(tf_vectorizer.transform([processed]))[0]\n",
        "    topic = probs.argmax()\n",
        "    if probs[topic] < 0.2:\n",
        "        print(\"{} \\n\\t overall: {:.2f} neutral: {:.2f}, No Topic\\n\".format(raw, vs['compound'], vs['neu']))\n",
        "    else:\n",
        "        print(\"{} \\n\\t overall: {:.2f} neutral: {:.2f}, Topic {}: {}\\n\".format(raw, vs['compound'], vs['neu'], topic+1, \", \".join(topic_words[topic])))"
      ]
    },
    {
      "cell_type": "code",
      "execution_count": 71,
      "id": "1db11f93",
      "metadata": {
        "id": "1db11f93",
        "outputId": "c95624fb-465f-46a9-ae20-5b58a606f70d",
        "colab": {
          "base_uri": "https://localhost:8080/"
        }
      },
      "outputs": [
        {
          "output_type": "execute_result",
          "data": {
            "text/plain": [
              "['camp',\n",
              " 'excelente',\n",
              " 'service',\n",
              " 'outside',\n",
              " 'spot',\n",
              " 'summer',\n",
              " 'aerobics',\n",
              " 'movement',\n",
              " 'squeaky',\n",
              " 'held']"
            ]
          },
          "metadata": {},
          "execution_count": 71
        }
      ],
      "source": [
        "lda.transform(tf_vectorizer.transform([\"easy gift life\"])).argmax()\n",
        "topic_words[6]"
      ]
    }
  ],
  "metadata": {
    "colab": {
      "provenance": [],
      "toc_visible": true
    },
    "kernelspec": {
      "display_name": "Python 3 (ipykernel)",
      "language": "python",
      "name": "python3"
    },
    "language_info": {
      "codemirror_mode": {
        "name": "ipython",
        "version": 3
      },
      "file_extension": ".py",
      "mimetype": "text/x-python",
      "name": "python",
      "nbconvert_exporter": "python",
      "pygments_lexer": "ipython3",
      "version": "3.9.6"
    }
  },
  "nbformat": 4,
  "nbformat_minor": 5
}