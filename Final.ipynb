{
 "cells": [
  {
   "cell_type": "code",
   "execution_count": 16,
   "id": "b02e1e6e",
   "metadata": {},
   "outputs": [
    {
     "name": "stdout",
     "output_type": "stream",
     "text": [
      "Loading data from: ['Musical_Instruments_5.json']\n",
      "\n",
      "filename             samples\n",
      "Musical_Instruments_5 231392 \n",
      "\n",
      "Data loaded, 231392 total samples.\n"
     ]
    }
   ],
   "source": [
    "from data import generate_dataframe\n",
    "\n",
    "df = generate_dataframe([\"Musical_Instruments_5.json\"])"
   ]
  },
  {
   "cell_type": "code",
   "execution_count": 17,
   "id": "1aaa8e89",
   "metadata": {},
   "outputs": [
    {
     "name": "stdout",
     "output_type": "stream",
     "text": [
      "Applying lowercase\n"
     ]
    },
    {
     "name": "stderr",
     "output_type": "stream",
     "text": [
      "231344it [00:00, 2641574.89it/s]\n"
     ]
    },
    {
     "name": "stdout",
     "output_type": "stream",
     "text": [
      "Applying remove_punctuation\n"
     ]
    },
    {
     "name": "stderr",
     "output_type": "stream",
     "text": [
      "231344it [00:01, 135578.18it/s]\n"
     ]
    },
    {
     "name": "stdout",
     "output_type": "stream",
     "text": [
      "Applying lemmatize\n"
     ]
    },
    {
     "name": "stderr",
     "output_type": "stream",
     "text": [
      "231344it [10:25, 369.97it/s] \n"
     ]
    }
   ],
   "source": [
    "from preprocessing import preprocess_samples\n",
    "from utils import get_product_reviews\n",
    "\n",
    "raw_corpus_samples = list(filter(lambda x: isinstance(x, str), df['reviewText']))\n",
    "corpus_samples = preprocess_samples(raw_corpus_samples)"
   ]
  },
  {
   "cell_type": "code",
   "execution_count": 19,
   "id": "06233b77",
   "metadata": {},
   "outputs": [
    {
     "name": "stdout",
     "output_type": "stream",
     "text": [
      "Applying lowercase\n"
     ]
    },
    {
     "name": "stderr",
     "output_type": "stream",
     "text": [
      "1879it [00:00, 2340688.21it/s]\n"
     ]
    },
    {
     "name": "stdout",
     "output_type": "stream",
     "text": [
      "Applying remove_punctuation\n"
     ]
    },
    {
     "name": "stderr",
     "output_type": "stream",
     "text": [
      "1879it [00:00, 197749.22it/s]\n"
     ]
    },
    {
     "name": "stdout",
     "output_type": "stream",
     "text": [
      "Applying lemmatize\n"
     ]
    },
    {
     "name": "stderr",
     "output_type": "stream",
     "text": [
      "1879it [00:03, 579.41it/s]\n"
     ]
    }
   ],
   "source": [
    "product_id = 'B0002E3CK4'\n",
    "raw_product_samples = get_product_reviews(df, product_id)\n",
    "product_samples = preprocess_samples(raw_product_samples)"
   ]
  },
  {
   "cell_type": "code",
   "execution_count": 14,
   "id": "ef7941a0",
   "metadata": {},
   "outputs": [
    {
     "name": "stdout",
     "output_type": "stream",
     "text": [
      "['clap along', 'pharrell williams', \"i'm clap\"]\n",
      "['like curtis mayfield', \"can't nothing bring\"]\n"
     ]
    }
   ],
   "source": [
    "import n_grams\n",
    "bigrams = n_grams.get_bigrams(product_samples, 10, 6)\n",
    "trigrams = n_grams.get_trigrams(product_samples, 2, 17)\n",
    "product_samples = n_grams.replace_n_grams(product_samples, bigrams, trigrams)\n",
    "\n",
    "print(bigrams[:10])\n",
    "print(trigrams[:10])"
   ]
  },
  {
   "cell_type": "code",
   "execution_count": 15,
   "id": "3813ddb9",
   "metadata": {},
   "outputs": [
    {
     "name": "stdout",
     "output_type": "stream",
     "text": [
      "Loading pretrained vectorizer...\n"
     ]
    },
    {
     "data": {
      "text/html": [
       "<style>#sk-container-id-1 {color: black;background-color: white;}#sk-container-id-1 pre{padding: 0;}#sk-container-id-1 div.sk-toggleable {background-color: white;}#sk-container-id-1 label.sk-toggleable__label {cursor: pointer;display: block;width: 100%;margin-bottom: 0;padding: 0.3em;box-sizing: border-box;text-align: center;}#sk-container-id-1 label.sk-toggleable__label-arrow:before {content: \"▸\";float: left;margin-right: 0.25em;color: #696969;}#sk-container-id-1 label.sk-toggleable__label-arrow:hover:before {color: black;}#sk-container-id-1 div.sk-estimator:hover label.sk-toggleable__label-arrow:before {color: black;}#sk-container-id-1 div.sk-toggleable__content {max-height: 0;max-width: 0;overflow: hidden;text-align: left;background-color: #f0f8ff;}#sk-container-id-1 div.sk-toggleable__content pre {margin: 0.2em;color: black;border-radius: 0.25em;background-color: #f0f8ff;}#sk-container-id-1 input.sk-toggleable__control:checked~div.sk-toggleable__content {max-height: 200px;max-width: 100%;overflow: auto;}#sk-container-id-1 input.sk-toggleable__control:checked~label.sk-toggleable__label-arrow:before {content: \"▾\";}#sk-container-id-1 div.sk-estimator input.sk-toggleable__control:checked~label.sk-toggleable__label {background-color: #d4ebff;}#sk-container-id-1 div.sk-label input.sk-toggleable__control:checked~label.sk-toggleable__label {background-color: #d4ebff;}#sk-container-id-1 input.sk-hidden--visually {border: 0;clip: rect(1px 1px 1px 1px);clip: rect(1px, 1px, 1px, 1px);height: 1px;margin: -1px;overflow: hidden;padding: 0;position: absolute;width: 1px;}#sk-container-id-1 div.sk-estimator {font-family: monospace;background-color: #f0f8ff;border: 1px dotted black;border-radius: 0.25em;box-sizing: border-box;margin-bottom: 0.5em;}#sk-container-id-1 div.sk-estimator:hover {background-color: #d4ebff;}#sk-container-id-1 div.sk-parallel-item::after {content: \"\";width: 100%;border-bottom: 1px solid gray;flex-grow: 1;}#sk-container-id-1 div.sk-label:hover label.sk-toggleable__label {background-color: #d4ebff;}#sk-container-id-1 div.sk-serial::before {content: \"\";position: absolute;border-left: 1px solid gray;box-sizing: border-box;top: 0;bottom: 0;left: 50%;z-index: 0;}#sk-container-id-1 div.sk-serial {display: flex;flex-direction: column;align-items: center;background-color: white;padding-right: 0.2em;padding-left: 0.2em;position: relative;}#sk-container-id-1 div.sk-item {position: relative;z-index: 1;}#sk-container-id-1 div.sk-parallel {display: flex;align-items: stretch;justify-content: center;background-color: white;position: relative;}#sk-container-id-1 div.sk-item::before, #sk-container-id-1 div.sk-parallel-item::before {content: \"\";position: absolute;border-left: 1px solid gray;box-sizing: border-box;top: 0;bottom: 0;left: 50%;z-index: -1;}#sk-container-id-1 div.sk-parallel-item {display: flex;flex-direction: column;z-index: 1;position: relative;background-color: white;}#sk-container-id-1 div.sk-parallel-item:first-child::after {align-self: flex-end;width: 50%;}#sk-container-id-1 div.sk-parallel-item:last-child::after {align-self: flex-start;width: 50%;}#sk-container-id-1 div.sk-parallel-item:only-child::after {width: 0;}#sk-container-id-1 div.sk-dashed-wrapped {border: 1px dashed gray;margin: 0 0.4em 0.5em 0.4em;box-sizing: border-box;padding-bottom: 0.4em;background-color: white;}#sk-container-id-1 div.sk-label label {font-family: monospace;font-weight: bold;display: inline-block;line-height: 1.2em;}#sk-container-id-1 div.sk-label-container {text-align: center;}#sk-container-id-1 div.sk-container {/* jupyter's `normalize.less` sets `[hidden] { display: none; }` but bootstrap.min.css set `[hidden] { display: none !important; }` so we also need the `!important` here to be able to override the default hidden behavior on the sphinx rendered scikit-learn.org. See: https://github.com/scikit-learn/scikit-learn/issues/21755 */display: inline-block !important;position: relative;}#sk-container-id-1 div.sk-text-repr-fallback {display: none;}</style><div id=\"sk-container-id-1\" class=\"sk-top-container\"><div class=\"sk-text-repr-fallback\"><pre>CountVectorizer(max_df=0.01, max_features=1000, min_df=2, stop_words=&#x27;english&#x27;,\n",
       "                tokenizer=&lt;function word_tokenize at 0x16b1ad940&gt;)</pre><b>In a Jupyter environment, please rerun this cell to show the HTML representation or trust the notebook. <br />On GitHub, the HTML representation is unable to render, please try loading this page with nbviewer.org.</b></div><div class=\"sk-container\" hidden><div class=\"sk-item\"><div class=\"sk-estimator sk-toggleable\"><input class=\"sk-toggleable__control sk-hidden--visually\" id=\"sk-estimator-id-1\" type=\"checkbox\" checked><label for=\"sk-estimator-id-1\" class=\"sk-toggleable__label sk-toggleable__label-arrow\">CountVectorizer</label><div class=\"sk-toggleable__content\"><pre>CountVectorizer(max_df=0.01, max_features=1000, min_df=2, stop_words=&#x27;english&#x27;,\n",
       "                tokenizer=&lt;function word_tokenize at 0x16b1ad940&gt;)</pre></div></div></div></div></div>"
      ],
      "text/plain": [
       "CountVectorizer(max_df=0.01, max_features=1000, min_df=2, stop_words='english',\n",
       "                tokenizer=<function word_tokenize at 0x16b1ad940>)"
      ]
     },
     "execution_count": 15,
     "metadata": {},
     "output_type": "execute_result"
    }
   ],
   "source": [
    "from nltk import word_tokenize\n",
    "import train\n",
    "tf_vectorizer = train.get_tf_vectorizer()\n",
    "tf_vectorizer.set_params(tokenizer=word_tokenize)"
   ]
  },
  {
   "cell_type": "code",
   "execution_count": 20,
   "id": "a015fd95",
   "metadata": {},
   "outputs": [],
   "source": [
    "product_documents = tf_vectorizer.fit_transform(product_samples)"
   ]
  },
  {
   "cell_type": "code",
   "execution_count": null,
   "id": "e95f6945",
   "metadata": {},
   "outputs": [
    {
     "name": "stderr",
     "output_type": "stream",
     "text": [
      "100%|███████████████████████████████████████████████████████████████████████████████████████████████████████| 1879/1879 [00:00<00:00, 3544.69it/s]\n",
      " 83%|███████████████████████████████████████████████████████████████████████████████████████▎                 | 1562/1879 [17:20<15:20,  2.90s/it]"
     ]
    }
   ],
   "source": [
    "import evaluation_metrics as em\n",
    "freqs = em.get_word_freqs(product_samples)\n",
    "bi_freqs = em.get_bi_freqs(product_samples)"
   ]
  },
  {
   "cell_type": "code",
   "execution_count": null,
   "id": "c2c87638",
   "metadata": {},
   "outputs": [],
   "source": [
    "import train\n",
    "# Compute topic coherence\n",
    "n_components = range(1,10)\n",
    "coherences = []\n",
    "num_docs = len(product_samples)\n",
    "\n",
    "for num in n_components:\n",
    "  lda = train.get_lda(samples=product_documents, n_components=num)\n",
    "  tf_feature_names = tf_vectorizer.get_feature_names_out()\n",
    "  coherence = em.avg_umass(lda, tf_feature_names, train.n_top_words, freqs, bi_freqs, num_docs)[1]\n",
    "  coherences.append(coherence)\n",
    "\n",
    "for i, c in enumerate(coherences):\n",
    "  print(\"Number of topics: \", n_components[i])\n",
    "  print(\"Average UMass coherence: \", c)\n",
    "  print()\n"
   ]
  },
  {
   "cell_type": "code",
   "execution_count": null,
   "id": "b0465768",
   "metadata": {},
   "outputs": [],
   "source": [
    "from utils import plot_top_words\n",
    "coherences = [abs(c) for c in coherences]\n",
    "n_components = n_components[coherences.index(min(coherences))]\n",
    "\n",
    "lda = train.get_lda(samples=product_documents, n_components=n_components)\n",
    "\n",
    "tf_feature_names = tf_vectorizer.get_feature_names_out()\n",
    "plot_top_words(lda, tf_feature_names, train.n_top_words, \"Topics in LDA model\")"
   ]
  }
 ],
 "metadata": {
  "kernelspec": {
   "display_name": "Python 3 (ipykernel)",
   "language": "python",
   "name": "python3"
  },
  "language_info": {
   "codemirror_mode": {
    "name": "ipython",
    "version": 3
   },
   "file_extension": ".py",
   "mimetype": "text/x-python",
   "name": "python",
   "nbconvert_exporter": "python",
   "pygments_lexer": "ipython3",
   "version": "3.9.6"
  }
 },
 "nbformat": 4,
 "nbformat_minor": 5
}
